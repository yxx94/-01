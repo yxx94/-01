{
 "cells": [
  {
   "cell_type": "markdown",
   "metadata": {},
   "source": [
    "### 盛菜装盘---结果导出"
   ]
  },
  {
   "cell_type": "markdown",
   "metadata": {},
   "source": [
    "#### 导出.excel文件"
   ]
  },
  {
   "cell_type": "markdown",
   "metadata": {},
   "source": [
    "##### 设置文件导出路径"
   ]
  },
  {
   "cell_type": "code",
   "execution_count": 1,
   "metadata": {},
   "outputs": [
    {
     "data": {
      "text/html": [
       "<div>\n",
       "<style scoped>\n",
       "    .dataframe tbody tr th:only-of-type {\n",
       "        vertical-align: middle;\n",
       "    }\n",
       "\n",
       "    .dataframe tbody tr th {\n",
       "        vertical-align: top;\n",
       "    }\n",
       "\n",
       "    .dataframe thead th {\n",
       "        text-align: right;\n",
       "    }\n",
       "</style>\n",
       "<table border=\"1\" class=\"dataframe\">\n",
       "  <thead>\n",
       "    <tr style=\"text-align: right;\">\n",
       "      <th></th>\n",
       "      <th>名次</th>\n",
       "      <th>姓名</th>\n",
       "      <th>学号</th>\n",
       "      <th>成绩</th>\n",
       "    </tr>\n",
       "  </thead>\n",
       "  <tbody>\n",
       "    <tr>\n",
       "      <td>0</td>\n",
       "      <td>1</td>\n",
       "      <td>小张</td>\n",
       "      <td>100</td>\n",
       "      <td>650</td>\n",
       "    </tr>\n",
       "    <tr>\n",
       "      <td>1</td>\n",
       "      <td>2</td>\n",
       "      <td>小李</td>\n",
       "      <td>101</td>\n",
       "      <td>600</td>\n",
       "    </tr>\n",
       "    <tr>\n",
       "      <td>2</td>\n",
       "      <td>3</td>\n",
       "      <td>小王</td>\n",
       "      <td>102</td>\n",
       "      <td>578</td>\n",
       "    </tr>\n",
       "    <tr>\n",
       "      <td>3</td>\n",
       "      <td>4</td>\n",
       "      <td>小赵</td>\n",
       "      <td>103</td>\n",
       "      <td>550</td>\n",
       "    </tr>\n",
       "  </tbody>\n",
       "</table>\n",
       "</div>"
      ],
      "text/plain": [
       "   名次  姓名   学号   成绩\n",
       "0   1  小张  100  650\n",
       "1   2  小李  101  600\n",
       "2   3  小王  102  578\n",
       "3   4  小赵  103  550"
      ]
     },
     "execution_count": 1,
     "metadata": {},
     "output_type": "execute_result"
    }
   ],
   "source": [
    "import pandas as pd\n",
    "df=pd.read_table(r\".\\file\\test_11.txt\",sep=\" \",encoding=\"utf-8\")\n",
    "df"
   ]
  },
  {
   "cell_type": "code",
   "execution_count": 5,
   "metadata": {},
   "outputs": [],
   "source": [
    "df.to_excel(excel_writer=r\"C:\\Users\\yxx\\Desktop\\ing\\测试.xlsx\")  # excel_writer 的值来实现"
   ]
  },
  {
   "cell_type": "markdown",
   "metadata": {},
   "source": [
    "#####  设置sheet名称"
   ]
  },
  {
   "cell_type": "code",
   "execution_count": 6,
   "metadata": {},
   "outputs": [],
   "source": [
    "df.to_excel(excel_writer=r\"C:\\Users\\yxx\\Desktop\\ing\\测试.xlsx\",sheet_name=\"测试文档\")"
   ]
  },
  {
   "cell_type": "markdown",
   "metadata": {},
   "source": [
    "##### 设置索引"
   ]
  },
  {
   "cell_type": "code",
   "execution_count": 7,
   "metadata": {},
   "outputs": [],
   "source": [
    "# index 索引使用的是从 0开始的默认自然数索引，这种索引没有意义，设置参数index=False 就可以在导出时把这种索引去掉\n",
    "df.to_excel(excel_writer=r\"C:\\Users\\yxx\\Desktop\\ing\\测试.xlsx\",sheet_name=\"测试文档\",index=False)"
   ]
  },
  {
   "cell_type": "markdown",
   "metadata": {},
   "source": [
    "##### 设置要导出的列"
   ]
  },
  {
   "cell_type": "code",
   "execution_count": 8,
   "metadata": {},
   "outputs": [],
   "source": [
    "df.to_excel(excel_writer=r\"C:\\Users\\yxx\\Desktop\\ing\\测试.xlsx\",sheet_name=\"测试文档\",index=False,columns=[\"名次\",\"姓名\"])"
   ]
  },
  {
   "cell_type": "markdown",
   "metadata": {},
   "source": [
    "##### 设置编码格式"
   ]
  },
  {
   "cell_type": "code",
   "execution_count": 9,
   "metadata": {},
   "outputs": [],
   "source": [
    "df.to_excel(excel_writer=r\"C:\\Users\\yxx\\Desktop\\ing\\导出文档.xlsx\",sheet_name=\"测试文档\",index=False,encoding=\"utf-8\")"
   ]
  },
  {
   "cell_type": "markdown",
   "metadata": {},
   "source": [
    "#####  缺失值处理"
   ]
  },
  {
   "cell_type": "code",
   "execution_count": 11,
   "metadata": {},
   "outputs": [],
   "source": [
    "df.to_excel(excel_writer=r\"C:\\Users\\yxx\\Desktop\\ing\\测试.xlsx\",sheet_name=\"测试文档\",index=False,encoding=\"utf-8\",na_rep=0 )\n",
    "# 缺失值填充为 0"
   ]
  },
  {
   "cell_type": "markdown",
   "metadata": {},
   "source": [
    "##### 无穷值处理"
   ]
  },
  {
   "cell_type": "code",
   "execution_count": 13,
   "metadata": {},
   "outputs": [],
   "source": [
    "df.to_excel(excel_writer=r\"C:\\Users\\yxx\\Desktop\\ing\\测试.xlsx\",sheet_name=\"测试文档\",index=False,encoding=\"utf-8\",na_rep=0,inf_rep=0)\n",
    "# 缺失值填充为 0\n",
    "# inf_rep=0 无穷值填充为 0"
   ]
  },
  {
   "cell_type": "markdown",
   "metadata": {},
   "source": [
    "#### 导出为.csv文件"
   ]
  },
  {
   "cell_type": "code",
   "execution_count": 16,
   "metadata": {},
   "outputs": [],
   "source": [
    "df.to_csv(path_or_buf=r\"C:\\Users\\yxx\\Desktop\\ing\\测试2.csv\")  # 导出的路径通过path_or_buf参数来设置"
   ]
  },
  {
   "cell_type": "markdown",
   "metadata": {},
   "source": [
    "##### 设置索引"
   ]
  },
  {
   "cell_type": "code",
   "execution_count": 17,
   "metadata": {},
   "outputs": [],
   "source": [
    "df.to_csv(path_or_buf=r\"C:\\Users\\yxx\\Desktop\\ing\\测试2.csv\",index=False) "
   ]
  },
  {
   "cell_type": "markdown",
   "metadata": {},
   "source": [
    "##### 设置导出的列"
   ]
  },
  {
   "cell_type": "code",
   "execution_count": 18,
   "metadata": {},
   "outputs": [],
   "source": [
    "# 默认使用逗号分隔，常用的分隔符号有空格，制表符，分号等，使用sep参数来设置分隔符号\n",
    "df.to_csv(path_or_buf=r\"C:\\Users\\yxx\\Desktop\\ing\\测试2.csv\",index=False,columns=[\"姓名\",\"成绩\"],sep=\",\") "
   ]
  },
  {
   "cell_type": "markdown",
   "metadata": {},
   "source": [
    "##### 缺失值处理"
   ]
  },
  {
   "cell_type": "code",
   "execution_count": 19,
   "metadata": {},
   "outputs": [],
   "source": [
    "df.to_csv(path_or_buf=r\"C:\\Users\\yxx\\Desktop\\ing\\测试2.csv\",index=False,columns=[\"姓名\",\"成绩\"],sep=\",\",na_rep=0) "
   ]
  },
  {
   "cell_type": "markdown",
   "metadata": {},
   "source": [
    "##### 设置编码格式"
   ]
  },
  {
   "cell_type": "raw",
   "metadata": {},
   "source": [
    "使用默认的UTF-8，导出的文件在本地电脑打开后会中文乱码，所以一般使用utf-8-sig 或者 gbk编码"
   ]
  },
  {
   "cell_type": "code",
   "execution_count": 20,
   "metadata": {},
   "outputs": [],
   "source": [
    "df.to_csv(path_or_buf=r\"C:\\Users\\yxx\\Desktop\\ing\\测试2.csv\",index=False,columns=[\"姓名\",\"成绩\"],sep=\",\",na_rep=0,encoding=\"utf-8-sig\") "
   ]
  },
  {
   "cell_type": "markdown",
   "metadata": {},
   "source": [
    "#### 将文件导出到多个Sheet"
   ]
  },
  {
   "cell_type": "raw",
   "metadata": {},
   "source": [
    "有时候一个脚本会生成多个文件，可以将多个文件分别导出成多个文件，也可以将多个文件放入一个文件的不同sheet中，这时候要使用ExcelWriter()函数将多个文件分别导出到不同的sheet中"
   ]
  },
  {
   "cell_type": "code",
   "execution_count": 30,
   "metadata": {},
   "outputs": [],
   "source": [
    "# 声明一个读写对象\n",
    "#excelpath为文件要存放的路径\n",
    "# writer=pd.ExcelWriter(excelpath,engine=\"xlsxwriter\")\n",
    "df2=pd.read_table(r\".\\file\\fenzu.txt\",sep=\" \",encoding=\"utf-8\")\n",
    "writer=pd.ExcelWriter(r\"C:\\Users\\yxx\\Desktop\\ing\\测试2.xlsx\",engine=\"xlsxwriter\")"
   ]
  },
  {
   "cell_type": "code",
   "execution_count": 31,
   "metadata": {},
   "outputs": [],
   "source": [
    "df.to_excel(writer,sheet_name=\"表1\",index=False)\n",
    "df2.to_excel(writer,sheet_name=\"表2\",index=False)\n",
    "# 保存读写的内容\n",
    "writer.save()"
   ]
  }
 ],
 "metadata": {
  "kernelspec": {
   "display_name": "Python 3",
   "language": "python",
   "name": "python3"
  },
  "language_info": {
   "codemirror_mode": {
    "name": "ipython",
    "version": 3
   },
   "file_extension": ".py",
   "mimetype": "text/x-python",
   "name": "python",
   "nbconvert_exporter": "python",
   "pygments_lexer": "ipython3",
   "version": "3.7.3"
  },
  "toc": {
   "base_numbering": 1,
   "nav_menu": {},
   "number_sections": true,
   "sideBar": true,
   "skip_h1_title": false,
   "title_cell": "Table of Contents",
   "title_sidebar": "Contents",
   "toc_cell": false,
   "toc_position": {},
   "toc_section_display": true,
   "toc_window_display": false
  }
 },
 "nbformat": 4,
 "nbformat_minor": 2
}
