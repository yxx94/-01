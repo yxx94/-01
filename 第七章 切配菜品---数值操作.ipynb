{
 "cells": [
  {
   "cell_type": "markdown",
   "metadata": {},
   "source": [
    "### 切配菜品---数值操作"
   ]
  },
  {
   "cell_type": "markdown",
   "metadata": {},
   "source": [
    "#### 数值替换"
   ]
  },
  {
   "cell_type": "raw",
   "metadata": {},
   "source": [
    "一对一替换：就是将某一区域中的一个值全部替换成另外一个值\n",
    "在python中对某个值进行替换利用的是 replace()方法，replace(A,B),表示将A替换成B\n",
    "df[\"年龄\"].replace(240,35,inplace=True)"
   ]
  },
  {
   "cell_type": "code",
   "execution_count": 1,
   "metadata": {},
   "outputs": [
    {
     "data": {
      "text/html": [
       "<div>\n",
       "<style scoped>\n",
       "    .dataframe tbody tr th:only-of-type {\n",
       "        vertical-align: middle;\n",
       "    }\n",
       "\n",
       "    .dataframe tbody tr th {\n",
       "        vertical-align: top;\n",
       "    }\n",
       "\n",
       "    .dataframe thead th {\n",
       "        text-align: right;\n",
       "    }\n",
       "</style>\n",
       "<table border=\"1\" class=\"dataframe\">\n",
       "  <thead>\n",
       "    <tr style=\"text-align: right;\">\n",
       "      <th></th>\n",
       "      <th>订单编号</th>\n",
       "      <th>客户姓名</th>\n",
       "      <th>年龄</th>\n",
       "      <th>唯一识别码</th>\n",
       "      <th>成交时间</th>\n",
       "      <th>销售id</th>\n",
       "    </tr>\n",
       "  </thead>\n",
       "  <tbody>\n",
       "    <tr>\n",
       "      <td>0</td>\n",
       "      <td>A1</td>\n",
       "      <td>张三</td>\n",
       "      <td>50</td>\n",
       "      <td>101</td>\n",
       "      <td>2019-01-02</td>\n",
       "      <td>1.0</td>\n",
       "    </tr>\n",
       "    <tr>\n",
       "      <td>1</td>\n",
       "      <td>A2</td>\n",
       "      <td>李四</td>\n",
       "      <td>38</td>\n",
       "      <td>102</td>\n",
       "      <td>2019-02-03</td>\n",
       "      <td>4.0</td>\n",
       "    </tr>\n",
       "    <tr>\n",
       "      <td>2</td>\n",
       "      <td>A3</td>\n",
       "      <td>王五</td>\n",
       "      <td>29</td>\n",
       "      <td>105</td>\n",
       "      <td>2019-03-01</td>\n",
       "      <td>6.0</td>\n",
       "    </tr>\n",
       "    <tr>\n",
       "      <td>3</td>\n",
       "      <td>A2</td>\n",
       "      <td>李四</td>\n",
       "      <td>46</td>\n",
       "      <td>102</td>\n",
       "      <td>2019-02-03</td>\n",
       "      <td>NaN</td>\n",
       "    </tr>\n",
       "  </tbody>\n",
       "</table>\n",
       "</div>"
      ],
      "text/plain": [
       "  订单编号 客户姓名  年龄  唯一识别码        成交时间  销售id\n",
       "0   A1   张三  50    101  2019-01-02   1.0\n",
       "1   A2   李四  38    102  2019-02-03   4.0\n",
       "2   A3   王五  29    105  2019-03-01   6.0\n",
       "3   A2   李四  46    102  2019-02-03   NaN"
      ]
     },
     "execution_count": 1,
     "metadata": {},
     "output_type": "execute_result"
    }
   ],
   "source": [
    "import pandas as pd\n",
    "import numpy as np\n",
    "df2=pd.read_table(r\".\\file\\test.txt\",sep=\" \",encoding=\"utf-8\")\n",
    "df2"
   ]
  },
  {
   "cell_type": "code",
   "execution_count": 2,
   "metadata": {},
   "outputs": [
    {
     "data": {
      "text/html": [
       "<div>\n",
       "<style scoped>\n",
       "    .dataframe tbody tr th:only-of-type {\n",
       "        vertical-align: middle;\n",
       "    }\n",
       "\n",
       "    .dataframe tbody tr th {\n",
       "        vertical-align: top;\n",
       "    }\n",
       "\n",
       "    .dataframe thead th {\n",
       "        text-align: right;\n",
       "    }\n",
       "</style>\n",
       "<table border=\"1\" class=\"dataframe\">\n",
       "  <thead>\n",
       "    <tr style=\"text-align: right;\">\n",
       "      <th></th>\n",
       "      <th>订单编号</th>\n",
       "      <th>客户姓名</th>\n",
       "      <th>年龄</th>\n",
       "      <th>唯一识别码</th>\n",
       "      <th>成交时间</th>\n",
       "      <th>销售id</th>\n",
       "    </tr>\n",
       "  </thead>\n",
       "  <tbody>\n",
       "    <tr>\n",
       "      <td>0</td>\n",
       "      <td>A1</td>\n",
       "      <td>张三</td>\n",
       "      <td>50</td>\n",
       "      <td>101</td>\n",
       "      <td>2019-01-02</td>\n",
       "      <td>1.0</td>\n",
       "    </tr>\n",
       "    <tr>\n",
       "      <td>1</td>\n",
       "      <td>A2</td>\n",
       "      <td>李四</td>\n",
       "      <td>38</td>\n",
       "      <td>1002</td>\n",
       "      <td>2019-02-03</td>\n",
       "      <td>4.0</td>\n",
       "    </tr>\n",
       "    <tr>\n",
       "      <td>2</td>\n",
       "      <td>A3</td>\n",
       "      <td>王五</td>\n",
       "      <td>29</td>\n",
       "      <td>105</td>\n",
       "      <td>2019-03-01</td>\n",
       "      <td>6.0</td>\n",
       "    </tr>\n",
       "    <tr>\n",
       "      <td>3</td>\n",
       "      <td>A2</td>\n",
       "      <td>李四</td>\n",
       "      <td>46</td>\n",
       "      <td>1002</td>\n",
       "      <td>2019-02-03</td>\n",
       "      <td>NaN</td>\n",
       "    </tr>\n",
       "  </tbody>\n",
       "</table>\n",
       "</div>"
      ],
      "text/plain": [
       "  订单编号 客户姓名  年龄  唯一识别码        成交时间  销售id\n",
       "0   A1   张三  50    101  2019-01-02   1.0\n",
       "1   A2   李四  38   1002  2019-02-03   4.0\n",
       "2   A3   王五  29    105  2019-03-01   6.0\n",
       "3   A2   李四  46   1002  2019-02-03   NaN"
      ]
     },
     "execution_count": 2,
     "metadata": {},
     "output_type": "execute_result"
    }
   ],
   "source": [
    "df2[\"唯一识别码\"].replace(102,1002,inplace=True)\n",
    "df2"
   ]
  },
  {
   "cell_type": "raw",
   "metadata": {},
   "source": [
    "有时候需要对整个表进行替换，比如对全表中的缺失值进行替换，这个时候replace方法相当于fillna()方法；\n",
    "np.NaN是python中对缺失值的一种表示方法"
   ]
  },
  {
   "cell_type": "code",
   "execution_count": 3,
   "metadata": {},
   "outputs": [
    {
     "data": {
      "text/html": [
       "<div>\n",
       "<style scoped>\n",
       "    .dataframe tbody tr th:only-of-type {\n",
       "        vertical-align: middle;\n",
       "    }\n",
       "\n",
       "    .dataframe tbody tr th {\n",
       "        vertical-align: top;\n",
       "    }\n",
       "\n",
       "    .dataframe thead th {\n",
       "        text-align: right;\n",
       "    }\n",
       "</style>\n",
       "<table border=\"1\" class=\"dataframe\">\n",
       "  <thead>\n",
       "    <tr style=\"text-align: right;\">\n",
       "      <th></th>\n",
       "      <th>订单编号</th>\n",
       "      <th>客户姓名</th>\n",
       "      <th>年龄</th>\n",
       "      <th>唯一识别码</th>\n",
       "      <th>成交时间</th>\n",
       "      <th>销售id</th>\n",
       "    </tr>\n",
       "  </thead>\n",
       "  <tbody>\n",
       "    <tr>\n",
       "      <td>0</td>\n",
       "      <td>A1</td>\n",
       "      <td>张三</td>\n",
       "      <td>50</td>\n",
       "      <td>101</td>\n",
       "      <td>2019-01-02</td>\n",
       "      <td>1.0</td>\n",
       "    </tr>\n",
       "    <tr>\n",
       "      <td>1</td>\n",
       "      <td>A2</td>\n",
       "      <td>李四</td>\n",
       "      <td>38</td>\n",
       "      <td>1002</td>\n",
       "      <td>2019-02-03</td>\n",
       "      <td>4.0</td>\n",
       "    </tr>\n",
       "    <tr>\n",
       "      <td>2</td>\n",
       "      <td>A3</td>\n",
       "      <td>王五</td>\n",
       "      <td>29</td>\n",
       "      <td>105</td>\n",
       "      <td>2019-03-01</td>\n",
       "      <td>6.0</td>\n",
       "    </tr>\n",
       "    <tr>\n",
       "      <td>3</td>\n",
       "      <td>A2</td>\n",
       "      <td>李四</td>\n",
       "      <td>46</td>\n",
       "      <td>1002</td>\n",
       "      <td>2019-02-03</td>\n",
       "      <td>0.0</td>\n",
       "    </tr>\n",
       "  </tbody>\n",
       "</table>\n",
       "</div>"
      ],
      "text/plain": [
       "  订单编号 客户姓名  年龄  唯一识别码        成交时间  销售id\n",
       "0   A1   张三  50    101  2019-01-02   1.0\n",
       "1   A2   李四  38   1002  2019-02-03   4.0\n",
       "2   A3   王五  29    105  2019-03-01   6.0\n",
       "3   A2   李四  46   1002  2019-02-03   0.0"
      ]
     },
     "execution_count": 3,
     "metadata": {},
     "output_type": "execute_result"
    }
   ],
   "source": [
    "df2.replace(np.NaN,0)   # 因为没有 为 NaN 的值所以替换不了"
   ]
  },
  {
   "cell_type": "raw",
   "metadata": {},
   "source": [
    "多对一的替换：把一块区域中的多个值替换成某一个值，eg:把年龄的3个异常值（240,260,280），替换成正常值的平均值 33\n",
    "采用replace([A,B],C)表示 将 A，B 替换成 C"
   ]
  },
  {
   "cell_type": "code",
   "execution_count": 4,
   "metadata": {},
   "outputs": [
    {
     "data": {
      "text/html": [
       "<div>\n",
       "<style scoped>\n",
       "    .dataframe tbody tr th:only-of-type {\n",
       "        vertical-align: middle;\n",
       "    }\n",
       "\n",
       "    .dataframe tbody tr th {\n",
       "        vertical-align: top;\n",
       "    }\n",
       "\n",
       "    .dataframe thead th {\n",
       "        text-align: right;\n",
       "    }\n",
       "</style>\n",
       "<table border=\"1\" class=\"dataframe\">\n",
       "  <thead>\n",
       "    <tr style=\"text-align: right;\">\n",
       "      <th></th>\n",
       "      <th>订单编号</th>\n",
       "      <th>客户姓名</th>\n",
       "      <th>年龄</th>\n",
       "      <th>唯一识别码</th>\n",
       "      <th>成交时间</th>\n",
       "      <th>销售id</th>\n",
       "    </tr>\n",
       "  </thead>\n",
       "  <tbody>\n",
       "    <tr>\n",
       "      <td>0</td>\n",
       "      <td>A1</td>\n",
       "      <td>张三</td>\n",
       "      <td>50</td>\n",
       "      <td>1004</td>\n",
       "      <td>2019-01-02</td>\n",
       "      <td>1.0</td>\n",
       "    </tr>\n",
       "    <tr>\n",
       "      <td>1</td>\n",
       "      <td>A2</td>\n",
       "      <td>李四</td>\n",
       "      <td>38</td>\n",
       "      <td>1002</td>\n",
       "      <td>2019-02-03</td>\n",
       "      <td>4.0</td>\n",
       "    </tr>\n",
       "    <tr>\n",
       "      <td>2</td>\n",
       "      <td>A3</td>\n",
       "      <td>王五</td>\n",
       "      <td>29</td>\n",
       "      <td>1004</td>\n",
       "      <td>2019-03-01</td>\n",
       "      <td>6.0</td>\n",
       "    </tr>\n",
       "    <tr>\n",
       "      <td>3</td>\n",
       "      <td>A2</td>\n",
       "      <td>李四</td>\n",
       "      <td>46</td>\n",
       "      <td>1002</td>\n",
       "      <td>2019-02-03</td>\n",
       "      <td>NaN</td>\n",
       "    </tr>\n",
       "  </tbody>\n",
       "</table>\n",
       "</div>"
      ],
      "text/plain": [
       "  订单编号 客户姓名  年龄  唯一识别码        成交时间  销售id\n",
       "0   A1   张三  50   1004  2019-01-02   1.0\n",
       "1   A2   李四  38   1002  2019-02-03   4.0\n",
       "2   A3   王五  29   1004  2019-03-01   6.0\n",
       "3   A2   李四  46   1002  2019-02-03   NaN"
      ]
     },
     "execution_count": 4,
     "metadata": {},
     "output_type": "execute_result"
    }
   ],
   "source": [
    "df2.replace([101,105],1004)"
   ]
  },
  {
   "cell_type": "raw",
   "metadata": {},
   "source": [
    "多对多的替换：就是将某个区域中多个一对一的替换。\n",
    "采用的方法是：replace({\"A\":\"a\",\"B\":\"b\"}) 用a替换A,用b替换B"
   ]
  },
  {
   "cell_type": "code",
   "execution_count": 5,
   "metadata": {},
   "outputs": [
    {
     "data": {
      "text/html": [
       "<div>\n",
       "<style scoped>\n",
       "    .dataframe tbody tr th:only-of-type {\n",
       "        vertical-align: middle;\n",
       "    }\n",
       "\n",
       "    .dataframe tbody tr th {\n",
       "        vertical-align: top;\n",
       "    }\n",
       "\n",
       "    .dataframe thead th {\n",
       "        text-align: right;\n",
       "    }\n",
       "</style>\n",
       "<table border=\"1\" class=\"dataframe\">\n",
       "  <thead>\n",
       "    <tr style=\"text-align: right;\">\n",
       "      <th></th>\n",
       "      <th>订单编号</th>\n",
       "      <th>客户姓名</th>\n",
       "      <th>年龄</th>\n",
       "      <th>唯一识别码</th>\n",
       "      <th>成交时间</th>\n",
       "      <th>销售id</th>\n",
       "    </tr>\n",
       "  </thead>\n",
       "  <tbody>\n",
       "    <tr>\n",
       "      <td>0</td>\n",
       "      <td>A1</td>\n",
       "      <td>张三</td>\n",
       "      <td>50</td>\n",
       "      <td>1001</td>\n",
       "      <td>2019-01-02</td>\n",
       "      <td>1.0</td>\n",
       "    </tr>\n",
       "    <tr>\n",
       "      <td>1</td>\n",
       "      <td>A2</td>\n",
       "      <td>李四</td>\n",
       "      <td>38</td>\n",
       "      <td>1002</td>\n",
       "      <td>2019-02-03</td>\n",
       "      <td>4.0</td>\n",
       "    </tr>\n",
       "    <tr>\n",
       "      <td>2</td>\n",
       "      <td>A3</td>\n",
       "      <td>王五</td>\n",
       "      <td>29</td>\n",
       "      <td>1005</td>\n",
       "      <td>2019-03-01</td>\n",
       "      <td>6.0</td>\n",
       "    </tr>\n",
       "    <tr>\n",
       "      <td>3</td>\n",
       "      <td>A2</td>\n",
       "      <td>李四</td>\n",
       "      <td>46</td>\n",
       "      <td>1002</td>\n",
       "      <td>2019-02-03</td>\n",
       "      <td>NaN</td>\n",
       "    </tr>\n",
       "  </tbody>\n",
       "</table>\n",
       "</div>"
      ],
      "text/plain": [
       "  订单编号 客户姓名  年龄  唯一识别码        成交时间  销售id\n",
       "0   A1   张三  50   1001  2019-01-02   1.0\n",
       "1   A2   李四  38   1002  2019-02-03   4.0\n",
       "2   A3   王五  29   1005  2019-03-01   6.0\n",
       "3   A2   李四  46   1002  2019-02-03   NaN"
      ]
     },
     "execution_count": 5,
     "metadata": {},
     "output_type": "execute_result"
    }
   ],
   "source": [
    "df2.replace({101:1001,102:1002,105:1005})"
   ]
  },
  {
   "cell_type": "markdown",
   "metadata": {},
   "source": [
    "#### 数值的排序"
   ]
  },
  {
   "cell_type": "raw",
   "metadata": {},
   "source": [
    "按照一列数值进行排序：\n",
    "  就是将整个数据表都以某一列为准，进行升序或降序排序。\n",
    "  采用的方法是：sort_values()方法，在此函数中要指明sort_values后的括号中指明要排序的列名，以及升序或者降序\n",
    "  df.sort_values(by=[\"coll\"],ascending=False)\n",
    "  表示df表按照coll列进行排序，ascending=False表示按照coll列进行降序排序，ascending参数默认是Ture,表示升序"
   ]
  },
  {
   "cell_type": "code",
   "execution_count": 6,
   "metadata": {},
   "outputs": [
    {
     "data": {
      "text/html": [
       "<div>\n",
       "<style scoped>\n",
       "    .dataframe tbody tr th:only-of-type {\n",
       "        vertical-align: middle;\n",
       "    }\n",
       "\n",
       "    .dataframe tbody tr th {\n",
       "        vertical-align: top;\n",
       "    }\n",
       "\n",
       "    .dataframe thead th {\n",
       "        text-align: right;\n",
       "    }\n",
       "</style>\n",
       "<table border=\"1\" class=\"dataframe\">\n",
       "  <thead>\n",
       "    <tr style=\"text-align: right;\">\n",
       "      <th></th>\n",
       "      <th>订单编号</th>\n",
       "      <th>客户姓名</th>\n",
       "      <th>年龄</th>\n",
       "      <th>唯一识别码</th>\n",
       "      <th>成交时间</th>\n",
       "      <th>销售id</th>\n",
       "    </tr>\n",
       "  </thead>\n",
       "  <tbody>\n",
       "    <tr>\n",
       "      <td>0</td>\n",
       "      <td>A1</td>\n",
       "      <td>张三</td>\n",
       "      <td>50</td>\n",
       "      <td>101</td>\n",
       "      <td>2019-01-02</td>\n",
       "      <td>1.0</td>\n",
       "    </tr>\n",
       "    <tr>\n",
       "      <td>1</td>\n",
       "      <td>A2</td>\n",
       "      <td>李四</td>\n",
       "      <td>38</td>\n",
       "      <td>1002</td>\n",
       "      <td>2019-02-03</td>\n",
       "      <td>4.0</td>\n",
       "    </tr>\n",
       "    <tr>\n",
       "      <td>3</td>\n",
       "      <td>A2</td>\n",
       "      <td>李四</td>\n",
       "      <td>46</td>\n",
       "      <td>1002</td>\n",
       "      <td>2019-02-03</td>\n",
       "      <td>NaN</td>\n",
       "    </tr>\n",
       "    <tr>\n",
       "      <td>2</td>\n",
       "      <td>A3</td>\n",
       "      <td>王五</td>\n",
       "      <td>29</td>\n",
       "      <td>105</td>\n",
       "      <td>2019-03-01</td>\n",
       "      <td>6.0</td>\n",
       "    </tr>\n",
       "  </tbody>\n",
       "</table>\n",
       "</div>"
      ],
      "text/plain": [
       "  订单编号 客户姓名  年龄  唯一识别码        成交时间  销售id\n",
       "0   A1   张三  50    101  2019-01-02   1.0\n",
       "1   A2   李四  38   1002  2019-02-03   4.0\n",
       "3   A2   李四  46   1002  2019-02-03   NaN\n",
       "2   A3   王五  29    105  2019-03-01   6.0"
      ]
     },
     "execution_count": 6,
     "metadata": {},
     "output_type": "execute_result"
    }
   ],
   "source": [
    "df2.sort_values(by=[\"订单编号\"])"
   ]
  },
  {
   "cell_type": "code",
   "execution_count": 7,
   "metadata": {},
   "outputs": [
    {
     "data": {
      "text/html": [
       "<div>\n",
       "<style scoped>\n",
       "    .dataframe tbody tr th:only-of-type {\n",
       "        vertical-align: middle;\n",
       "    }\n",
       "\n",
       "    .dataframe tbody tr th {\n",
       "        vertical-align: top;\n",
       "    }\n",
       "\n",
       "    .dataframe thead th {\n",
       "        text-align: right;\n",
       "    }\n",
       "</style>\n",
       "<table border=\"1\" class=\"dataframe\">\n",
       "  <thead>\n",
       "    <tr style=\"text-align: right;\">\n",
       "      <th></th>\n",
       "      <th>订单编号</th>\n",
       "      <th>客户姓名</th>\n",
       "      <th>年龄</th>\n",
       "      <th>唯一识别码</th>\n",
       "      <th>成交时间</th>\n",
       "      <th>销售id</th>\n",
       "    </tr>\n",
       "  </thead>\n",
       "  <tbody>\n",
       "    <tr>\n",
       "      <td>1</td>\n",
       "      <td>A2</td>\n",
       "      <td>李四</td>\n",
       "      <td>38</td>\n",
       "      <td>1002</td>\n",
       "      <td>2019-02-03</td>\n",
       "      <td>4.0</td>\n",
       "    </tr>\n",
       "    <tr>\n",
       "      <td>3</td>\n",
       "      <td>A2</td>\n",
       "      <td>李四</td>\n",
       "      <td>46</td>\n",
       "      <td>1002</td>\n",
       "      <td>2019-02-03</td>\n",
       "      <td>NaN</td>\n",
       "    </tr>\n",
       "    <tr>\n",
       "      <td>2</td>\n",
       "      <td>A3</td>\n",
       "      <td>王五</td>\n",
       "      <td>29</td>\n",
       "      <td>105</td>\n",
       "      <td>2019-03-01</td>\n",
       "      <td>6.0</td>\n",
       "    </tr>\n",
       "    <tr>\n",
       "      <td>0</td>\n",
       "      <td>A1</td>\n",
       "      <td>张三</td>\n",
       "      <td>50</td>\n",
       "      <td>101</td>\n",
       "      <td>2019-01-02</td>\n",
       "      <td>1.0</td>\n",
       "    </tr>\n",
       "  </tbody>\n",
       "</table>\n",
       "</div>"
      ],
      "text/plain": [
       "  订单编号 客户姓名  年龄  唯一识别码        成交时间  销售id\n",
       "1   A2   李四  38   1002  2019-02-03   4.0\n",
       "3   A2   李四  46   1002  2019-02-03   NaN\n",
       "2   A3   王五  29    105  2019-03-01   6.0\n",
       "0   A1   张三  50    101  2019-01-02   1.0"
      ]
     },
     "execution_count": 7,
     "metadata": {},
     "output_type": "execute_result"
    }
   ],
   "source": [
    "df2.sort_values(by=[\"唯一识别码\"],ascending=False)"
   ]
  },
  {
   "cell_type": "raw",
   "metadata": {},
   "source": [
    "按照有缺失值的列进行排序：\n",
    "  在python中，当待排序的列中有缺失值时，可以通过设置na_position参数对缺失值的显示位置进行设置，默认参数值为last，可以不写，表示将缺失值显示在最后面。"
   ]
  },
  {
   "cell_type": "code",
   "execution_count": 8,
   "metadata": {},
   "outputs": [
    {
     "data": {
      "text/html": [
       "<div>\n",
       "<style scoped>\n",
       "    .dataframe tbody tr th:only-of-type {\n",
       "        vertical-align: middle;\n",
       "    }\n",
       "\n",
       "    .dataframe tbody tr th {\n",
       "        vertical-align: top;\n",
       "    }\n",
       "\n",
       "    .dataframe thead th {\n",
       "        text-align: right;\n",
       "    }\n",
       "</style>\n",
       "<table border=\"1\" class=\"dataframe\">\n",
       "  <thead>\n",
       "    <tr style=\"text-align: right;\">\n",
       "      <th></th>\n",
       "      <th>订单编号</th>\n",
       "      <th>客户姓名</th>\n",
       "      <th>年龄</th>\n",
       "      <th>唯一识别码</th>\n",
       "      <th>成交时间</th>\n",
       "      <th>销售id</th>\n",
       "    </tr>\n",
       "  </thead>\n",
       "  <tbody>\n",
       "    <tr>\n",
       "      <td>0</td>\n",
       "      <td>A1</td>\n",
       "      <td>张三</td>\n",
       "      <td>50</td>\n",
       "      <td>101</td>\n",
       "      <td>2019-01-02</td>\n",
       "      <td>1.0</td>\n",
       "    </tr>\n",
       "    <tr>\n",
       "      <td>1</td>\n",
       "      <td>A2</td>\n",
       "      <td>李四</td>\n",
       "      <td>38</td>\n",
       "      <td>1002</td>\n",
       "      <td>2019-02-03</td>\n",
       "      <td>4.0</td>\n",
       "    </tr>\n",
       "    <tr>\n",
       "      <td>2</td>\n",
       "      <td>A3</td>\n",
       "      <td>王五</td>\n",
       "      <td>29</td>\n",
       "      <td>105</td>\n",
       "      <td>2019-03-01</td>\n",
       "      <td>6.0</td>\n",
       "    </tr>\n",
       "    <tr>\n",
       "      <td>3</td>\n",
       "      <td>A2</td>\n",
       "      <td>李四</td>\n",
       "      <td>46</td>\n",
       "      <td>1002</td>\n",
       "      <td>2019-02-03</td>\n",
       "      <td>NaN</td>\n",
       "    </tr>\n",
       "  </tbody>\n",
       "</table>\n",
       "</div>"
      ],
      "text/plain": [
       "  订单编号 客户姓名  年龄  唯一识别码        成交时间  销售id\n",
       "0   A1   张三  50    101  2019-01-02   1.0\n",
       "1   A2   李四  38   1002  2019-02-03   4.0\n",
       "2   A3   王五  29    105  2019-03-01   6.0\n",
       "3   A2   李四  46   1002  2019-02-03   NaN"
      ]
     },
     "execution_count": 8,
     "metadata": {},
     "output_type": "execute_result"
    }
   ],
   "source": [
    "df2.sort_values(by=[\"销售id\"])"
   ]
  },
  {
   "cell_type": "code",
   "execution_count": 9,
   "metadata": {},
   "outputs": [
    {
     "data": {
      "text/html": [
       "<div>\n",
       "<style scoped>\n",
       "    .dataframe tbody tr th:only-of-type {\n",
       "        vertical-align: middle;\n",
       "    }\n",
       "\n",
       "    .dataframe tbody tr th {\n",
       "        vertical-align: top;\n",
       "    }\n",
       "\n",
       "    .dataframe thead th {\n",
       "        text-align: right;\n",
       "    }\n",
       "</style>\n",
       "<table border=\"1\" class=\"dataframe\">\n",
       "  <thead>\n",
       "    <tr style=\"text-align: right;\">\n",
       "      <th></th>\n",
       "      <th>订单编号</th>\n",
       "      <th>客户姓名</th>\n",
       "      <th>年龄</th>\n",
       "      <th>唯一识别码</th>\n",
       "      <th>成交时间</th>\n",
       "      <th>销售id</th>\n",
       "    </tr>\n",
       "  </thead>\n",
       "  <tbody>\n",
       "    <tr>\n",
       "      <td>3</td>\n",
       "      <td>A2</td>\n",
       "      <td>李四</td>\n",
       "      <td>46</td>\n",
       "      <td>1002</td>\n",
       "      <td>2019-02-03</td>\n",
       "      <td>NaN</td>\n",
       "    </tr>\n",
       "    <tr>\n",
       "      <td>0</td>\n",
       "      <td>A1</td>\n",
       "      <td>张三</td>\n",
       "      <td>50</td>\n",
       "      <td>101</td>\n",
       "      <td>2019-01-02</td>\n",
       "      <td>1.0</td>\n",
       "    </tr>\n",
       "    <tr>\n",
       "      <td>1</td>\n",
       "      <td>A2</td>\n",
       "      <td>李四</td>\n",
       "      <td>38</td>\n",
       "      <td>1002</td>\n",
       "      <td>2019-02-03</td>\n",
       "      <td>4.0</td>\n",
       "    </tr>\n",
       "    <tr>\n",
       "      <td>2</td>\n",
       "      <td>A3</td>\n",
       "      <td>王五</td>\n",
       "      <td>29</td>\n",
       "      <td>105</td>\n",
       "      <td>2019-03-01</td>\n",
       "      <td>6.0</td>\n",
       "    </tr>\n",
       "  </tbody>\n",
       "</table>\n",
       "</div>"
      ],
      "text/plain": [
       "  订单编号 客户姓名  年龄  唯一识别码        成交时间  销售id\n",
       "3   A2   李四  46   1002  2019-02-03   NaN\n",
       "0   A1   张三  50    101  2019-01-02   1.0\n",
       "1   A2   李四  38   1002  2019-02-03   4.0\n",
       "2   A3   王五  29    105  2019-03-01   6.0"
      ]
     },
     "execution_count": 9,
     "metadata": {},
     "output_type": "execute_result"
    }
   ],
   "source": [
    "df2.sort_values(by=[\"销售id\"],na_position=\"first\")"
   ]
  },
  {
   "cell_type": "raw",
   "metadata": {},
   "source": [
    "按照多列数值进行排序：\n",
    " 是指同时依据多列数据进行升序、降序排列，当第一列出现重复值时按照第二列进行排序，当第二列出现重复值时按照第三列进行排序，依次类推：\n",
    " df.sort_values(by=[\"col1\",\"col2\"],ascending=[True,False])"
   ]
  },
  {
   "cell_type": "code",
   "execution_count": 10,
   "metadata": {},
   "outputs": [
    {
     "data": {
      "text/html": [
       "<div>\n",
       "<style scoped>\n",
       "    .dataframe tbody tr th:only-of-type {\n",
       "        vertical-align: middle;\n",
       "    }\n",
       "\n",
       "    .dataframe tbody tr th {\n",
       "        vertical-align: top;\n",
       "    }\n",
       "\n",
       "    .dataframe thead th {\n",
       "        text-align: right;\n",
       "    }\n",
       "</style>\n",
       "<table border=\"1\" class=\"dataframe\">\n",
       "  <thead>\n",
       "    <tr style=\"text-align: right;\">\n",
       "      <th></th>\n",
       "      <th>订单编号</th>\n",
       "      <th>客户姓名</th>\n",
       "      <th>年龄</th>\n",
       "      <th>唯一识别码</th>\n",
       "      <th>成交时间</th>\n",
       "      <th>销售id</th>\n",
       "    </tr>\n",
       "  </thead>\n",
       "  <tbody>\n",
       "    <tr>\n",
       "      <td>1</td>\n",
       "      <td>A2</td>\n",
       "      <td>李四</td>\n",
       "      <td>38</td>\n",
       "      <td>1002</td>\n",
       "      <td>2019-02-03</td>\n",
       "      <td>4.0</td>\n",
       "    </tr>\n",
       "    <tr>\n",
       "      <td>3</td>\n",
       "      <td>A2</td>\n",
       "      <td>李四</td>\n",
       "      <td>46</td>\n",
       "      <td>1002</td>\n",
       "      <td>2019-02-03</td>\n",
       "      <td>NaN</td>\n",
       "    </tr>\n",
       "    <tr>\n",
       "      <td>2</td>\n",
       "      <td>A3</td>\n",
       "      <td>王五</td>\n",
       "      <td>29</td>\n",
       "      <td>105</td>\n",
       "      <td>2019-03-01</td>\n",
       "      <td>6.0</td>\n",
       "    </tr>\n",
       "    <tr>\n",
       "      <td>0</td>\n",
       "      <td>A1</td>\n",
       "      <td>张三</td>\n",
       "      <td>50</td>\n",
       "      <td>101</td>\n",
       "      <td>2019-01-02</td>\n",
       "      <td>1.0</td>\n",
       "    </tr>\n",
       "  </tbody>\n",
       "</table>\n",
       "</div>"
      ],
      "text/plain": [
       "  订单编号 客户姓名  年龄  唯一识别码        成交时间  销售id\n",
       "1   A2   李四  38   1002  2019-02-03   4.0\n",
       "3   A2   李四  46   1002  2019-02-03   NaN\n",
       "2   A3   王五  29    105  2019-03-01   6.0\n",
       "0   A1   张三  50    101  2019-01-02   1.0"
      ]
     },
     "execution_count": 10,
     "metadata": {},
     "output_type": "execute_result"
    }
   ],
   "source": [
    "df2.sort_values(by=[\"唯一识别码\",\"销售id\"],ascending=[False,True])"
   ]
  },
  {
   "cell_type": "markdown",
   "metadata": {},
   "source": [
    "#### 数值排名"
   ]
  },
  {
   "cell_type": "raw",
   "metadata": {},
   "source": [
    "数值排序和数值排名是想对应的，排名会新增一列，这一列用来存放数据的排名情况，排名是从1开始的。\n",
    "  在python 中 使用 rank()方法。rank()主要有2个参数，一个是ascending用来指明升序排序还是降序排序，默认为升序。\n",
    "  另外一个是 method，用来指明待排序值有重复值时的处理情况。\n",
    "  method下的不同参数：average:返回重复值的平均排名；first:按值在所有的代排列数据中出现的先后顺序排名；\n",
    "      min：返回重复值的最佳排名；\n",
    "      max:取重复值对应的最大排名；"
   ]
  },
  {
   "cell_type": "code",
   "execution_count": 11,
   "metadata": {},
   "outputs": [
    {
     "data": {
      "text/plain": [
       "0    1.0\n",
       "1    3.5\n",
       "2    2.0\n",
       "3    3.5\n",
       "Name: 唯一识别码, dtype: float64"
      ]
     },
     "execution_count": 11,
     "metadata": {},
     "output_type": "execute_result"
    }
   ],
   "source": [
    "df2[\"唯一识别码\"].rank(method=\"average\")"
   ]
  },
  {
   "cell_type": "code",
   "execution_count": 12,
   "metadata": {},
   "outputs": [
    {
     "data": {
      "text/plain": [
       "0    1.0\n",
       "1    3.0\n",
       "2    2.0\n",
       "3    4.0\n",
       "Name: 唯一识别码, dtype: float64"
      ]
     },
     "execution_count": 12,
     "metadata": {},
     "output_type": "execute_result"
    }
   ],
   "source": [
    "df2[\"唯一识别码\"].rank(method=\"first\")"
   ]
  },
  {
   "cell_type": "code",
   "execution_count": 13,
   "metadata": {},
   "outputs": [
    {
     "data": {
      "text/html": [
       "<div>\n",
       "<style scoped>\n",
       "    .dataframe tbody tr th:only-of-type {\n",
       "        vertical-align: middle;\n",
       "    }\n",
       "\n",
       "    .dataframe tbody tr th {\n",
       "        vertical-align: top;\n",
       "    }\n",
       "\n",
       "    .dataframe thead th {\n",
       "        text-align: right;\n",
       "    }\n",
       "</style>\n",
       "<table border=\"1\" class=\"dataframe\">\n",
       "  <thead>\n",
       "    <tr style=\"text-align: right;\">\n",
       "      <th></th>\n",
       "      <th>订单编号</th>\n",
       "      <th>客户姓名</th>\n",
       "      <th>年龄</th>\n",
       "      <th>唯一识别码</th>\n",
       "      <th>成交时间</th>\n",
       "      <th>销售id</th>\n",
       "    </tr>\n",
       "  </thead>\n",
       "  <tbody>\n",
       "    <tr>\n",
       "      <td>0</td>\n",
       "      <td>A1</td>\n",
       "      <td>张三</td>\n",
       "      <td>50</td>\n",
       "      <td>101</td>\n",
       "      <td>2019-01-02</td>\n",
       "      <td>1.0</td>\n",
       "    </tr>\n",
       "    <tr>\n",
       "      <td>1</td>\n",
       "      <td>A2</td>\n",
       "      <td>李四</td>\n",
       "      <td>38</td>\n",
       "      <td>1002</td>\n",
       "      <td>2019-02-03</td>\n",
       "      <td>4.0</td>\n",
       "    </tr>\n",
       "    <tr>\n",
       "      <td>2</td>\n",
       "      <td>A3</td>\n",
       "      <td>王五</td>\n",
       "      <td>29</td>\n",
       "      <td>105</td>\n",
       "      <td>2019-03-01</td>\n",
       "      <td>6.0</td>\n",
       "    </tr>\n",
       "    <tr>\n",
       "      <td>3</td>\n",
       "      <td>A2</td>\n",
       "      <td>李四</td>\n",
       "      <td>46</td>\n",
       "      <td>1002</td>\n",
       "      <td>2019-02-03</td>\n",
       "      <td>NaN</td>\n",
       "    </tr>\n",
       "  </tbody>\n",
       "</table>\n",
       "</div>"
      ],
      "text/plain": [
       "  订单编号 客户姓名  年龄  唯一识别码        成交时间  销售id\n",
       "0   A1   张三  50    101  2019-01-02   1.0\n",
       "1   A2   李四  38   1002  2019-02-03   4.0\n",
       "2   A3   王五  29    105  2019-03-01   6.0\n",
       "3   A2   李四  46   1002  2019-02-03   NaN"
      ]
     },
     "execution_count": 13,
     "metadata": {},
     "output_type": "execute_result"
    }
   ],
   "source": [
    "df2"
   ]
  },
  {
   "cell_type": "markdown",
   "metadata": {},
   "source": [
    "#### 数值删除"
   ]
  },
  {
   "cell_type": "raw",
   "metadata": {},
   "source": [
    "数值删除就是对数据表中一些无用的数据进行删除操作\n",
    "在python 中药删除某一列，用的方法是 drop()方法，即在drop方法后的括号中指明要删除的列名或者列的位置，即第几列；\n",
    "在drop方法后的括号中直接传入待删除的列名，需要加一个参数 axis,并让其参数值等于 1,表示删除列；"
   ]
  },
  {
   "cell_type": "code",
   "execution_count": 14,
   "metadata": {},
   "outputs": [
    {
     "data": {
      "text/html": [
       "<div>\n",
       "<style scoped>\n",
       "    .dataframe tbody tr th:only-of-type {\n",
       "        vertical-align: middle;\n",
       "    }\n",
       "\n",
       "    .dataframe tbody tr th {\n",
       "        vertical-align: top;\n",
       "    }\n",
       "\n",
       "    .dataframe thead th {\n",
       "        text-align: right;\n",
       "    }\n",
       "</style>\n",
       "<table border=\"1\" class=\"dataframe\">\n",
       "  <thead>\n",
       "    <tr style=\"text-align: right;\">\n",
       "      <th></th>\n",
       "      <th>订单编号</th>\n",
       "      <th>客户姓名</th>\n",
       "      <th>年龄</th>\n",
       "      <th>唯一识别码</th>\n",
       "      <th>成交时间</th>\n",
       "    </tr>\n",
       "  </thead>\n",
       "  <tbody>\n",
       "    <tr>\n",
       "      <td>0</td>\n",
       "      <td>A1</td>\n",
       "      <td>张三</td>\n",
       "      <td>50</td>\n",
       "      <td>101</td>\n",
       "      <td>2019-01-02</td>\n",
       "    </tr>\n",
       "    <tr>\n",
       "      <td>1</td>\n",
       "      <td>A2</td>\n",
       "      <td>李四</td>\n",
       "      <td>38</td>\n",
       "      <td>1002</td>\n",
       "      <td>2019-02-03</td>\n",
       "    </tr>\n",
       "    <tr>\n",
       "      <td>2</td>\n",
       "      <td>A3</td>\n",
       "      <td>王五</td>\n",
       "      <td>29</td>\n",
       "      <td>105</td>\n",
       "      <td>2019-03-01</td>\n",
       "    </tr>\n",
       "    <tr>\n",
       "      <td>3</td>\n",
       "      <td>A2</td>\n",
       "      <td>李四</td>\n",
       "      <td>46</td>\n",
       "      <td>1002</td>\n",
       "      <td>2019-02-03</td>\n",
       "    </tr>\n",
       "  </tbody>\n",
       "</table>\n",
       "</div>"
      ],
      "text/plain": [
       "  订单编号 客户姓名  年龄  唯一识别码        成交时间\n",
       "0   A1   张三  50    101  2019-01-02\n",
       "1   A2   李四  38   1002  2019-02-03\n",
       "2   A3   王五  29    105  2019-03-01\n",
       "3   A2   李四  46   1002  2019-02-03"
      ]
     },
     "execution_count": 14,
     "metadata": {},
     "output_type": "execute_result"
    }
   ],
   "source": [
    "df2.drop([\"销售id\"],axis=1)"
   ]
  },
  {
   "cell_type": "code",
   "execution_count": 15,
   "metadata": {},
   "outputs": [
    {
     "data": {
      "text/html": [
       "<div>\n",
       "<style scoped>\n",
       "    .dataframe tbody tr th:only-of-type {\n",
       "        vertical-align: middle;\n",
       "    }\n",
       "\n",
       "    .dataframe tbody tr th {\n",
       "        vertical-align: top;\n",
       "    }\n",
       "\n",
       "    .dataframe thead th {\n",
       "        text-align: right;\n",
       "    }\n",
       "</style>\n",
       "<table border=\"1\" class=\"dataframe\">\n",
       "  <thead>\n",
       "    <tr style=\"text-align: right;\">\n",
       "      <th></th>\n",
       "      <th>订单编号</th>\n",
       "      <th>客户姓名</th>\n",
       "      <th>年龄</th>\n",
       "      <th>销售id</th>\n",
       "    </tr>\n",
       "  </thead>\n",
       "  <tbody>\n",
       "    <tr>\n",
       "      <td>0</td>\n",
       "      <td>A1</td>\n",
       "      <td>张三</td>\n",
       "      <td>50</td>\n",
       "      <td>1.0</td>\n",
       "    </tr>\n",
       "    <tr>\n",
       "      <td>1</td>\n",
       "      <td>A2</td>\n",
       "      <td>李四</td>\n",
       "      <td>38</td>\n",
       "      <td>4.0</td>\n",
       "    </tr>\n",
       "    <tr>\n",
       "      <td>2</td>\n",
       "      <td>A3</td>\n",
       "      <td>王五</td>\n",
       "      <td>29</td>\n",
       "      <td>6.0</td>\n",
       "    </tr>\n",
       "    <tr>\n",
       "      <td>3</td>\n",
       "      <td>A2</td>\n",
       "      <td>李四</td>\n",
       "      <td>46</td>\n",
       "      <td>NaN</td>\n",
       "    </tr>\n",
       "  </tbody>\n",
       "</table>\n",
       "</div>"
      ],
      "text/plain": [
       "  订单编号 客户姓名  年龄  销售id\n",
       "0   A1   张三  50   1.0\n",
       "1   A2   李四  38   4.0\n",
       "2   A3   王五  29   6.0\n",
       "3   A2   李四  46   NaN"
      ]
     },
     "execution_count": 15,
     "metadata": {},
     "output_type": "execute_result"
    }
   ],
   "source": [
    "df2.drop(df2.columns[[3,4]],axis=1)"
   ]
  },
  {
   "cell_type": "code",
   "execution_count": 16,
   "metadata": {},
   "outputs": [
    {
     "data": {
      "text/html": [
       "<div>\n",
       "<style scoped>\n",
       "    .dataframe tbody tr th:only-of-type {\n",
       "        vertical-align: middle;\n",
       "    }\n",
       "\n",
       "    .dataframe tbody tr th {\n",
       "        vertical-align: top;\n",
       "    }\n",
       "\n",
       "    .dataframe thead th {\n",
       "        text-align: right;\n",
       "    }\n",
       "</style>\n",
       "<table border=\"1\" class=\"dataframe\">\n",
       "  <thead>\n",
       "    <tr style=\"text-align: right;\">\n",
       "      <th></th>\n",
       "      <th>订单编号</th>\n",
       "      <th>客户姓名</th>\n",
       "      <th>年龄</th>\n",
       "      <th>唯一识别码</th>\n",
       "    </tr>\n",
       "  </thead>\n",
       "  <tbody>\n",
       "    <tr>\n",
       "      <td>0</td>\n",
       "      <td>A1</td>\n",
       "      <td>张三</td>\n",
       "      <td>50</td>\n",
       "      <td>101</td>\n",
       "    </tr>\n",
       "    <tr>\n",
       "      <td>1</td>\n",
       "      <td>A2</td>\n",
       "      <td>李四</td>\n",
       "      <td>38</td>\n",
       "      <td>1002</td>\n",
       "    </tr>\n",
       "    <tr>\n",
       "      <td>2</td>\n",
       "      <td>A3</td>\n",
       "      <td>王五</td>\n",
       "      <td>29</td>\n",
       "      <td>105</td>\n",
       "    </tr>\n",
       "    <tr>\n",
       "      <td>3</td>\n",
       "      <td>A2</td>\n",
       "      <td>李四</td>\n",
       "      <td>46</td>\n",
       "      <td>1002</td>\n",
       "    </tr>\n",
       "  </tbody>\n",
       "</table>\n",
       "</div>"
      ],
      "text/plain": [
       "  订单编号 客户姓名  年龄  唯一识别码\n",
       "0   A1   张三  50    101\n",
       "1   A2   李四  38   1002\n",
       "2   A3   王五  29    105\n",
       "3   A2   李四  46   1002"
      ]
     },
     "execution_count": 16,
     "metadata": {},
     "output_type": "execute_result"
    }
   ],
   "source": [
    "df2.drop(columns=[\"销售id\",\"成交时间\"])"
   ]
  },
  {
   "cell_type": "raw",
   "metadata": {},
   "source": [
    "删除行：用到的方法是 drop(),删除行也要指明行的相关信息；\n",
    "drop中直接传入行名，并让axis参数值等于0，表示删除行"
   ]
  },
  {
   "cell_type": "code",
   "execution_count": 17,
   "metadata": {},
   "outputs": [
    {
     "data": {
      "text/html": [
       "<div>\n",
       "<style scoped>\n",
       "    .dataframe tbody tr th:only-of-type {\n",
       "        vertical-align: middle;\n",
       "    }\n",
       "\n",
       "    .dataframe tbody tr th {\n",
       "        vertical-align: top;\n",
       "    }\n",
       "\n",
       "    .dataframe thead th {\n",
       "        text-align: right;\n",
       "    }\n",
       "</style>\n",
       "<table border=\"1\" class=\"dataframe\">\n",
       "  <thead>\n",
       "    <tr style=\"text-align: right;\">\n",
       "      <th></th>\n",
       "      <th>订单编号</th>\n",
       "      <th>客户姓名</th>\n",
       "      <th>年龄</th>\n",
       "      <th>唯一识别码</th>\n",
       "      <th>成交时间</th>\n",
       "      <th>销售id</th>\n",
       "    </tr>\n",
       "  </thead>\n",
       "  <tbody>\n",
       "    <tr>\n",
       "      <td>2</td>\n",
       "      <td>A3</td>\n",
       "      <td>王五</td>\n",
       "      <td>29</td>\n",
       "      <td>105</td>\n",
       "      <td>2019-03-01</td>\n",
       "      <td>6.0</td>\n",
       "    </tr>\n",
       "    <tr>\n",
       "      <td>3</td>\n",
       "      <td>A2</td>\n",
       "      <td>李四</td>\n",
       "      <td>46</td>\n",
       "      <td>1002</td>\n",
       "      <td>2019-02-03</td>\n",
       "      <td>NaN</td>\n",
       "    </tr>\n",
       "  </tbody>\n",
       "</table>\n",
       "</div>"
      ],
      "text/plain": [
       "  订单编号 客户姓名  年龄  唯一识别码        成交时间  销售id\n",
       "2   A3   王五  29    105  2019-03-01   6.0\n",
       "3   A2   李四  46   1002  2019-02-03   NaN"
      ]
     },
     "execution_count": 17,
     "metadata": {},
     "output_type": "execute_result"
    }
   ],
   "source": [
    "df2.drop(df2.index[[0,1]],axis=0)"
   ]
  },
  {
   "cell_type": "code",
   "execution_count": 18,
   "metadata": {},
   "outputs": [
    {
     "data": {
      "text/html": [
       "<div>\n",
       "<style scoped>\n",
       "    .dataframe tbody tr th:only-of-type {\n",
       "        vertical-align: middle;\n",
       "    }\n",
       "\n",
       "    .dataframe tbody tr th {\n",
       "        vertical-align: top;\n",
       "    }\n",
       "\n",
       "    .dataframe thead th {\n",
       "        text-align: right;\n",
       "    }\n",
       "</style>\n",
       "<table border=\"1\" class=\"dataframe\">\n",
       "  <thead>\n",
       "    <tr style=\"text-align: right;\">\n",
       "      <th></th>\n",
       "      <th>订单编号</th>\n",
       "      <th>客户姓名</th>\n",
       "      <th>年龄</th>\n",
       "      <th>唯一识别码</th>\n",
       "      <th>成交时间</th>\n",
       "      <th>销售id</th>\n",
       "    </tr>\n",
       "  </thead>\n",
       "  <tbody>\n",
       "    <tr>\n",
       "      <td>0</td>\n",
       "      <td>A1</td>\n",
       "      <td>张三</td>\n",
       "      <td>50</td>\n",
       "      <td>101</td>\n",
       "      <td>2019-01-02</td>\n",
       "      <td>1.0</td>\n",
       "    </tr>\n",
       "    <tr>\n",
       "      <td>1</td>\n",
       "      <td>A2</td>\n",
       "      <td>李四</td>\n",
       "      <td>38</td>\n",
       "      <td>1002</td>\n",
       "      <td>2019-02-03</td>\n",
       "      <td>4.0</td>\n",
       "    </tr>\n",
       "  </tbody>\n",
       "</table>\n",
       "</div>"
      ],
      "text/plain": [
       "  订单编号 客户姓名  年龄  唯一识别码        成交时间  销售id\n",
       "0   A1   张三  50    101  2019-01-02   1.0\n",
       "1   A2   李四  38   1002  2019-02-03   4.0"
      ]
     },
     "execution_count": 18,
     "metadata": {},
     "output_type": "execute_result"
    }
   ],
   "source": [
    "df2.drop(index=[2,3])  # 直接把行名传过来。如果行是字符串 则需要这样 index=[\"a\",\"b\"]"
   ]
  },
  {
   "cell_type": "raw",
   "metadata": {},
   "source": [
    "删除特定行：指删除满足条件的某行，比如前面说的异常值的删除算是删除特定的行。\n",
    "但在python 中不直接删除满足条件的值，而是把不满足条件的值给筛选出来作为新的数据源，这样就把要删除的 行给过滤掉 了、\n",
    "例如要删除年龄值大于等于40对应的行，并不直接删除，而是取相反的部分取出来，即把年龄小于40的行筛选出来作为新的数据源；"
   ]
  },
  {
   "cell_type": "code",
   "execution_count": 19,
   "metadata": {},
   "outputs": [
    {
     "data": {
      "text/html": [
       "<div>\n",
       "<style scoped>\n",
       "    .dataframe tbody tr th:only-of-type {\n",
       "        vertical-align: middle;\n",
       "    }\n",
       "\n",
       "    .dataframe tbody tr th {\n",
       "        vertical-align: top;\n",
       "    }\n",
       "\n",
       "    .dataframe thead th {\n",
       "        text-align: right;\n",
       "    }\n",
       "</style>\n",
       "<table border=\"1\" class=\"dataframe\">\n",
       "  <thead>\n",
       "    <tr style=\"text-align: right;\">\n",
       "      <th></th>\n",
       "      <th>订单编号</th>\n",
       "      <th>客户姓名</th>\n",
       "      <th>年龄</th>\n",
       "      <th>唯一识别码</th>\n",
       "      <th>成交时间</th>\n",
       "      <th>销售id</th>\n",
       "    </tr>\n",
       "  </thead>\n",
       "  <tbody>\n",
       "    <tr>\n",
       "      <td>1</td>\n",
       "      <td>A2</td>\n",
       "      <td>李四</td>\n",
       "      <td>38</td>\n",
       "      <td>1002</td>\n",
       "      <td>2019-02-03</td>\n",
       "      <td>4.0</td>\n",
       "    </tr>\n",
       "    <tr>\n",
       "      <td>2</td>\n",
       "      <td>A3</td>\n",
       "      <td>王五</td>\n",
       "      <td>29</td>\n",
       "      <td>105</td>\n",
       "      <td>2019-03-01</td>\n",
       "      <td>6.0</td>\n",
       "    </tr>\n",
       "  </tbody>\n",
       "</table>\n",
       "</div>"
      ],
      "text/plain": [
       "  订单编号 客户姓名  年龄  唯一识别码        成交时间  销售id\n",
       "1   A2   李四  38   1002  2019-02-03   4.0\n",
       "2   A3   王五  29    105  2019-03-01   6.0"
      ]
     },
     "execution_count": 19,
     "metadata": {},
     "output_type": "execute_result"
    }
   ],
   "source": [
    "df2[df2[\"年龄\"]<40]"
   ]
  },
  {
   "cell_type": "markdown",
   "metadata": {},
   "source": [
    "#### 数值计数"
   ]
  },
  {
   "cell_type": "raw",
   "metadata": {},
   "source": [
    "数值计数就是计算某个值在一系列数值中出现的次数：在python中使用的方法是value_counts()"
   ]
  },
  {
   "cell_type": "code",
   "execution_count": 20,
   "metadata": {},
   "outputs": [
    {
     "data": {
      "text/plain": [
       "1002    2\n",
       "105     1\n",
       "101     1\n",
       "Name: 唯一识别码, dtype: int64"
      ]
     },
     "execution_count": 20,
     "metadata": {},
     "output_type": "execute_result"
    }
   ],
   "source": [
    "df2[\"唯一识别码\"].value_counts()  # 这些是值出现的 绝对次数"
   ]
  },
  {
   "cell_type": "code",
   "execution_count": 21,
   "metadata": {},
   "outputs": [
    {
     "data": {
      "text/plain": [
       "1002    0.50\n",
       "105     0.25\n",
       "101     0.25\n",
       "Name: 唯一识别码, dtype: float64"
      ]
     },
     "execution_count": 21,
     "metadata": {},
     "output_type": "execute_result"
    }
   ],
   "source": [
    "df2[\"唯一识别码\"].value_counts(normalize=True)   # 传入参数看不同值出现的 占比；"
   ]
  },
  {
   "cell_type": "code",
   "execution_count": 22,
   "metadata": {},
   "outputs": [
    {
     "data": {
      "text/plain": [
       "101     0.25\n",
       "1002    0.50\n",
       "105     0.25\n",
       "Name: 唯一识别码, dtype: float64"
      ]
     },
     "execution_count": 22,
     "metadata": {},
     "output_type": "execute_result"
    }
   ],
   "source": [
    "df2[\"唯一识别码\"].value_counts(normalize=True,sort=False)  # sort=False实现不按计数值降序排列"
   ]
  },
  {
   "cell_type": "markdown",
   "metadata": {},
   "source": [
    "#### 唯一值获取"
   ]
  },
  {
   "cell_type": "raw",
   "metadata": {},
   "source": [
    "唯一值获取就是把一系列值删除重复项以后的结果，一般可以将表中某一列认为是一系列值。\n",
    "使用unique()实现来获取唯一值"
   ]
  },
  {
   "cell_type": "code",
   "execution_count": 23,
   "metadata": {},
   "outputs": [
    {
     "data": {
      "text/plain": [
       "array([ 101, 1002,  105], dtype=int64)"
      ]
     },
     "execution_count": 23,
     "metadata": {},
     "output_type": "execute_result"
    }
   ],
   "source": [
    "df2[\"唯一识别码\"].unique()"
   ]
  },
  {
   "cell_type": "markdown",
   "metadata": {},
   "source": [
    "#### 数值的查找"
   ]
  },
  {
   "cell_type": "raw",
   "metadata": {},
   "source": [
    "数值的查找就是查看数据表中的数据是否包含某个值或者某些值\n",
    "在python中，则是使用isin()方法，而且可以同时查找多个值，只需要在isin方法后的括号中指明即可。\n",
    "  可以将某列数据提取出来，然后在这一列上调用isin()方法，看这一列中是否包含某个/些值，如果包含则返回True,否则返回False"
   ]
  },
  {
   "cell_type": "code",
   "execution_count": 24,
   "metadata": {},
   "outputs": [
    {
     "data": {
      "text/html": [
       "<div>\n",
       "<style scoped>\n",
       "    .dataframe tbody tr th:only-of-type {\n",
       "        vertical-align: middle;\n",
       "    }\n",
       "\n",
       "    .dataframe tbody tr th {\n",
       "        vertical-align: top;\n",
       "    }\n",
       "\n",
       "    .dataframe thead th {\n",
       "        text-align: right;\n",
       "    }\n",
       "</style>\n",
       "<table border=\"1\" class=\"dataframe\">\n",
       "  <thead>\n",
       "    <tr style=\"text-align: right;\">\n",
       "      <th></th>\n",
       "      <th>订单编号</th>\n",
       "      <th>客户姓名</th>\n",
       "      <th>年龄</th>\n",
       "      <th>唯一识别码</th>\n",
       "      <th>成交时间</th>\n",
       "      <th>销售id</th>\n",
       "    </tr>\n",
       "  </thead>\n",
       "  <tbody>\n",
       "    <tr>\n",
       "      <td>0</td>\n",
       "      <td>A1</td>\n",
       "      <td>张三</td>\n",
       "      <td>50</td>\n",
       "      <td>101</td>\n",
       "      <td>2019-01-02</td>\n",
       "      <td>1.0</td>\n",
       "    </tr>\n",
       "    <tr>\n",
       "      <td>1</td>\n",
       "      <td>A2</td>\n",
       "      <td>李四</td>\n",
       "      <td>38</td>\n",
       "      <td>1002</td>\n",
       "      <td>2019-02-03</td>\n",
       "      <td>4.0</td>\n",
       "    </tr>\n",
       "    <tr>\n",
       "      <td>2</td>\n",
       "      <td>A3</td>\n",
       "      <td>王五</td>\n",
       "      <td>29</td>\n",
       "      <td>105</td>\n",
       "      <td>2019-03-01</td>\n",
       "      <td>6.0</td>\n",
       "    </tr>\n",
       "    <tr>\n",
       "      <td>3</td>\n",
       "      <td>A2</td>\n",
       "      <td>李四</td>\n",
       "      <td>46</td>\n",
       "      <td>1002</td>\n",
       "      <td>2019-02-03</td>\n",
       "      <td>NaN</td>\n",
       "    </tr>\n",
       "  </tbody>\n",
       "</table>\n",
       "</div>"
      ],
      "text/plain": [
       "  订单编号 客户姓名  年龄  唯一识别码        成交时间  销售id\n",
       "0   A1   张三  50    101  2019-01-02   1.0\n",
       "1   A2   李四  38   1002  2019-02-03   4.0\n",
       "2   A3   王五  29    105  2019-03-01   6.0\n",
       "3   A2   李四  46   1002  2019-02-03   NaN"
      ]
     },
     "execution_count": 24,
     "metadata": {},
     "output_type": "execute_result"
    }
   ],
   "source": [
    "df2"
   ]
  },
  {
   "cell_type": "code",
   "execution_count": 25,
   "metadata": {},
   "outputs": [
    {
     "data": {
      "text/plain": [
       "0    False\n",
       "1     True\n",
       "2     True\n",
       "3    False\n",
       "Name: 年龄, dtype: bool"
      ]
     },
     "execution_count": 25,
     "metadata": {},
     "output_type": "execute_result"
    }
   ],
   "source": [
    "df2[\"年龄\"].isin([38,29])"
   ]
  },
  {
   "cell_type": "code",
   "execution_count": 26,
   "metadata": {},
   "outputs": [
    {
     "data": {
      "text/html": [
       "<div>\n",
       "<style scoped>\n",
       "    .dataframe tbody tr th:only-of-type {\n",
       "        vertical-align: middle;\n",
       "    }\n",
       "\n",
       "    .dataframe tbody tr th {\n",
       "        vertical-align: top;\n",
       "    }\n",
       "\n",
       "    .dataframe thead th {\n",
       "        text-align: right;\n",
       "    }\n",
       "</style>\n",
       "<table border=\"1\" class=\"dataframe\">\n",
       "  <thead>\n",
       "    <tr style=\"text-align: right;\">\n",
       "      <th></th>\n",
       "      <th>订单编号</th>\n",
       "      <th>客户姓名</th>\n",
       "      <th>年龄</th>\n",
       "      <th>唯一识别码</th>\n",
       "      <th>成交时间</th>\n",
       "      <th>销售id</th>\n",
       "    </tr>\n",
       "  </thead>\n",
       "  <tbody>\n",
       "    <tr>\n",
       "      <td>0</td>\n",
       "      <td>False</td>\n",
       "      <td>False</td>\n",
       "      <td>False</td>\n",
       "      <td>False</td>\n",
       "      <td>False</td>\n",
       "      <td>False</td>\n",
       "    </tr>\n",
       "    <tr>\n",
       "      <td>1</td>\n",
       "      <td>True</td>\n",
       "      <td>False</td>\n",
       "      <td>False</td>\n",
       "      <td>False</td>\n",
       "      <td>False</td>\n",
       "      <td>False</td>\n",
       "    </tr>\n",
       "    <tr>\n",
       "      <td>2</td>\n",
       "      <td>False</td>\n",
       "      <td>False</td>\n",
       "      <td>True</td>\n",
       "      <td>False</td>\n",
       "      <td>False</td>\n",
       "      <td>False</td>\n",
       "    </tr>\n",
       "    <tr>\n",
       "      <td>3</td>\n",
       "      <td>True</td>\n",
       "      <td>False</td>\n",
       "      <td>False</td>\n",
       "      <td>False</td>\n",
       "      <td>False</td>\n",
       "      <td>False</td>\n",
       "    </tr>\n",
       "  </tbody>\n",
       "</table>\n",
       "</div>"
      ],
      "text/plain": [
       "    订单编号   客户姓名     年龄  唯一识别码   成交时间   销售id\n",
       "0  False  False  False  False  False  False\n",
       "1   True  False  False  False  False  False\n",
       "2  False  False   True  False  False  False\n",
       "3   True  False  False  False  False  False"
      ]
     },
     "execution_count": 26,
     "metadata": {},
     "output_type": "execute_result"
    }
   ],
   "source": [
    "df2.isin([\"A2\",29])"
   ]
  },
  {
   "cell_type": "markdown",
   "metadata": {},
   "source": [
    "#### 区间切分"
   ]
  },
  {
   "cell_type": "raw",
   "metadata": {},
   "source": [
    "就是将一系列数值分成若干份。\n",
    "在python中对区间切分利用的是 cut()方法，cut()方法有一个参数bins用来指明切分区间；\n",
    "cut()方法切分的是左开右闭的区间（0，3]"
   ]
  },
  {
   "cell_type": "code",
   "execution_count": 27,
   "metadata": {},
   "outputs": [
    {
     "data": {
      "text/html": [
       "<div>\n",
       "<style scoped>\n",
       "    .dataframe tbody tr th:only-of-type {\n",
       "        vertical-align: middle;\n",
       "    }\n",
       "\n",
       "    .dataframe tbody tr th {\n",
       "        vertical-align: top;\n",
       "    }\n",
       "\n",
       "    .dataframe thead th {\n",
       "        text-align: right;\n",
       "    }\n",
       "</style>\n",
       "<table border=\"1\" class=\"dataframe\">\n",
       "  <thead>\n",
       "    <tr style=\"text-align: right;\">\n",
       "      <th></th>\n",
       "      <th>订单编号</th>\n",
       "      <th>客户姓名</th>\n",
       "      <th>年龄</th>\n",
       "      <th>唯一识别码</th>\n",
       "      <th>成交时间</th>\n",
       "      <th>销售id</th>\n",
       "    </tr>\n",
       "  </thead>\n",
       "  <tbody>\n",
       "    <tr>\n",
       "      <td>0</td>\n",
       "      <td>A1</td>\n",
       "      <td>张三</td>\n",
       "      <td>50</td>\n",
       "      <td>101</td>\n",
       "      <td>2019-01-02</td>\n",
       "      <td>1.0</td>\n",
       "    </tr>\n",
       "    <tr>\n",
       "      <td>1</td>\n",
       "      <td>A2</td>\n",
       "      <td>李四</td>\n",
       "      <td>38</td>\n",
       "      <td>1002</td>\n",
       "      <td>2019-02-03</td>\n",
       "      <td>4.0</td>\n",
       "    </tr>\n",
       "    <tr>\n",
       "      <td>2</td>\n",
       "      <td>A3</td>\n",
       "      <td>王五</td>\n",
       "      <td>29</td>\n",
       "      <td>105</td>\n",
       "      <td>2019-03-01</td>\n",
       "      <td>6.0</td>\n",
       "    </tr>\n",
       "    <tr>\n",
       "      <td>3</td>\n",
       "      <td>A2</td>\n",
       "      <td>李四</td>\n",
       "      <td>46</td>\n",
       "      <td>1002</td>\n",
       "      <td>2019-02-03</td>\n",
       "      <td>NaN</td>\n",
       "    </tr>\n",
       "  </tbody>\n",
       "</table>\n",
       "</div>"
      ],
      "text/plain": [
       "  订单编号 客户姓名  年龄  唯一识别码        成交时间  销售id\n",
       "0   A1   张三  50    101  2019-01-02   1.0\n",
       "1   A2   李四  38   1002  2019-02-03   4.0\n",
       "2   A3   王五  29    105  2019-03-01   6.0\n",
       "3   A2   李四  46   1002  2019-02-03   NaN"
      ]
     },
     "execution_count": 27,
     "metadata": {},
     "output_type": "execute_result"
    }
   ],
   "source": [
    "df2"
   ]
  },
  {
   "cell_type": "code",
   "execution_count": 29,
   "metadata": {},
   "outputs": [
    {
     "data": {
      "text/plain": [
       "0    (40, 50]\n",
       "1    (30, 40]\n",
       "2    (20, 30]\n",
       "3    (40, 50]\n",
       "Name: 年龄, dtype: category\n",
       "Categories (4, interval[int64]): [(20, 30] < (30, 40] < (40, 50] < (50, 60]]"
      ]
     },
     "execution_count": 29,
     "metadata": {},
     "output_type": "execute_result"
    }
   ],
   "source": [
    "pd.cut(df2['年龄'],bins=[20,30,40,50,60])"
   ]
  },
  {
   "cell_type": "raw",
   "metadata": {},
   "source": [
    "qcut()方法不需要事前指明切分区间，只需要指明切分个数--依据的原则就是每个组里面的数据个数尽可能相等"
   ]
  },
  {
   "cell_type": "code",
   "execution_count": 30,
   "metadata": {},
   "outputs": [
    {
     "data": {
      "text/plain": [
       "0      (46.0, 50.0]\n",
       "1    (28.999, 38.0]\n",
       "2    (28.999, 38.0]\n",
       "3      (38.0, 46.0]\n",
       "Name: 年龄, dtype: category\n",
       "Categories (3, interval[float64]): [(28.999, 38.0] < (38.0, 46.0] < (46.0, 50.0]]"
      ]
     },
     "execution_count": 30,
     "metadata": {},
     "output_type": "execute_result"
    }
   ],
   "source": [
    "pd.qcut(df2[\"年龄\"],3)"
   ]
  },
  {
   "cell_type": "markdown",
   "metadata": {},
   "source": [
    "#### 插入新的行或列"
   ]
  },
  {
   "cell_type": "raw",
   "metadata": {},
   "source": [
    "在python中插入新的列用的方法是insert()方法，在其指出要插入的位置，插入新列的列名，以及要插入的数据"
   ]
  },
  {
   "cell_type": "code",
   "execution_count": 31,
   "metadata": {},
   "outputs": [
    {
     "data": {
      "text/html": [
       "<div>\n",
       "<style scoped>\n",
       "    .dataframe tbody tr th:only-of-type {\n",
       "        vertical-align: middle;\n",
       "    }\n",
       "\n",
       "    .dataframe tbody tr th {\n",
       "        vertical-align: top;\n",
       "    }\n",
       "\n",
       "    .dataframe thead th {\n",
       "        text-align: right;\n",
       "    }\n",
       "</style>\n",
       "<table border=\"1\" class=\"dataframe\">\n",
       "  <thead>\n",
       "    <tr style=\"text-align: right;\">\n",
       "      <th></th>\n",
       "      <th>订单编号</th>\n",
       "      <th>客户姓名</th>\n",
       "      <th>商品类别</th>\n",
       "      <th>年龄</th>\n",
       "      <th>唯一识别码</th>\n",
       "      <th>成交时间</th>\n",
       "      <th>销售id</th>\n",
       "    </tr>\n",
       "  </thead>\n",
       "  <tbody>\n",
       "    <tr>\n",
       "      <td>0</td>\n",
       "      <td>A1</td>\n",
       "      <td>张三</td>\n",
       "      <td>cat01</td>\n",
       "      <td>50</td>\n",
       "      <td>101</td>\n",
       "      <td>2019-01-02</td>\n",
       "      <td>1.0</td>\n",
       "    </tr>\n",
       "    <tr>\n",
       "      <td>1</td>\n",
       "      <td>A2</td>\n",
       "      <td>李四</td>\n",
       "      <td>cat02</td>\n",
       "      <td>38</td>\n",
       "      <td>1002</td>\n",
       "      <td>2019-02-03</td>\n",
       "      <td>4.0</td>\n",
       "    </tr>\n",
       "    <tr>\n",
       "      <td>2</td>\n",
       "      <td>A3</td>\n",
       "      <td>王五</td>\n",
       "      <td>cat03</td>\n",
       "      <td>29</td>\n",
       "      <td>105</td>\n",
       "      <td>2019-03-01</td>\n",
       "      <td>6.0</td>\n",
       "    </tr>\n",
       "    <tr>\n",
       "      <td>3</td>\n",
       "      <td>A2</td>\n",
       "      <td>李四</td>\n",
       "      <td>cat04</td>\n",
       "      <td>46</td>\n",
       "      <td>1002</td>\n",
       "      <td>2019-02-03</td>\n",
       "      <td>NaN</td>\n",
       "    </tr>\n",
       "  </tbody>\n",
       "</table>\n",
       "</div>"
      ],
      "text/plain": [
       "  订单编号 客户姓名   商品类别  年龄  唯一识别码        成交时间  销售id\n",
       "0   A1   张三  cat01  50    101  2019-01-02   1.0\n",
       "1   A2   李四  cat02  38   1002  2019-02-03   4.0\n",
       "2   A3   王五  cat03  29    105  2019-03-01   6.0\n",
       "3   A2   李四  cat04  46   1002  2019-02-03   NaN"
      ]
     },
     "execution_count": 31,
     "metadata": {},
     "output_type": "execute_result"
    }
   ],
   "source": [
    "df2.insert(2,\"商品类别\",[\"cat01\",\"cat02\",\"cat03\",\"cat04\"])\n",
    "df2"
   ]
  },
  {
   "cell_type": "markdown",
   "metadata": {},
   "source": [
    "#### 行列互换"
   ]
  },
  {
   "cell_type": "raw",
   "metadata": {},
   "source": [
    "直接在源数据表的基础上调用 .T 方法即可得到源数据表转置后的结果"
   ]
  },
  {
   "cell_type": "code",
   "execution_count": 32,
   "metadata": {},
   "outputs": [
    {
     "data": {
      "text/html": [
       "<div>\n",
       "<style scoped>\n",
       "    .dataframe tbody tr th:only-of-type {\n",
       "        vertical-align: middle;\n",
       "    }\n",
       "\n",
       "    .dataframe tbody tr th {\n",
       "        vertical-align: top;\n",
       "    }\n",
       "\n",
       "    .dataframe thead th {\n",
       "        text-align: right;\n",
       "    }\n",
       "</style>\n",
       "<table border=\"1\" class=\"dataframe\">\n",
       "  <thead>\n",
       "    <tr style=\"text-align: right;\">\n",
       "      <th></th>\n",
       "      <th>0</th>\n",
       "      <th>1</th>\n",
       "      <th>2</th>\n",
       "      <th>3</th>\n",
       "    </tr>\n",
       "  </thead>\n",
       "  <tbody>\n",
       "    <tr>\n",
       "      <td>订单编号</td>\n",
       "      <td>A1</td>\n",
       "      <td>A2</td>\n",
       "      <td>A3</td>\n",
       "      <td>A2</td>\n",
       "    </tr>\n",
       "    <tr>\n",
       "      <td>客户姓名</td>\n",
       "      <td>张三</td>\n",
       "      <td>李四</td>\n",
       "      <td>王五</td>\n",
       "      <td>李四</td>\n",
       "    </tr>\n",
       "    <tr>\n",
       "      <td>商品类别</td>\n",
       "      <td>cat01</td>\n",
       "      <td>cat02</td>\n",
       "      <td>cat03</td>\n",
       "      <td>cat04</td>\n",
       "    </tr>\n",
       "    <tr>\n",
       "      <td>年龄</td>\n",
       "      <td>50</td>\n",
       "      <td>38</td>\n",
       "      <td>29</td>\n",
       "      <td>46</td>\n",
       "    </tr>\n",
       "    <tr>\n",
       "      <td>唯一识别码</td>\n",
       "      <td>101</td>\n",
       "      <td>1002</td>\n",
       "      <td>105</td>\n",
       "      <td>1002</td>\n",
       "    </tr>\n",
       "    <tr>\n",
       "      <td>成交时间</td>\n",
       "      <td>2019-01-02</td>\n",
       "      <td>2019-02-03</td>\n",
       "      <td>2019-03-01</td>\n",
       "      <td>2019-02-03</td>\n",
       "    </tr>\n",
       "    <tr>\n",
       "      <td>销售id</td>\n",
       "      <td>1</td>\n",
       "      <td>4</td>\n",
       "      <td>6</td>\n",
       "      <td>NaN</td>\n",
       "    </tr>\n",
       "  </tbody>\n",
       "</table>\n",
       "</div>"
      ],
      "text/plain": [
       "                0           1           2           3\n",
       "订单编号           A1          A2          A3          A2\n",
       "客户姓名           张三          李四          王五          李四\n",
       "商品类别        cat01       cat02       cat03       cat04\n",
       "年龄             50          38          29          46\n",
       "唯一识别码         101        1002         105        1002\n",
       "成交时间   2019-01-02  2019-02-03  2019-03-01  2019-02-03\n",
       "销售id            1           4           6         NaN"
      ]
     },
     "execution_count": 32,
     "metadata": {},
     "output_type": "execute_result"
    }
   ],
   "source": [
    "df2.T"
   ]
  },
  {
   "cell_type": "code",
   "execution_count": 33,
   "metadata": {},
   "outputs": [
    {
     "data": {
      "text/html": [
       "<div>\n",
       "<style scoped>\n",
       "    .dataframe tbody tr th:only-of-type {\n",
       "        vertical-align: middle;\n",
       "    }\n",
       "\n",
       "    .dataframe tbody tr th {\n",
       "        vertical-align: top;\n",
       "    }\n",
       "\n",
       "    .dataframe thead th {\n",
       "        text-align: right;\n",
       "    }\n",
       "</style>\n",
       "<table border=\"1\" class=\"dataframe\">\n",
       "  <thead>\n",
       "    <tr style=\"text-align: right;\">\n",
       "      <th></th>\n",
       "      <th>订单编号</th>\n",
       "      <th>客户姓名</th>\n",
       "      <th>商品类别</th>\n",
       "      <th>年龄</th>\n",
       "      <th>唯一识别码</th>\n",
       "      <th>成交时间</th>\n",
       "      <th>销售id</th>\n",
       "    </tr>\n",
       "  </thead>\n",
       "  <tbody>\n",
       "    <tr>\n",
       "      <td>0</td>\n",
       "      <td>A1</td>\n",
       "      <td>张三</td>\n",
       "      <td>cat01</td>\n",
       "      <td>50</td>\n",
       "      <td>101</td>\n",
       "      <td>2019-01-02</td>\n",
       "      <td>1</td>\n",
       "    </tr>\n",
       "    <tr>\n",
       "      <td>1</td>\n",
       "      <td>A2</td>\n",
       "      <td>李四</td>\n",
       "      <td>cat02</td>\n",
       "      <td>38</td>\n",
       "      <td>1002</td>\n",
       "      <td>2019-02-03</td>\n",
       "      <td>4</td>\n",
       "    </tr>\n",
       "    <tr>\n",
       "      <td>2</td>\n",
       "      <td>A3</td>\n",
       "      <td>王五</td>\n",
       "      <td>cat03</td>\n",
       "      <td>29</td>\n",
       "      <td>105</td>\n",
       "      <td>2019-03-01</td>\n",
       "      <td>6</td>\n",
       "    </tr>\n",
       "    <tr>\n",
       "      <td>3</td>\n",
       "      <td>A2</td>\n",
       "      <td>李四</td>\n",
       "      <td>cat04</td>\n",
       "      <td>46</td>\n",
       "      <td>1002</td>\n",
       "      <td>2019-02-03</td>\n",
       "      <td>NaN</td>\n",
       "    </tr>\n",
       "  </tbody>\n",
       "</table>\n",
       "</div>"
      ],
      "text/plain": [
       "  订单编号 客户姓名   商品类别  年龄 唯一识别码        成交时间 销售id\n",
       "0   A1   张三  cat01  50   101  2019-01-02    1\n",
       "1   A2   李四  cat02  38  1002  2019-02-03    4\n",
       "2   A3   王五  cat03  29   105  2019-03-01    6\n",
       "3   A2   李四  cat04  46  1002  2019-02-03  NaN"
      ]
     },
     "execution_count": 33,
     "metadata": {},
     "output_type": "execute_result"
    }
   ],
   "source": [
    "df2.T.T"
   ]
  },
  {
   "cell_type": "markdown",
   "metadata": {},
   "source": [
    "#### 索引重塑"
   ]
  },
  {
   "cell_type": "raw",
   "metadata": {},
   "source": [
    "把数据从表格型数据转换到树形数据的过程叫重塑；\n",
    "使用的方法是 stack()"
   ]
  },
  {
   "cell_type": "code",
   "execution_count": 34,
   "metadata": {},
   "outputs": [
    {
     "data": {
      "text/plain": [
       "0  订单编号             A1\n",
       "   客户姓名             张三\n",
       "   商品类别          cat01\n",
       "   年龄               50\n",
       "   唯一识别码           101\n",
       "   成交时间     2019-01-02\n",
       "   销售id              1\n",
       "1  订单编号             A2\n",
       "   客户姓名             李四\n",
       "   商品类别          cat02\n",
       "   年龄               38\n",
       "   唯一识别码          1002\n",
       "   成交时间     2019-02-03\n",
       "   销售id              4\n",
       "2  订单编号             A3\n",
       "   客户姓名             王五\n",
       "   商品类别          cat03\n",
       "   年龄               29\n",
       "   唯一识别码           105\n",
       "   成交时间     2019-03-01\n",
       "   销售id              6\n",
       "3  订单编号             A2\n",
       "   客户姓名             李四\n",
       "   商品类别          cat04\n",
       "   年龄               46\n",
       "   唯一识别码          1002\n",
       "   成交时间     2019-02-03\n",
       "dtype: object"
      ]
     },
     "execution_count": 34,
     "metadata": {},
     "output_type": "execute_result"
    }
   ],
   "source": [
    "df2.stack()"
   ]
  },
  {
   "cell_type": "code",
   "execution_count": 35,
   "metadata": {},
   "outputs": [
    {
     "data": {
      "text/html": [
       "<div>\n",
       "<style scoped>\n",
       "    .dataframe tbody tr th:only-of-type {\n",
       "        vertical-align: middle;\n",
       "    }\n",
       "\n",
       "    .dataframe tbody tr th {\n",
       "        vertical-align: top;\n",
       "    }\n",
       "\n",
       "    .dataframe thead th {\n",
       "        text-align: right;\n",
       "    }\n",
       "</style>\n",
       "<table border=\"1\" class=\"dataframe\">\n",
       "  <thead>\n",
       "    <tr style=\"text-align: right;\">\n",
       "      <th></th>\n",
       "      <th>订单编号</th>\n",
       "      <th>客户姓名</th>\n",
       "      <th>商品类别</th>\n",
       "      <th>年龄</th>\n",
       "      <th>唯一识别码</th>\n",
       "      <th>成交时间</th>\n",
       "      <th>销售id</th>\n",
       "    </tr>\n",
       "  </thead>\n",
       "  <tbody>\n",
       "    <tr>\n",
       "      <td>0</td>\n",
       "      <td>A1</td>\n",
       "      <td>张三</td>\n",
       "      <td>cat01</td>\n",
       "      <td>50</td>\n",
       "      <td>101</td>\n",
       "      <td>2019-01-02</td>\n",
       "      <td>1</td>\n",
       "    </tr>\n",
       "    <tr>\n",
       "      <td>1</td>\n",
       "      <td>A2</td>\n",
       "      <td>李四</td>\n",
       "      <td>cat02</td>\n",
       "      <td>38</td>\n",
       "      <td>1002</td>\n",
       "      <td>2019-02-03</td>\n",
       "      <td>4</td>\n",
       "    </tr>\n",
       "    <tr>\n",
       "      <td>2</td>\n",
       "      <td>A3</td>\n",
       "      <td>王五</td>\n",
       "      <td>cat03</td>\n",
       "      <td>29</td>\n",
       "      <td>105</td>\n",
       "      <td>2019-03-01</td>\n",
       "      <td>6</td>\n",
       "    </tr>\n",
       "    <tr>\n",
       "      <td>3</td>\n",
       "      <td>A2</td>\n",
       "      <td>李四</td>\n",
       "      <td>cat04</td>\n",
       "      <td>46</td>\n",
       "      <td>1002</td>\n",
       "      <td>2019-02-03</td>\n",
       "      <td>NaN</td>\n",
       "    </tr>\n",
       "  </tbody>\n",
       "</table>\n",
       "</div>"
      ],
      "text/plain": [
       "  订单编号 客户姓名   商品类别  年龄 唯一识别码        成交时间 销售id\n",
       "0   A1   张三  cat01  50   101  2019-01-02    1\n",
       "1   A2   李四  cat02  38  1002  2019-02-03    4\n",
       "2   A3   王五  cat03  29   105  2019-03-01    6\n",
       "3   A2   李四  cat04  46  1002  2019-02-03  NaN"
      ]
     },
     "execution_count": 35,
     "metadata": {},
     "output_type": "execute_result"
    }
   ],
   "source": [
    "df2.stack().unstack()"
   ]
  },
  {
   "cell_type": "markdown",
   "metadata": {},
   "source": [
    "#### 长宽表转换"
   ]
  },
  {
   "cell_type": "raw",
   "metadata": {},
   "source": [
    "长宽表转换就是将比较长（很多行）的表转换为比较宽（很多列）的表；\n",
    "宽表转换为长表：stack()方法，另一种是melt()方法\n",
    "stack()将表格型数据转换为树形数据时，是保持行索引不变的前提下，将列索引变为行索引。"
   ]
  },
  {
   "cell_type": "code",
   "execution_count": 36,
   "metadata": {},
   "outputs": [
    {
     "data": {
      "text/html": [
       "<div>\n",
       "<style scoped>\n",
       "    .dataframe tbody tr th:only-of-type {\n",
       "        vertical-align: middle;\n",
       "    }\n",
       "\n",
       "    .dataframe tbody tr th {\n",
       "        vertical-align: top;\n",
       "    }\n",
       "\n",
       "    .dataframe thead th {\n",
       "        text-align: right;\n",
       "    }\n",
       "</style>\n",
       "<table border=\"1\" class=\"dataframe\">\n",
       "  <thead>\n",
       "    <tr style=\"text-align: right;\">\n",
       "      <th></th>\n",
       "      <th></th>\n",
       "      <th>商品类别</th>\n",
       "      <th>年龄</th>\n",
       "      <th>唯一识别码</th>\n",
       "      <th>成交时间</th>\n",
       "      <th>销售id</th>\n",
       "    </tr>\n",
       "    <tr>\n",
       "      <th>订单编号</th>\n",
       "      <th>客户姓名</th>\n",
       "      <th></th>\n",
       "      <th></th>\n",
       "      <th></th>\n",
       "      <th></th>\n",
       "      <th></th>\n",
       "    </tr>\n",
       "  </thead>\n",
       "  <tbody>\n",
       "    <tr>\n",
       "      <td>A1</td>\n",
       "      <td>张三</td>\n",
       "      <td>cat01</td>\n",
       "      <td>50</td>\n",
       "      <td>101</td>\n",
       "      <td>2019-01-02</td>\n",
       "      <td>1.0</td>\n",
       "    </tr>\n",
       "    <tr>\n",
       "      <td>A2</td>\n",
       "      <td>李四</td>\n",
       "      <td>cat02</td>\n",
       "      <td>38</td>\n",
       "      <td>1002</td>\n",
       "      <td>2019-02-03</td>\n",
       "      <td>4.0</td>\n",
       "    </tr>\n",
       "    <tr>\n",
       "      <td>A3</td>\n",
       "      <td>王五</td>\n",
       "      <td>cat03</td>\n",
       "      <td>29</td>\n",
       "      <td>105</td>\n",
       "      <td>2019-03-01</td>\n",
       "      <td>6.0</td>\n",
       "    </tr>\n",
       "    <tr>\n",
       "      <td>A2</td>\n",
       "      <td>李四</td>\n",
       "      <td>cat04</td>\n",
       "      <td>46</td>\n",
       "      <td>1002</td>\n",
       "      <td>2019-02-03</td>\n",
       "      <td>NaN</td>\n",
       "    </tr>\n",
       "  </tbody>\n",
       "</table>\n",
       "</div>"
      ],
      "text/plain": [
       "            商品类别  年龄  唯一识别码        成交时间  销售id\n",
       "订单编号 客户姓名                                    \n",
       "A1   张三    cat01  50    101  2019-01-02   1.0\n",
       "A2   李四    cat02  38   1002  2019-02-03   4.0\n",
       "A3   王五    cat03  29    105  2019-03-01   6.0\n",
       "A2   李四    cat04  46   1002  2019-02-03   NaN"
      ]
     },
     "execution_count": 36,
     "metadata": {},
     "output_type": "execute_result"
    }
   ],
   "source": [
    "df2.set_index([\"订单编号\",\"客户姓名\"])  # 先设置成索引"
   ]
  },
  {
   "cell_type": "code",
   "execution_count": 39,
   "metadata": {},
   "outputs": [
    {
     "data": {
      "text/plain": [
       "订单编号  客户姓名       \n",
       "A1    张三    商品类别          cat01\n",
       "            年龄               50\n",
       "            唯一识别码           101\n",
       "            成交时间     2019-01-02\n",
       "            销售id              1\n",
       "A2    李四    商品类别          cat02\n",
       "            年龄               38\n",
       "            唯一识别码          1002\n",
       "            成交时间     2019-02-03\n",
       "            销售id              4\n",
       "A3    王五    商品类别          cat03\n",
       "            年龄               29\n",
       "            唯一识别码           105\n",
       "            成交时间     2019-03-01\n",
       "            销售id              6\n",
       "A2    李四    商品类别          cat04\n",
       "            年龄               46\n",
       "            唯一识别码          1002\n",
       "            成交时间     2019-02-03\n",
       "dtype: object"
      ]
     },
     "execution_count": 39,
     "metadata": {},
     "output_type": "execute_result"
    }
   ],
   "source": [
    "df2.set_index([\"订单编号\",\"客户姓名\"]) .stack()"
   ]
  },
  {
   "cell_type": "code",
   "execution_count": 40,
   "metadata": {},
   "outputs": [
    {
     "data": {
      "text/html": [
       "<div>\n",
       "<style scoped>\n",
       "    .dataframe tbody tr th:only-of-type {\n",
       "        vertical-align: middle;\n",
       "    }\n",
       "\n",
       "    .dataframe tbody tr th {\n",
       "        vertical-align: top;\n",
       "    }\n",
       "\n",
       "    .dataframe thead th {\n",
       "        text-align: right;\n",
       "    }\n",
       "</style>\n",
       "<table border=\"1\" class=\"dataframe\">\n",
       "  <thead>\n",
       "    <tr style=\"text-align: right;\">\n",
       "      <th></th>\n",
       "      <th>订单编号</th>\n",
       "      <th>客户姓名</th>\n",
       "      <th>variable</th>\n",
       "      <th>value</th>\n",
       "    </tr>\n",
       "  </thead>\n",
       "  <tbody>\n",
       "    <tr>\n",
       "      <td>0</td>\n",
       "      <td>A1</td>\n",
       "      <td>张三</td>\n",
       "      <td>商品类别</td>\n",
       "      <td>cat01</td>\n",
       "    </tr>\n",
       "    <tr>\n",
       "      <td>1</td>\n",
       "      <td>A2</td>\n",
       "      <td>李四</td>\n",
       "      <td>商品类别</td>\n",
       "      <td>cat02</td>\n",
       "    </tr>\n",
       "    <tr>\n",
       "      <td>2</td>\n",
       "      <td>A3</td>\n",
       "      <td>王五</td>\n",
       "      <td>商品类别</td>\n",
       "      <td>cat03</td>\n",
       "    </tr>\n",
       "    <tr>\n",
       "      <td>3</td>\n",
       "      <td>A2</td>\n",
       "      <td>李四</td>\n",
       "      <td>商品类别</td>\n",
       "      <td>cat04</td>\n",
       "    </tr>\n",
       "    <tr>\n",
       "      <td>4</td>\n",
       "      <td>A1</td>\n",
       "      <td>张三</td>\n",
       "      <td>年龄</td>\n",
       "      <td>50</td>\n",
       "    </tr>\n",
       "    <tr>\n",
       "      <td>5</td>\n",
       "      <td>A2</td>\n",
       "      <td>李四</td>\n",
       "      <td>年龄</td>\n",
       "      <td>38</td>\n",
       "    </tr>\n",
       "    <tr>\n",
       "      <td>6</td>\n",
       "      <td>A3</td>\n",
       "      <td>王五</td>\n",
       "      <td>年龄</td>\n",
       "      <td>29</td>\n",
       "    </tr>\n",
       "    <tr>\n",
       "      <td>7</td>\n",
       "      <td>A2</td>\n",
       "      <td>李四</td>\n",
       "      <td>年龄</td>\n",
       "      <td>46</td>\n",
       "    </tr>\n",
       "    <tr>\n",
       "      <td>8</td>\n",
       "      <td>A1</td>\n",
       "      <td>张三</td>\n",
       "      <td>唯一识别码</td>\n",
       "      <td>101</td>\n",
       "    </tr>\n",
       "    <tr>\n",
       "      <td>9</td>\n",
       "      <td>A2</td>\n",
       "      <td>李四</td>\n",
       "      <td>唯一识别码</td>\n",
       "      <td>1002</td>\n",
       "    </tr>\n",
       "    <tr>\n",
       "      <td>10</td>\n",
       "      <td>A3</td>\n",
       "      <td>王五</td>\n",
       "      <td>唯一识别码</td>\n",
       "      <td>105</td>\n",
       "    </tr>\n",
       "    <tr>\n",
       "      <td>11</td>\n",
       "      <td>A2</td>\n",
       "      <td>李四</td>\n",
       "      <td>唯一识别码</td>\n",
       "      <td>1002</td>\n",
       "    </tr>\n",
       "    <tr>\n",
       "      <td>12</td>\n",
       "      <td>A1</td>\n",
       "      <td>张三</td>\n",
       "      <td>成交时间</td>\n",
       "      <td>2019-01-02</td>\n",
       "    </tr>\n",
       "    <tr>\n",
       "      <td>13</td>\n",
       "      <td>A2</td>\n",
       "      <td>李四</td>\n",
       "      <td>成交时间</td>\n",
       "      <td>2019-02-03</td>\n",
       "    </tr>\n",
       "    <tr>\n",
       "      <td>14</td>\n",
       "      <td>A3</td>\n",
       "      <td>王五</td>\n",
       "      <td>成交时间</td>\n",
       "      <td>2019-03-01</td>\n",
       "    </tr>\n",
       "    <tr>\n",
       "      <td>15</td>\n",
       "      <td>A2</td>\n",
       "      <td>李四</td>\n",
       "      <td>成交时间</td>\n",
       "      <td>2019-02-03</td>\n",
       "    </tr>\n",
       "    <tr>\n",
       "      <td>16</td>\n",
       "      <td>A1</td>\n",
       "      <td>张三</td>\n",
       "      <td>销售id</td>\n",
       "      <td>1</td>\n",
       "    </tr>\n",
       "    <tr>\n",
       "      <td>17</td>\n",
       "      <td>A2</td>\n",
       "      <td>李四</td>\n",
       "      <td>销售id</td>\n",
       "      <td>4</td>\n",
       "    </tr>\n",
       "    <tr>\n",
       "      <td>18</td>\n",
       "      <td>A3</td>\n",
       "      <td>王五</td>\n",
       "      <td>销售id</td>\n",
       "      <td>6</td>\n",
       "    </tr>\n",
       "    <tr>\n",
       "      <td>19</td>\n",
       "      <td>A2</td>\n",
       "      <td>李四</td>\n",
       "      <td>销售id</td>\n",
       "      <td>NaN</td>\n",
       "    </tr>\n",
       "  </tbody>\n",
       "</table>\n",
       "</div>"
      ],
      "text/plain": [
       "   订单编号 客户姓名 variable       value\n",
       "0    A1   张三     商品类别       cat01\n",
       "1    A2   李四     商品类别       cat02\n",
       "2    A3   王五     商品类别       cat03\n",
       "3    A2   李四     商品类别       cat04\n",
       "4    A1   张三       年龄          50\n",
       "5    A2   李四       年龄          38\n",
       "6    A3   王五       年龄          29\n",
       "7    A2   李四       年龄          46\n",
       "8    A1   张三    唯一识别码         101\n",
       "9    A2   李四    唯一识别码        1002\n",
       "10   A3   王五    唯一识别码         105\n",
       "11   A2   李四    唯一识别码        1002\n",
       "12   A1   张三     成交时间  2019-01-02\n",
       "13   A2   李四     成交时间  2019-02-03\n",
       "14   A3   王五     成交时间  2019-03-01\n",
       "15   A2   李四     成交时间  2019-02-03\n",
       "16   A1   张三     销售id           1\n",
       "17   A2   李四     销售id           4\n",
       "18   A3   王五     销售id           6\n",
       "19   A2   李四     销售id         NaN"
      ]
     },
     "execution_count": 40,
     "metadata": {},
     "output_type": "execute_result"
    }
   ],
   "source": [
    "# melt()方法实现\n",
    "df2.melt(id_vars=[\"订单编号\",\"客户姓名\"])"
   ]
  },
  {
   "cell_type": "raw",
   "metadata": {},
   "source": [
    "长表转换为宽表"
   ]
  },
  {
   "cell_type": "code",
   "execution_count": 43,
   "metadata": {},
   "outputs": [
    {
     "data": {
      "text/html": [
       "<div>\n",
       "<style scoped>\n",
       "    .dataframe tbody tr th:only-of-type {\n",
       "        vertical-align: middle;\n",
       "    }\n",
       "\n",
       "    .dataframe tbody tr th {\n",
       "        vertical-align: top;\n",
       "    }\n",
       "\n",
       "    .dataframe thead th {\n",
       "        text-align: right;\n",
       "    }\n",
       "</style>\n",
       "<table border=\"1\" class=\"dataframe\">\n",
       "  <thead>\n",
       "    <tr style=\"text-align: right;\">\n",
       "      <th></th>\n",
       "      <th></th>\n",
       "      <th>唯一识别码</th>\n",
       "      <th>年龄</th>\n",
       "      <th>销售id</th>\n",
       "    </tr>\n",
       "    <tr>\n",
       "      <th>订单编号</th>\n",
       "      <th>客户姓名</th>\n",
       "      <th></th>\n",
       "      <th></th>\n",
       "      <th></th>\n",
       "    </tr>\n",
       "  </thead>\n",
       "  <tbody>\n",
       "    <tr>\n",
       "      <td>A1</td>\n",
       "      <td>张三</td>\n",
       "      <td>101</td>\n",
       "      <td>50</td>\n",
       "      <td>1.0</td>\n",
       "    </tr>\n",
       "    <tr>\n",
       "      <td>A2</td>\n",
       "      <td>李四</td>\n",
       "      <td>1002</td>\n",
       "      <td>42</td>\n",
       "      <td>4.0</td>\n",
       "    </tr>\n",
       "    <tr>\n",
       "      <td>A3</td>\n",
       "      <td>王五</td>\n",
       "      <td>105</td>\n",
       "      <td>29</td>\n",
       "      <td>6.0</td>\n",
       "    </tr>\n",
       "  </tbody>\n",
       "</table>\n",
       "</div>"
      ],
      "text/plain": [
       "           唯一识别码  年龄  销售id\n",
       "订单编号 客户姓名                 \n",
       "A1   张三      101  50   1.0\n",
       "A2   李四     1002  42   4.0\n",
       "A3   王五      105  29   6.0"
      ]
     },
     "execution_count": 43,
     "metadata": {},
     "output_type": "execute_result"
    }
   ],
   "source": [
    "df2.pivot_table(index=[\"订单编号\",\"客户姓名\"])"
   ]
  },
  {
   "cell_type": "code",
   "execution_count": 44,
   "metadata": {},
   "outputs": [
    {
     "data": {
      "text/html": [
       "<div>\n",
       "<style scoped>\n",
       "    .dataframe tbody tr th:only-of-type {\n",
       "        vertical-align: middle;\n",
       "    }\n",
       "\n",
       "    .dataframe tbody tr th {\n",
       "        vertical-align: top;\n",
       "    }\n",
       "\n",
       "    .dataframe thead th {\n",
       "        text-align: right;\n",
       "    }\n",
       "</style>\n",
       "<table border=\"1\" class=\"dataframe\">\n",
       "  <thead>\n",
       "    <tr style=\"text-align: right;\">\n",
       "      <th></th>\n",
       "      <th>订单编号</th>\n",
       "      <th>客户姓名</th>\n",
       "      <th>商品类别</th>\n",
       "      <th>年龄</th>\n",
       "      <th>唯一识别码</th>\n",
       "      <th>成交时间</th>\n",
       "      <th>销售id</th>\n",
       "    </tr>\n",
       "  </thead>\n",
       "  <tbody>\n",
       "    <tr>\n",
       "      <td>0</td>\n",
       "      <td>A1</td>\n",
       "      <td>张三</td>\n",
       "      <td>cat01</td>\n",
       "      <td>50</td>\n",
       "      <td>101</td>\n",
       "      <td>2019-01-02</td>\n",
       "      <td>1.0</td>\n",
       "    </tr>\n",
       "    <tr>\n",
       "      <td>1</td>\n",
       "      <td>A2</td>\n",
       "      <td>李四</td>\n",
       "      <td>cat02</td>\n",
       "      <td>38</td>\n",
       "      <td>1002</td>\n",
       "      <td>2019-02-03</td>\n",
       "      <td>4.0</td>\n",
       "    </tr>\n",
       "    <tr>\n",
       "      <td>2</td>\n",
       "      <td>A3</td>\n",
       "      <td>王五</td>\n",
       "      <td>cat03</td>\n",
       "      <td>29</td>\n",
       "      <td>105</td>\n",
       "      <td>2019-03-01</td>\n",
       "      <td>6.0</td>\n",
       "    </tr>\n",
       "    <tr>\n",
       "      <td>3</td>\n",
       "      <td>A2</td>\n",
       "      <td>李四</td>\n",
       "      <td>cat04</td>\n",
       "      <td>46</td>\n",
       "      <td>1002</td>\n",
       "      <td>2019-02-03</td>\n",
       "      <td>NaN</td>\n",
       "    </tr>\n",
       "  </tbody>\n",
       "</table>\n",
       "</div>"
      ],
      "text/plain": [
       "  订单编号 客户姓名   商品类别  年龄  唯一识别码        成交时间  销售id\n",
       "0   A1   张三  cat01  50    101  2019-01-02   1.0\n",
       "1   A2   李四  cat02  38   1002  2019-02-03   4.0\n",
       "2   A3   王五  cat03  29    105  2019-03-01   6.0\n",
       "3   A2   李四  cat04  46   1002  2019-02-03   NaN"
      ]
     },
     "execution_count": 44,
     "metadata": {},
     "output_type": "execute_result"
    }
   ],
   "source": []
  },
  {
   "cell_type": "markdown",
   "metadata": {},
   "source": [
    "#### apply()与applymap()函数"
   ]
  },
  {
   "cell_type": "raw",
   "metadata": {},
   "source": [
    "map()函数是对一个序列中的所有元素执行相同的函数操作；\n",
    "apply()和applymap()都需要与匿名函数lambda结合使用\n",
    "apply()函数主要用于对DataFrame中的某一column或row中的元素执行相同的函数操作"
   ]
  },
  {
   "cell_type": "code",
   "execution_count": 50,
   "metadata": {},
   "outputs": [
    {
     "data": {
      "text/html": [
       "<div>\n",
       "<style scoped>\n",
       "    .dataframe tbody tr th:only-of-type {\n",
       "        vertical-align: middle;\n",
       "    }\n",
       "\n",
       "    .dataframe tbody tr th {\n",
       "        vertical-align: top;\n",
       "    }\n",
       "\n",
       "    .dataframe thead th {\n",
       "        text-align: right;\n",
       "    }\n",
       "</style>\n",
       "<table border=\"1\" class=\"dataframe\">\n",
       "  <thead>\n",
       "    <tr style=\"text-align: right;\">\n",
       "      <th></th>\n",
       "      <th>c1</th>\n",
       "      <th>c2</th>\n",
       "      <th>c3</th>\n",
       "    </tr>\n",
       "  </thead>\n",
       "  <tbody>\n",
       "    <tr>\n",
       "      <td>0</td>\n",
       "      <td>1</td>\n",
       "      <td>2</td>\n",
       "      <td>3</td>\n",
       "    </tr>\n",
       "    <tr>\n",
       "      <td>1</td>\n",
       "      <td>4</td>\n",
       "      <td>5</td>\n",
       "      <td>6</td>\n",
       "    </tr>\n",
       "    <tr>\n",
       "      <td>2</td>\n",
       "      <td>7</td>\n",
       "      <td>8</td>\n",
       "      <td>9</td>\n",
       "    </tr>\n",
       "  </tbody>\n",
       "</table>\n",
       "</div>"
      ],
      "text/plain": [
       "   c1  c2  c3\n",
       "0   1   2   3\n",
       "1   4   5   6\n",
       "2   7   8   9"
      ]
     },
     "execution_count": 50,
     "metadata": {},
     "output_type": "execute_result"
    }
   ],
   "source": [
    "df=pd.DataFrame([[1,2,3],[4,5,6],[7,8,9]],columns=[\"c1\",\"c2\",\"c3\"])\n",
    "df"
   ]
  },
  {
   "cell_type": "code",
   "execution_count": 51,
   "metadata": {},
   "outputs": [
    {
     "data": {
      "text/plain": [
       "0    2\n",
       "1    5\n",
       "2    8\n",
       "Name: c1, dtype: int64"
      ]
     },
     "execution_count": 51,
     "metadata": {},
     "output_type": "execute_result"
    }
   ],
   "source": [
    "df[\"c1\"].apply(lambda x:x+1)"
   ]
  },
  {
   "cell_type": "code",
   "execution_count": 52,
   "metadata": {},
   "outputs": [
    {
     "data": {
      "text/html": [
       "<div>\n",
       "<style scoped>\n",
       "    .dataframe tbody tr th:only-of-type {\n",
       "        vertical-align: middle;\n",
       "    }\n",
       "\n",
       "    .dataframe tbody tr th {\n",
       "        vertical-align: top;\n",
       "    }\n",
       "\n",
       "    .dataframe thead th {\n",
       "        text-align: right;\n",
       "    }\n",
       "</style>\n",
       "<table border=\"1\" class=\"dataframe\">\n",
       "  <thead>\n",
       "    <tr style=\"text-align: right;\">\n",
       "      <th></th>\n",
       "      <th>c1</th>\n",
       "      <th>c2</th>\n",
       "      <th>c3</th>\n",
       "    </tr>\n",
       "  </thead>\n",
       "  <tbody>\n",
       "    <tr>\n",
       "      <td>0</td>\n",
       "      <td>2</td>\n",
       "      <td>3</td>\n",
       "      <td>4</td>\n",
       "    </tr>\n",
       "    <tr>\n",
       "      <td>1</td>\n",
       "      <td>5</td>\n",
       "      <td>6</td>\n",
       "      <td>7</td>\n",
       "    </tr>\n",
       "    <tr>\n",
       "      <td>2</td>\n",
       "      <td>8</td>\n",
       "      <td>9</td>\n",
       "      <td>10</td>\n",
       "    </tr>\n",
       "  </tbody>\n",
       "</table>\n",
       "</div>"
      ],
      "text/plain": [
       "   c1  c2  c3\n",
       "0   2   3   4\n",
       "1   5   6   7\n",
       "2   8   9  10"
      ]
     },
     "execution_count": 52,
     "metadata": {},
     "output_type": "execute_result"
    }
   ],
   "source": [
    "df.applymap(lambda x:x+1)"
   ]
  },
  {
   "cell_type": "code",
   "execution_count": null,
   "metadata": {},
   "outputs": [],
   "source": []
  }
 ],
 "metadata": {
  "kernelspec": {
   "display_name": "Python 3",
   "language": "python",
   "name": "python3"
  },
  "language_info": {
   "codemirror_mode": {
    "name": "ipython",
    "version": 3
   },
   "file_extension": ".py",
   "mimetype": "text/x-python",
   "name": "python",
   "nbconvert_exporter": "python",
   "pygments_lexer": "ipython3",
   "version": "3.7.3"
  },
  "toc": {
   "base_numbering": 1,
   "nav_menu": {},
   "number_sections": true,
   "sideBar": true,
   "skip_h1_title": false,
   "title_cell": "Table of Contents",
   "title_sidebar": "Contents",
   "toc_cell": false,
   "toc_position": {},
   "toc_section_display": true,
   "toc_window_display": false
  }
 },
 "nbformat": 4,
 "nbformat_minor": 2
}
