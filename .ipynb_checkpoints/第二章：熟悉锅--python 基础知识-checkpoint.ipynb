{
 "cells": [
  {
   "cell_type": "markdown",
   "metadata": {},
   "source": [
    "### 基本概念\n",
    "#### 输出与输出格式设置"
   ]
  },
  {
   "cell_type": "markdown",
   "metadata": {},
   "source": [
    "有的时候我们需要对输出格式做一定的设置，可以使用 str.format（）方法进行设定；\n",
    "其中str是一个字符串，将format里面的内容填充到str字符串的{}中，几种填充方法：一对一填充 ，多对多填充、小数点设置，百分数设置"
   ]
  },
  {
   "cell_type": "code",
   "execution_count": 2,
   "metadata": {},
   "outputs": [
    {
     "name": "stdout",
     "output_type": "stream",
     "text": [
      "我正在学习：python 基础知识\n",
      "我正在学习：python数据分析中的python 基础知识\n"
     ]
    }
   ],
   "source": [
    "print('我正在学习：{}'.format('python 基础知识'))\n",
    "print('我正在学习：{}中的{}'.format('python数据分析','python 基础知识'))"
   ]
  },
  {
   "cell_type": "code",
   "execution_count": 4,
   "metadata": {},
   "outputs": [
    {
     "name": "stdout",
     "output_type": "stream",
     "text": [
      "2018年中国单身人数约2.00\n",
      "中国男性占总人口的比例：51.90%\n"
     ]
    }
   ],
   "source": [
    "print(\"{}约{:.2f}\".format(\"2018年中国单身人数\",2))\n",
    "print(\"中国男性占总人口的比例：{:.2%}\".format(0.519))"
   ]
  },
  {
   "cell_type": "markdown",
   "metadata": {},
   "source": [
    "####  字符串"
   ]
  },
  {
   "cell_type": "code",
   "execution_count": 5,
   "metadata": {},
   "outputs": [
    {
     "data": {
      "text/plain": [
       "'袁xuexia'"
      ]
     },
     "execution_count": 5,
     "metadata": {},
     "output_type": "execute_result"
    }
   ],
   "source": [
    "\"袁\"+\"xuexia\"  # 字符串的链接"
   ]
  },
  {
   "cell_type": "code",
   "execution_count": 6,
   "metadata": {},
   "outputs": [
    {
     "data": {
      "text/plain": [
       "'python 字符串的复制python 字符串的复制python 字符串的复制'"
      ]
     },
     "execution_count": 6,
     "metadata": {},
     "output_type": "execute_result"
    }
   ],
   "source": [
    "\"python 字符串的复制\"*3"
   ]
  },
  {
   "cell_type": "code",
   "execution_count": 7,
   "metadata": {},
   "outputs": [
    {
     "data": {
      "text/plain": [
       "8"
      ]
     },
     "execution_count": 7,
     "metadata": {},
     "output_type": "execute_result"
    }
   ],
   "source": [
    "len(\"44566213\")   # 字符串的 长度"
   ]
  },
  {
   "cell_type": "code",
   "execution_count": 8,
   "metadata": {},
   "outputs": [
    {
     "data": {
      "text/plain": [
       "True"
      ]
     },
     "execution_count": 8,
     "metadata": {},
     "output_type": "execute_result"
    }
   ],
   "source": [
    "\"python\" in \"python 真强大\"   # 字符串的查找 in 或 not in"
   ]
  },
  {
   "cell_type": "code",
   "execution_count": 9,
   "metadata": {},
   "outputs": [
    {
     "data": {
      "text/plain": [
       "'yt'"
      ]
     },
     "execution_count": 9,
     "metadata": {},
     "output_type": "execute_result"
    }
   ],
   "source": [
    "a=\"python 数据分析\"\n",
    "a[1:3]  # 输出索引为 1到 3的元素，不包括为3的索引"
   ]
  },
  {
   "cell_type": "code",
   "execution_count": 11,
   "metadata": {},
   "outputs": [
    {
     "data": {
      "text/plain": [
       "['a', 'v', 'v', 'b']"
      ]
     },
     "execution_count": 11,
     "metadata": {},
     "output_type": "execute_result"
    }
   ],
   "source": [
    "\"a,v,v,b\".split(\",\")   # 字符串的分割"
   ]
  },
  {
   "cell_type": "markdown",
   "metadata": {},
   "source": [
    " 移除字符用的方法是strip()函数，该函数用来移除字符串首尾指定的字符，默认移除字符串首尾的空格或换行符"
   ]
  },
  {
   "cell_type": "code",
   "execution_count": 12,
   "metadata": {},
   "outputs": [
    {
     "data": {
      "text/plain": [
       "'a'"
      ]
     },
     "execution_count": 12,
     "metadata": {},
     "output_type": "execute_result"
    }
   ],
   "source": [
    "\" a \".strip()"
   ]
  },
  {
   "cell_type": "code",
   "execution_count": 13,
   "metadata": {},
   "outputs": [
    {
     "data": {
      "text/plain": [
       "'a'"
      ]
     },
     "execution_count": 13,
     "metadata": {},
     "output_type": "execute_result"
    }
   ],
   "source": [
    "\"\\ta\\t\".strip()"
   ]
  },
  {
   "cell_type": "markdown",
   "metadata": {},
   "source": [
    "#### 数据结构--列表"
   ]
  },
  {
   "cell_type": "markdown",
   "metadata": {},
   "source": [
    "当方括号中的数据元素都是int类型时，这个列表就是int 类型的列表 ，也可以是多种类型混合的列表"
   ]
  },
  {
   "cell_type": "code",
   "execution_count": 2,
   "metadata": {},
   "outputs": [
    {
     "data": {
      "text/plain": [
       "[1, 2, 'a', 'b']"
      ]
     },
     "execution_count": 2,
     "metadata": {},
     "output_type": "execute_result"
    }
   ],
   "source": [
    "int_list=[1,2,3]\n",
    "int_str_list=[1,2,'a','b']\n",
    "int_str_list"
   ]
  },
  {
   "cell_type": "code",
   "execution_count": 3,
   "metadata": {},
   "outputs": [
    {
     "data": {
      "text/plain": [
       "[1, 2, 3, 1, 2, 3]"
      ]
     },
     "execution_count": 3,
     "metadata": {},
     "output_type": "execute_result"
    }
   ],
   "source": [
    "# 列表的复制\n",
    "int_list*2"
   ]
  },
  {
   "cell_type": "code",
   "execution_count": 4,
   "metadata": {},
   "outputs": [
    {
     "data": {
      "text/plain": [
       "[1, 2, 3, 'a', 'b']"
      ]
     },
     "execution_count": 4,
     "metadata": {},
     "output_type": "execute_result"
    }
   ],
   "source": [
    "# 列表的合并：（1）使用+ 号操作符。（2）使用extend()函数 A.extend(B)将列表B合并到列表A\n",
    "str_list=['a','b']\n",
    "int_list+str_list"
   ]
  },
  {
   "cell_type": "code",
   "execution_count": 6,
   "metadata": {},
   "outputs": [
    {
     "data": {
      "text/plain": [
       "[1, 2, 3, 'a', 'b', 'a', 'b']"
      ]
     },
     "execution_count": 6,
     "metadata": {},
     "output_type": "execute_result"
    }
   ],
   "source": [
    "int_list.extend(str_list)\n",
    "int_list"
   ]
  },
  {
   "cell_type": "code",
   "execution_count": 8,
   "metadata": {},
   "outputs": [
    {
     "data": {
      "text/plain": [
       "[1, 2, 3, 'a', 'b', 'a', 'b', 4, 4]"
      ]
     },
     "execution_count": 8,
     "metadata": {},
     "output_type": "execute_result"
    }
   ],
   "source": [
    "# 向列表中插入新元素。append()是在列表末尾插入新的数据元素\n",
    "int_list.append(4)\n",
    "int_list"
   ]
  },
  {
   "cell_type": "code",
   "execution_count": 10,
   "metadata": {},
   "outputs": [
    {
     "data": {
      "text/plain": [
       "[1, 2, 3, 4, 'a', 'b', 'a', 'b', 4, 4]"
      ]
     },
     "execution_count": 10,
     "metadata": {},
     "output_type": "execute_result"
    }
   ],
   "source": [
    "#在指定位置插入新的数据元素\n",
    "int_list.insert(3,4)  # 在第3个位置插入 4\n",
    "int_list"
   ]
  },
  {
   "cell_type": "code",
   "execution_count": 11,
   "metadata": {},
   "outputs": [
    {
     "data": {
      "text/plain": [
       "3"
      ]
     },
     "execution_count": 11,
     "metadata": {},
     "output_type": "execute_result"
    }
   ],
   "source": [
    "# 获取列表中值出现的 次数\n",
    "score_list=[\"一班\",'一班',\"三班\",\"一班\"]\n",
    "score_list.count(\"一班\")"
   ]
  },
  {
   "cell_type": "code",
   "execution_count": 12,
   "metadata": {},
   "outputs": [
    {
     "data": {
      "text/plain": [
       "2"
      ]
     },
     "execution_count": 12,
     "metadata": {},
     "output_type": "execute_result"
    }
   ],
   "source": [
    "score_list.index(\"三班\")  # 获取列表中值出现的位置"
   ]
  },
  {
   "cell_type": "code",
   "execution_count": 16,
   "metadata": {},
   "outputs": [
    {
     "ename": "ValueError",
     "evalue": "list.remove(x): x not in list",
     "output_type": "error",
     "traceback": [
      "\u001b[1;31m---------------------------------------------------------------------------\u001b[0m",
      "\u001b[1;31mValueError\u001b[0m                                Traceback (most recent call last)",
      "\u001b[1;32m<ipython-input-16-bb3830c87e2d>\u001b[0m in \u001b[0;36m<module>\u001b[1;34m\u001b[0m\n\u001b[0;32m     12\u001b[0m \u001b[0mstr_list\u001b[0m\u001b[1;33m\u001b[0m\u001b[1;33m\u001b[0m\u001b[0m\n\u001b[0;32m     13\u001b[0m \u001b[1;31m# remove()函数根据列表中的元素进行删除，也就是删除某一元素\u001b[0m\u001b[1;33m\u001b[0m\u001b[1;33m\u001b[0m\u001b[1;33m\u001b[0m\u001b[0m\n\u001b[1;32m---> 14\u001b[1;33m \u001b[0mstr_list\u001b[0m\u001b[1;33m.\u001b[0m\u001b[0mremove\u001b[0m\u001b[1;33m(\u001b[0m\u001b[1;34m\"b\"\u001b[0m\u001b[1;33m)\u001b[0m\u001b[1;33m\u001b[0m\u001b[1;33m\u001b[0m\u001b[0m\n\u001b[0m\u001b[0;32m     15\u001b[0m \u001b[0mstr_list\u001b[0m\u001b[1;33m\u001b[0m\u001b[1;33m\u001b[0m\u001b[0m\n",
      "\u001b[1;31mValueError\u001b[0m: list.remove(x): x not in list"
     ]
    }
   ],
   "source": [
    "#获取列表中指定位置的值\n",
    "#普通索引\n",
    "v=[\"a\",\"b\",\"d\",\"c\"]\n",
    "v[0]\n",
    "# 切片索引\n",
    "v[1:3] # 获取第二位到第四位的数\n",
    "v[:3] # 获取第一位到第四位的数，且不包含第四位\n",
    "\n",
    "#删除列表中的值  pop()根据列表中的位置进行删除，也就是删除指定位置的值\n",
    "str_list=[\"a\",\"b\",\"c\",\"d\"]\n",
    "str_list.pop(1) # 删除索引为1的值\n",
    "str_list"
   ]
  },
  {
   "cell_type": "code",
   "execution_count": 18,
   "metadata": {},
   "outputs": [
    {
     "data": {
      "text/plain": [
       "['a', 'd']"
      ]
     },
     "execution_count": 18,
     "metadata": {},
     "output_type": "execute_result"
    }
   ],
   "source": [
    "# remove()函数根据列表中的元素进行删除，也就是删除某一元素\n",
    "str_list.remove(\"c\")\n",
    "str_list"
   ]
  },
  {
   "cell_type": "code",
   "execution_count": 20,
   "metadata": {},
   "outputs": [
    {
     "data": {
      "text/plain": [
       "[0, 1, 2, 3, 4]"
      ]
     },
     "execution_count": 20,
     "metadata": {},
     "output_type": "execute_result"
    }
   ],
   "source": [
    "#对列表中的值进行排序\n",
    "s=[1,3,4,2,0]\n",
    "s.sort()\n",
    "s"
   ]
  },
  {
   "cell_type": "markdown",
   "metadata": {},
   "source": [
    "####  数据结构--字典"
   ]
  },
  {
   "cell_type": "code",
   "execution_count": 21,
   "metadata": {},
   "outputs": [
    {
     "data": {
      "text/plain": [
       "{'张三': 1333456, '李四': 236562}"
      ]
     },
     "execution_count": 21,
     "metadata": {},
     "output_type": "execute_result"
    }
   ],
   "source": [
    "# 新建一个字典\n",
    "test_dict={}\n",
    "test_dict[\"张三\"]=1333456\n",
    "test_dict[\"李四\"]=236562\n",
    "test_dict"
   ]
  },
  {
   "cell_type": "code",
   "execution_count": 24,
   "metadata": {},
   "outputs": [
    {
     "data": {
      "text/plain": [
       "{'张三': 123456, '李四': 456789}"
      ]
     },
     "execution_count": 24,
     "metadata": {},
     "output_type": "execute_result"
    }
   ],
   "source": [
    "contact=([\"张三\",123456],['李四',456789])#以列表的形式存入元组中，然后用dict()进行转换\n",
    "test_dict1=dict(contact)\n",
    "test_dict1"
   ]
  },
  {
   "cell_type": "code",
   "execution_count": 25,
   "metadata": {},
   "outputs": [
    {
     "data": {
      "text/plain": [
       "dict_keys(['张三', '李四'])"
      ]
     },
     "execution_count": 25,
     "metadata": {},
     "output_type": "execute_result"
    }
   ],
   "source": [
    "test_dict.keys()  # 获取key值"
   ]
  },
  {
   "cell_type": "code",
   "execution_count": 26,
   "metadata": {},
   "outputs": [
    {
     "data": {
      "text/plain": [
       "dict_values([1333456, 236562])"
      ]
     },
     "execution_count": 26,
     "metadata": {},
     "output_type": "execute_result"
    }
   ],
   "source": [
    "test_dict.values() # 获取字典内的所有值"
   ]
  },
  {
   "cell_type": "code",
   "execution_count": 27,
   "metadata": {},
   "outputs": [
    {
     "data": {
      "text/plain": [
       "dict_items([('张三', 1333456), ('李四', 236562)])"
      ]
     },
     "execution_count": 27,
     "metadata": {},
     "output_type": "execute_result"
    }
   ],
   "source": [
    "# items()方法用来得到一组组的键值对\n",
    "test_dict.items()"
   ]
  },
  {
   "cell_type": "markdown",
   "metadata": {},
   "source": [
    "#### 数据结构--元组"
   ]
  },
  {
   "cell_type": "code",
   "execution_count": 29,
   "metadata": {},
   "outputs": [
    {
     "data": {
      "text/plain": [
       "(1, 2, 3, 'a', 'b')"
      ]
     },
     "execution_count": 29,
     "metadata": {},
     "output_type": "execute_result"
    }
   ],
   "source": [
    "tup=(1,2,3,\"a\",\"b\")\n",
    "tup"
   ]
  },
  {
   "cell_type": "code",
   "execution_count": 30,
   "metadata": {},
   "outputs": [
    {
     "data": {
      "text/plain": [
       "5"
      ]
     },
     "execution_count": 30,
     "metadata": {},
     "output_type": "execute_result"
    }
   ],
   "source": [
    "len(tup)# 获取元组的长度"
   ]
  },
  {
   "cell_type": "code",
   "execution_count": 31,
   "metadata": {},
   "outputs": [
    {
     "data": {
      "text/plain": [
       "3"
      ]
     },
     "execution_count": 31,
     "metadata": {},
     "output_type": "execute_result"
    }
   ],
   "source": [
    "# 普通索引\n",
    "tup[2]"
   ]
  },
  {
   "cell_type": "code",
   "execution_count": 32,
   "metadata": {},
   "outputs": [
    {
     "data": {
      "text/plain": [
       "(2, 3)"
      ]
     },
     "execution_count": 32,
     "metadata": {},
     "output_type": "execute_result"
    }
   ],
   "source": [
    "tup[1:3]"
   ]
  },
  {
   "cell_type": "code",
   "execution_count": 33,
   "metadata": {},
   "outputs": [
    {
     "data": {
      "text/plain": [
       "(1, 2, 3)"
      ]
     },
     "execution_count": 33,
     "metadata": {},
     "output_type": "execute_result"
    }
   ],
   "source": [
    "tup[:3]  # 不包括3的位置"
   ]
  },
  {
   "cell_type": "code",
   "execution_count": 34,
   "metadata": {},
   "outputs": [
    {
     "data": {
      "text/plain": [
       "[1, 2, 3]"
      ]
     },
     "execution_count": 34,
     "metadata": {},
     "output_type": "execute_result"
    }
   ],
   "source": [
    "# 元组与列表相互转换\n",
    "tup=(1,2,3)\n",
    "list(tup)"
   ]
  },
  {
   "cell_type": "code",
   "execution_count": 35,
   "metadata": {},
   "outputs": [
    {
     "data": {
      "text/plain": [
       "(1, 2, 3)"
      ]
     },
     "execution_count": 35,
     "metadata": {},
     "output_type": "execute_result"
    }
   ],
   "source": [
    "t_list=[1,2,3]\n",
    "tuple(t_list)"
   ]
  },
  {
   "cell_type": "code",
   "execution_count": 37,
   "metadata": {},
   "outputs": [],
   "source": [
    "# zip()函数用于将可迭代的对象（列表、元组）作为参数，将对象中对应的元素打包成一个个元素，然后返回由这些元组组成的列表。\n",
    "# zip()函数与for循环一起搭配使用\n",
    "list_a=[1,2,3,4]\n",
    "list_b=[\"a\",\"b\",\"c\",\"d\"]\n",
    "for i in zip(list_a,list_b):\n",
    "    print(i)"
   ]
  },
  {
   "cell_type": "code",
   "execution_count": 41,
   "metadata": {},
   "outputs": [
    {
     "name": "stdout",
     "output_type": "stream",
     "text": [
      "(1, 'a')\n",
      "(2, 'b')\n",
      "(3, 'c')\n"
     ]
    }
   ],
   "source": [
    "tuple_a=(1,2,3,4)\n",
    "tuple_b=(\"a\",\"b\",\"c\")\n",
    "for i in zip(tuple_a,tuple_b):\n",
    "    print(i)"
   ]
  },
  {
   "cell_type": "markdown",
   "metadata": {},
   "source": [
    "#### 循环语句 for和while"
   ]
  },
  {
   "cell_type": "code",
   "execution_count": 42,
   "metadata": {},
   "outputs": [
    {
     "name": "stdout",
     "output_type": "stream",
     "text": [
      "我目前正在学习：excel\n",
      "我目前正在学习：sql\n",
      "我目前正在学习：python\n",
      "我目前正在学习：统计学\n"
     ]
    }
   ],
   "source": [
    "subject=[\"excel\",\"sql\",\"python\",\"统计学\"]\n",
    "for sub in subject:\n",
    "    print(\"我目前正在学习：{}\".format(sub))"
   ]
  },
  {
   "cell_type": "code",
   "execution_count": 43,
   "metadata": {},
   "outputs": [
    {
     "name": "stdout",
     "output_type": "stream",
     "text": [
      "我已经学习数据分析0周啦\n",
      "我已经学习数据分析1周啦\n",
      "我已经学习数据分析2周啦\n",
      "我已经学习数据分析3周啦\n",
      "我已经学习数据分析4周啦\n",
      "我已经学习数据分析5周啦\n",
      "我已经学习数据分析6周啦\n",
      "我已经学习数据分析7周啦\n",
      "我已经学习数据分析7周啦,我可以去找工作啦\n"
     ]
    }
   ],
   "source": [
    "week=0\n",
    "while week<=7:\n",
    "    print(\"我已经学习数据分析{}周啦\".format(week))\n",
    "    week+=1\n",
    "print(\"我已经学习数据分析{}周啦,我可以去找工作啦\".format(week-1))"
   ]
  },
  {
   "cell_type": "markdown",
   "metadata": {},
   "source": [
    "#### 条件语句 if\\else\\elif"
   ]
  },
  {
   "cell_type": "code",
   "execution_count": 45,
   "metadata": {},
   "outputs": [
    {
     "name": "stdout",
     "output_type": "stream",
     "text": [
      "可以找到工作了\n"
     ]
    }
   ],
   "source": [
    "is_study=1\n",
    "if is_study==1:\n",
    "    print(\"可以找到工作了\")"
   ]
  },
  {
   "cell_type": "code",
   "execution_count": 46,
   "metadata": {},
   "outputs": [
    {
     "name": "stdout",
     "output_type": "stream",
     "text": [
      "可以找到工作了\n"
     ]
    }
   ],
   "source": [
    "is_study=1\n",
    "if is_study==1:\n",
    "    print(\"可以找到工作了\")\n",
    "else:\n",
    "    print(\"很难找个好工作\")"
   ]
  },
  {
   "cell_type": "code",
   "execution_count": 48,
   "metadata": {},
   "outputs": [
    {
     "name": "stdout",
     "output_type": "stream",
     "text": [
      "80-100分\n"
     ]
    }
   ],
   "source": [
    "score=80\n",
    "if score<60:\n",
    "    print(\"小于60分\")\n",
    "elif score<70:\n",
    "    print(\"60-70分\")\n",
    "elif score<80:\n",
    "    print(\"70-80分\")\n",
    "else:\n",
    "    print(\"80-100分\")"
   ]
  },
  {
   "cell_type": "markdown",
   "metadata": {},
   "source": [
    "#### 函数"
   ]
  },
  {
   "cell_type": "code",
   "execution_count": 50,
   "metadata": {},
   "outputs": [
    {
     "name": "stdout",
     "output_type": "stream",
     "text": [
      "我正在地铁上学python\n"
     ]
    }
   ],
   "source": [
    "# def 函数名（参数）：\n",
    "  #    语句块\n",
    "def learn_python(locatin):\n",
    "    print(\"我正在{}上学python\".format(locatin))\n",
    "learn_python(\"地铁\")"
   ]
  },
  {
   "cell_type": "code",
   "execution_count": 54,
   "metadata": {},
   "outputs": [
    {
     "data": {
      "text/plain": [
       "'我正在地铁上学python'"
      ]
     },
     "execution_count": 54,
     "metadata": {},
     "output_type": "execute_result"
    }
   ],
   "source": [
    "def learn_pythons(location):\n",
    "    doing=(\"我正在{}上学python\".format(location))\n",
    "    return doing\n",
    "learn_pythons(\"地铁\")"
   ]
  },
  {
   "cell_type": "code",
   "execution_count": 55,
   "metadata": {},
   "outputs": [
    {
     "data": {
      "text/plain": [
       "'我正在地铁上学python,人很多'"
      ]
     },
     "execution_count": 55,
     "metadata": {},
     "output_type": "execute_result"
    }
   ],
   "source": [
    "def learn_pythons(location,people):\n",
    "    doing=(\"我正在{}上学python,人{}\".format(location,people))\n",
    "    return doing\n",
    "learn_pythons(\"地铁\",\"很多\")"
   ]
  },
  {
   "cell_type": "code",
   "execution_count": 56,
   "metadata": {},
   "outputs": [
    {
     "data": {
      "text/plain": [
       "3"
      ]
     },
     "execution_count": 56,
     "metadata": {},
     "output_type": "execute_result"
    }
   ],
   "source": [
    "# 匿名函数lambda：省却了def定义函数的过程，lambda只是一个表达式，没有函数体。\n",
    "f=lambda x,y:x+y\n",
    "f(1,2)"
   ]
  },
  {
   "cell_type": "markdown",
   "metadata": {},
   "source": [
    "#### 高级特性：列表生成式，map函数、模块"
   ]
  },
  {
   "cell_type": "code",
   "execution_count": 57,
   "metadata": {},
   "outputs": [
    {
     "data": {
      "text/plain": [
       "[1, 4, 9, 25, 36, 49]"
      ]
     },
     "execution_count": 57,
     "metadata": {},
     "output_type": "execute_result"
    }
   ],
   "source": [
    "# 普通方法实现\n",
    "num=[1,2,3,5,6,7]\n",
    "new=[]\n",
    "for i in num:\n",
    "    new.append(i**2)\n",
    "new"
   ]
  },
  {
   "cell_type": "code",
   "execution_count": 58,
   "metadata": {},
   "outputs": [
    {
     "data": {
      "text/plain": [
       "[1, 25, 36, 9, 49]"
      ]
     },
     "execution_count": 58,
     "metadata": {},
     "output_type": "execute_result"
    }
   ],
   "source": [
    "#列表生成式实现\n",
    "num=[1,5,6,3,7]\n",
    "[i**2 for i in num]"
   ]
  },
  {
   "cell_type": "code",
   "execution_count": 60,
   "metadata": {},
   "outputs": [
    {
     "data": {
      "text/plain": [
       "['aA',\n",
       " 'aB',\n",
       " 'aC',\n",
       " 'aD',\n",
       " 'bA',\n",
       " 'bB',\n",
       " 'bC',\n",
       " 'bD',\n",
       " 'cA',\n",
       " 'cB',\n",
       " 'cC',\n",
       " 'cD',\n",
       " 'dA',\n",
       " 'dB',\n",
       " 'dC',\n",
       " 'dD']"
      ]
     },
     "execution_count": 60,
     "metadata": {},
     "output_type": "execute_result"
    }
   ],
   "source": [
    "list1=[\"a\",\"b\",\"c\",\"d\"]\n",
    "list2=[\"A\",\"B\",\"C\",\"D\"]\n",
    "new=[]\n",
    "for m in list1:\n",
    "    for n in list2:\n",
    "        new.append(m+n)\n",
    "new"
   ]
  },
  {
   "cell_type": "code",
   "execution_count": 59,
   "metadata": {},
   "outputs": [
    {
     "data": {
      "text/plain": [
       "['aA',\n",
       " 'aB',\n",
       " 'aC',\n",
       " 'aD',\n",
       " 'bA',\n",
       " 'bB',\n",
       " 'bC',\n",
       " 'bD',\n",
       " 'cA',\n",
       " 'cB',\n",
       " 'cC',\n",
       " 'cD',\n",
       " 'dA',\n",
       " 'dB',\n",
       " 'dC',\n",
       " 'dD']"
      ]
     },
     "execution_count": 59,
     "metadata": {},
     "output_type": "execute_result"
    }
   ],
   "source": [
    "list1=[\"a\",\"b\",\"c\",\"d\"]\n",
    "list2=[\"A\",\"B\",\"C\",\"D\"]\n",
    "[m+n for m in list1 for n in list2]"
   ]
  },
  {
   "cell_type": "code",
   "execution_count": 62,
   "metadata": {},
   "outputs": [
    {
     "data": {
      "text/plain": [
       "<map at 0x5229ba8>"
      ]
     },
     "execution_count": 62,
     "metadata": {},
     "output_type": "execute_result"
    }
   ],
   "source": [
    "# map函数的表现形式是map(function,agrs)表示对序列args中的每个值进行function操作，最终得到一个结果序列\n",
    "a=map(lambda x,y:x+y,[1,2,3],[3,2,4])\n",
    "a"
   ]
  },
  {
   "cell_type": "code",
   "execution_count": 63,
   "metadata": {},
   "outputs": [
    {
     "name": "stdout",
     "output_type": "stream",
     "text": [
      "4\n",
      "4\n",
      "7\n"
     ]
    }
   ],
   "source": [
    "for i in a:\n",
    "    print(i)\n",
    "# map函数生成的结果序列不会直接把全部结果显示出来，需要使用for循环遍历出来"
   ]
  },
  {
   "cell_type": "code",
   "execution_count": 64,
   "metadata": {},
   "outputs": [
    {
     "data": {
      "text/plain": [
       "[4, 4, 7]"
      ]
     },
     "execution_count": 64,
     "metadata": {},
     "output_type": "execute_result"
    }
   ],
   "source": [
    "b=list(map(lambda x,y:x+y,[1,2,3],[3,2,4]))\n",
    "b"
   ]
  },
  {
   "cell_type": "code",
   "execution_count": null,
   "metadata": {},
   "outputs": [],
   "source": [
    "# 模块是升级版的函数，是因为在任意程序中都可以通过模块名去调用该模块对应的程序\n",
    "# 调用模块，首先需要导入模块，导入模块的方法\n",
    "# import module_name  # 直接import 具体的模块名\n",
    "# from module1 import module2  # 从一个大的模块导入一个小的模块"
   ]
  }
 ],
 "metadata": {
  "kernelspec": {
   "display_name": "Python 3",
   "language": "python",
   "name": "python3"
  },
  "language_info": {
   "codemirror_mode": {
    "name": "ipython",
    "version": 3
   },
   "file_extension": ".py",
   "mimetype": "text/x-python",
   "name": "python",
   "nbconvert_exporter": "python",
   "pygments_lexer": "ipython3",
   "version": "3.7.3"
  },
  "toc": {
   "base_numbering": 1,
   "nav_menu": {},
   "number_sections": true,
   "sideBar": true,
   "skip_h1_title": false,
   "title_cell": "Table of Contents",
   "title_sidebar": "Contents",
   "toc_cell": false,
   "toc_position": {},
   "toc_section_display": true,
   "toc_window_display": true
  }
 },
 "nbformat": 4,
 "nbformat_minor": 2
}
