{
 "cells": [
  {
   "cell_type": "markdown",
   "metadata": {},
   "source": [
    "### 典型数据分析案例"
   ]
  },
  {
   "cell_type": "markdown",
   "metadata": {},
   "source": [
    "#### 实现报表自动化"
   ]
  },
  {
   "cell_type": "code",
   "execution_count": 27,
   "metadata": {},
   "outputs": [
    {
     "data": {
      "text/html": [
       "<div>\n",
       "<style scoped>\n",
       "    .dataframe tbody tr th:only-of-type {\n",
       "        vertical-align: middle;\n",
       "    }\n",
       "\n",
       "    .dataframe tbody tr th {\n",
       "        vertical-align: top;\n",
       "    }\n",
       "\n",
       "    .dataframe thead th {\n",
       "        text-align: right;\n",
       "    }\n",
       "</style>\n",
       "<table border=\"1\" class=\"dataframe\">\n",
       "  <thead>\n",
       "    <tr style=\"text-align: right;\">\n",
       "      <th></th>\n",
       "      <th>商品ID</th>\n",
       "      <th>类别ID</th>\n",
       "      <th>门店编号</th>\n",
       "      <th>单价</th>\n",
       "      <th>销量</th>\n",
       "      <th>成交时间</th>\n",
       "      <th>订单ID</th>\n",
       "    </tr>\n",
       "  </thead>\n",
       "  <tbody>\n",
       "    <tr>\n",
       "      <td>0</td>\n",
       "      <td>30006206.0</td>\n",
       "      <td>915000003.0</td>\n",
       "      <td>CDNL</td>\n",
       "      <td>25.23</td>\n",
       "      <td>0.328</td>\n",
       "      <td>2018-01-01</td>\n",
       "      <td>20170103CDLG000210052759</td>\n",
       "    </tr>\n",
       "    <tr>\n",
       "      <td>1</td>\n",
       "      <td>30163281.0</td>\n",
       "      <td>914010000.0</td>\n",
       "      <td>CDNL</td>\n",
       "      <td>2.00</td>\n",
       "      <td>2.000</td>\n",
       "      <td>2018-01-02</td>\n",
       "      <td>20170103CDLG000210052759</td>\n",
       "    </tr>\n",
       "    <tr>\n",
       "      <td>2</td>\n",
       "      <td>30200518.0</td>\n",
       "      <td>922000000.0</td>\n",
       "      <td>CDNL</td>\n",
       "      <td>19.62</td>\n",
       "      <td>0.230</td>\n",
       "      <td>2018-01-03</td>\n",
       "      <td>20170103CDLG000210052759</td>\n",
       "    </tr>\n",
       "    <tr>\n",
       "      <td>3</td>\n",
       "      <td>29989105.0</td>\n",
       "      <td>922000000.0</td>\n",
       "      <td>CDNL</td>\n",
       "      <td>2.80</td>\n",
       "      <td>2.044</td>\n",
       "      <td>2018-01-04</td>\n",
       "      <td>20170103CDLG000210052759</td>\n",
       "    </tr>\n",
       "    <tr>\n",
       "      <td>4</td>\n",
       "      <td>30179558.0</td>\n",
       "      <td>915000100.0</td>\n",
       "      <td>CDNL</td>\n",
       "      <td>47.41</td>\n",
       "      <td>0.226</td>\n",
       "      <td>2018-01-05</td>\n",
       "      <td>20170103CDLG000210052759</td>\n",
       "    </tr>\n",
       "  </tbody>\n",
       "</table>\n",
       "</div>"
      ],
      "text/plain": [
       "         商品ID         类别ID  门店编号     单价     销量       成交时间  \\\n",
       "0  30006206.0  915000003.0  CDNL  25.23  0.328 2018-01-01   \n",
       "1  30163281.0  914010000.0  CDNL   2.00  2.000 2018-01-02   \n",
       "2  30200518.0  922000000.0  CDNL  19.62  0.230 2018-01-03   \n",
       "3  29989105.0  922000000.0  CDNL   2.80  2.044 2018-01-04   \n",
       "4  30179558.0  915000100.0  CDNL  47.41  0.226 2018-01-05   \n",
       "\n",
       "                       订单ID  \n",
       "0  20170103CDLG000210052759  \n",
       "1  20170103CDLG000210052759  \n",
       "2  20170103CDLG000210052759  \n",
       "3  20170103CDLG000210052759  \n",
       "4  20170103CDLG000210052759  "
      ]
     },
     "execution_count": 27,
     "metadata": {},
     "output_type": "execute_result"
    }
   ],
   "source": [
    "import pandas as pd\n",
    "from datetime import datetime\n",
    "data =pd.read_csv(r\"./file/order-14.1.csv\",encoding=\"gbk\",parse_dates=[\"成交时间\"])  # parse_dates参数：将csv中的时间字符串转换成日期格式\n",
    "data.head()"
   ]
  },
  {
   "cell_type": "code",
   "execution_count": 28,
   "metadata": {},
   "outputs": [
    {
     "name": "stdout",
     "output_type": "stream",
     "text": [
      "<class 'pandas.core.frame.DataFrame'>\n",
      "RangeIndex: 3744 entries, 0 to 3743\n",
      "Data columns (total 7 columns):\n",
      "商品ID    3478 non-null float64\n",
      "类别ID    3478 non-null float64\n",
      "门店编号    3478 non-null object\n",
      "单价      3478 non-null float64\n",
      "销量      3478 non-null float64\n",
      "成交时间    3478 non-null datetime64[ns]\n",
      "订单ID    3478 non-null object\n",
      "dtypes: datetime64[ns](1), float64(4), object(2)\n",
      "memory usage: 204.9+ KB\n"
     ]
    }
   ],
   "source": [
    "data.info()"
   ]
  },
  {
   "cell_type": "markdown",
   "metadata": {},
   "source": [
    "##### 计算本月相关指标"
   ]
  },
  {
   "cell_type": "code",
   "execution_count": 29,
   "metadata": {},
   "outputs": [
    {
     "name": "stdout",
     "output_type": "stream",
     "text": [
      "本月的销售额为：10412.78,客流量为:343,客单价为：30.36\n"
     ]
    }
   ],
   "source": [
    "# 首先根据成交时间将本月的全部数据索引出来，然后在本月订单数据的基础上进行运算\n",
    "This_month=data[(data[\"成交时间\"]>= datetime(2018,2,1))&(data[\"成交时间\"]<= datetime(2018,2,28))]\n",
    "sales_1=(This_month[\"销量\"]*This_month[\"单价\"]).sum()  # 销售额计算\n",
    "# 客流量计算\n",
    "traffic_1=This_month[\"订单ID\"].drop_duplicates().count()\n",
    "s_t_1=sales_1/traffic_1  # 客单价计算\n",
    "print(\"本月的销售额为：{:.2f},客流量为:{},客单价为：{:.2f}\".format(sales_1,traffic_1,s_t_1))"
   ]
  },
  {
   "cell_type": "markdown",
   "metadata": {},
   "source": [
    "##### 计算上个月的相关指标"
   ]
  },
  {
   "cell_type": "code",
   "execution_count": 30,
   "metadata": {},
   "outputs": [
    {
     "name": "stdout",
     "output_type": "stream",
     "text": [
      "上月的销售额为：9940.97,客流量为:315,客单价为：31.56\n"
     ]
    }
   ],
   "source": [
    "last_month=data[(data[\"成交时间\"]>= datetime(2018,1,1))&(data[\"成交时间\"]<= datetime(2018,1,31))]\n",
    "sales_2=(last_month[\"销量\"]*last_month[\"单价\"]).sum()  # 销售额计算\n",
    "# 客流量计算\n",
    "traffic_2=last_month[\"订单ID\"].drop_duplicates().count()\n",
    "s_t_2=sales_2/traffic_2  # 客单价计算\n",
    "print(\"上月的销售额为：{:.2f},客流量为:{},客单价为：{:.2f}\".format(sales_2,traffic_2,s_t_2))"
   ]
  },
  {
   "cell_type": "markdown",
   "metadata": {},
   "source": [
    "##### 计算去年同期相关指标"
   ]
  },
  {
   "cell_type": "code",
   "execution_count": 31,
   "metadata": {},
   "outputs": [
    {
     "name": "stdout",
     "output_type": "stream",
     "text": [
      "本月的销售额为：8596.31,客流量为:262,客单价为：32.81\n"
     ]
    }
   ],
   "source": [
    "same_month=data[(data[\"成交时间\"]>= datetime(2017,2,1))&(data[\"成交时间\"]<= datetime(2017,2,28))]\n",
    "sales_3=(same_month[\"销量\"]*same_month[\"单价\"]).sum()  # 销售额计算\n",
    "# 客流量计算\n",
    "traffic_3=same_month[\"订单ID\"].drop_duplicates().count()\n",
    "s_t_3=sales_3/traffic_3  # 客单价计算\n",
    "print(\"本月的销售额为：{:.2f},客流量为:{},客单价为：{:.2f}\".format(sales_3,traffic_3,s_t_3))"
   ]
  },
  {
   "cell_type": "markdown",
   "metadata": {},
   "source": [
    "##### 利用函数提高编程效率"
   ]
  },
  {
   "cell_type": "code",
   "execution_count": 37,
   "metadata": {},
   "outputs": [
    {
     "data": {
      "text/html": [
       "<div>\n",
       "<style scoped>\n",
       "    .dataframe tbody tr th:only-of-type {\n",
       "        vertical-align: middle;\n",
       "    }\n",
       "\n",
       "    .dataframe tbody tr th {\n",
       "        vertical-align: top;\n",
       "    }\n",
       "\n",
       "    .dataframe thead th {\n",
       "        text-align: right;\n",
       "    }\n",
       "</style>\n",
       "<table border=\"1\" class=\"dataframe\">\n",
       "  <thead>\n",
       "    <tr style=\"text-align: right;\">\n",
       "      <th></th>\n",
       "      <th>本月累计</th>\n",
       "      <th>上月同期</th>\n",
       "      <th>去年同期</th>\n",
       "    </tr>\n",
       "  </thead>\n",
       "  <tbody>\n",
       "    <tr>\n",
       "      <td>销售额</td>\n",
       "      <td>10412.780070</td>\n",
       "      <td>9940.972910</td>\n",
       "      <td>8596.313470</td>\n",
       "    </tr>\n",
       "    <tr>\n",
       "      <td>客流量</td>\n",
       "      <td>343.000000</td>\n",
       "      <td>315.000000</td>\n",
       "      <td>262.000000</td>\n",
       "    </tr>\n",
       "    <tr>\n",
       "      <td>客单量</td>\n",
       "      <td>30.357959</td>\n",
       "      <td>31.558644</td>\n",
       "      <td>32.810357</td>\n",
       "    </tr>\n",
       "  </tbody>\n",
       "</table>\n",
       "</div>"
      ],
      "text/plain": [
       "             本月累计         上月同期         去年同期\n",
       "销售额  10412.780070  9940.972910  8596.313470\n",
       "客流量    343.000000   315.000000   262.000000\n",
       "客单量     30.357959    31.558644    32.810357"
      ]
     },
     "execution_count": 37,
     "metadata": {},
     "output_type": "execute_result"
    }
   ],
   "source": [
    "import pandas as pd\n",
    "from datetime import datetime\n",
    "data =pd.read_csv(r\"./file/order-14.1.csv\",encoding=\"gbk\",parse_dates=[\"成交时间\"])  # parse_dates参数：将csv中的时间字符串转换成日期格式\n",
    "data.head()\n",
    "\n",
    "same_month=data[(data[\"成交时间\"]>= datetime(2017,2,1))&(data[\"成交时间\"]<= datetime(2017,2,28))]\n",
    "last_month=data[(data[\"成交时间\"]>= datetime(2018,1,1))&(data[\"成交时间\"]<= datetime(2018,1,31))]\n",
    "This_month=data[(data[\"成交时间\"]>= datetime(2018,2,1))&(data[\"成交时间\"]<= datetime(2018,2,28))]\n",
    "\n",
    "def get_month_data(data):\n",
    "    sale = (data[\"单价\"]*data[\"销量\"]).sum()\n",
    "    traffic = data[\"订单ID\"].drop_duplicates().count()  # drop_duplicates()去重操作\n",
    "    s_t = sale/traffic\n",
    "    return(sale,traffic,s_t)\n",
    "\n",
    "# 计算本月\n",
    "sale_1,traffic_1,s_t_1 = get_month_data(This_month)\n",
    "# 计算上月\n",
    "sale_2,traffic_2,s_t_2 = get_month_data(last_month)\n",
    "# 计算去年同期相关指标\n",
    "sale_3,traffic_3,s_t_3 = get_month_data(same_month)\n",
    "\n",
    "report = pd.DataFrame([[sale_1,sale_2,sale_3],[traffic_1,traffic_2,traffic_3],[s_t_1,s_t_2,s_t_3]],\n",
    "                      columns=[\"本月累计\",\"上月同期\",\"去年同期\"],index=[\"销售额\",\"客流量\",\"客单量\"])\n",
    "report\n"
   ]
  },
  {
   "cell_type": "code",
   "execution_count": 38,
   "metadata": {},
   "outputs": [
    {
     "data": {
      "text/html": [
       "<div>\n",
       "<style scoped>\n",
       "    .dataframe tbody tr th:only-of-type {\n",
       "        vertical-align: middle;\n",
       "    }\n",
       "\n",
       "    .dataframe tbody tr th {\n",
       "        vertical-align: top;\n",
       "    }\n",
       "\n",
       "    .dataframe thead th {\n",
       "        text-align: right;\n",
       "    }\n",
       "</style>\n",
       "<table border=\"1\" class=\"dataframe\">\n",
       "  <thead>\n",
       "    <tr style=\"text-align: right;\">\n",
       "      <th></th>\n",
       "      <th>本月累计</th>\n",
       "      <th>上月同期</th>\n",
       "      <th>去年同期</th>\n",
       "      <th>环比</th>\n",
       "      <th>同比</th>\n",
       "    </tr>\n",
       "  </thead>\n",
       "  <tbody>\n",
       "    <tr>\n",
       "      <td>销售额</td>\n",
       "      <td>10412.780070</td>\n",
       "      <td>9940.972910</td>\n",
       "      <td>8596.313470</td>\n",
       "      <td>0.047461</td>\n",
       "      <td>0.211308</td>\n",
       "    </tr>\n",
       "    <tr>\n",
       "      <td>客流量</td>\n",
       "      <td>343.000000</td>\n",
       "      <td>315.000000</td>\n",
       "      <td>262.000000</td>\n",
       "      <td>0.088889</td>\n",
       "      <td>0.309160</td>\n",
       "    </tr>\n",
       "    <tr>\n",
       "      <td>客单量</td>\n",
       "      <td>30.357959</td>\n",
       "      <td>31.558644</td>\n",
       "      <td>32.810357</td>\n",
       "      <td>-0.038046</td>\n",
       "      <td>-0.074745</td>\n",
       "    </tr>\n",
       "  </tbody>\n",
       "</table>\n",
       "</div>"
      ],
      "text/plain": [
       "             本月累计         上月同期         去年同期        环比        同比\n",
       "销售额  10412.780070  9940.972910  8596.313470  0.047461  0.211308\n",
       "客流量    343.000000   315.000000   262.000000  0.088889  0.309160\n",
       "客单量     30.357959    31.558644    32.810357 -0.038046 -0.074745"
      ]
     },
     "execution_count": 38,
     "metadata": {},
     "output_type": "execute_result"
    }
   ],
   "source": [
    "report[\"环比\"]=report[\"本月累计\"]/report[\"上月同期\"]-1\n",
    "report[\"同比\"]=report[\"本月累计\"]/report[\"去年同期\"]-1\n",
    "report"
   ]
  },
  {
   "cell_type": "markdown",
   "metadata": {},
   "source": [
    "#### 某连锁超市的数据分析师"
   ]
  },
  {
   "cell_type": "code",
   "execution_count": 42,
   "metadata": {},
   "outputs": [
    {
     "data": {
      "text/html": [
       "<div>\n",
       "<style scoped>\n",
       "    .dataframe tbody tr th:only-of-type {\n",
       "        vertical-align: middle;\n",
       "    }\n",
       "\n",
       "    .dataframe tbody tr th {\n",
       "        vertical-align: top;\n",
       "    }\n",
       "\n",
       "    .dataframe thead th {\n",
       "        text-align: right;\n",
       "    }\n",
       "</style>\n",
       "<table border=\"1\" class=\"dataframe\">\n",
       "  <thead>\n",
       "    <tr style=\"text-align: right;\">\n",
       "      <th></th>\n",
       "      <th>类别ID</th>\n",
       "      <th>销量</th>\n",
       "    </tr>\n",
       "  </thead>\n",
       "  <tbody>\n",
       "    <tr>\n",
       "      <td>0</td>\n",
       "      <td>910000000.0</td>\n",
       "      <td>24.0</td>\n",
       "    </tr>\n",
       "    <tr>\n",
       "      <td>1</td>\n",
       "      <td>910010000.0</td>\n",
       "      <td>7.0</td>\n",
       "    </tr>\n",
       "    <tr>\n",
       "      <td>2</td>\n",
       "      <td>910010002.0</td>\n",
       "      <td>1.0</td>\n",
       "    </tr>\n",
       "    <tr>\n",
       "      <td>3</td>\n",
       "      <td>910010101.0</td>\n",
       "      <td>6.0</td>\n",
       "    </tr>\n",
       "    <tr>\n",
       "      <td>4</td>\n",
       "      <td>910010301.0</td>\n",
       "      <td>2.0</td>\n",
       "    </tr>\n",
       "    <tr>\n",
       "      <td>...</td>\n",
       "      <td>...</td>\n",
       "      <td>...</td>\n",
       "    </tr>\n",
       "    <tr>\n",
       "      <td>363</td>\n",
       "      <td>936030100.0</td>\n",
       "      <td>1.0</td>\n",
       "    </tr>\n",
       "    <tr>\n",
       "      <td>364</td>\n",
       "      <td>936050100.0</td>\n",
       "      <td>1.0</td>\n",
       "    </tr>\n",
       "    <tr>\n",
       "      <td>365</td>\n",
       "      <td>936080103.0</td>\n",
       "      <td>1.0</td>\n",
       "    </tr>\n",
       "    <tr>\n",
       "      <td>366</td>\n",
       "      <td>938030000.0</td>\n",
       "      <td>8.0</td>\n",
       "    </tr>\n",
       "    <tr>\n",
       "      <td>367</td>\n",
       "      <td>960000000.0</td>\n",
       "      <td>121.0</td>\n",
       "    </tr>\n",
       "  </tbody>\n",
       "</table>\n",
       "<p>368 rows × 2 columns</p>\n",
       "</div>"
      ],
      "text/plain": [
       "            类别ID     销量\n",
       "0    910000000.0   24.0\n",
       "1    910010000.0    7.0\n",
       "2    910010002.0    1.0\n",
       "3    910010101.0    6.0\n",
       "4    910010301.0    2.0\n",
       "..           ...    ...\n",
       "363  936030100.0    1.0\n",
       "364  936050100.0    1.0\n",
       "365  936080103.0    1.0\n",
       "366  938030000.0    8.0\n",
       "367  960000000.0  121.0\n",
       "\n",
       "[368 rows x 2 columns]"
      ]
     },
     "execution_count": 42,
     "metadata": {},
     "output_type": "execute_result"
    }
   ],
   "source": [
    "data =pd.read_csv(r\"./file/order-14.1.csv\",encoding=\"gbk\",parse_dates=[\"成交时间\"])   # 导入数据\n",
    "\n",
    "# 查看哪些类别的商品比较畅销\n",
    "data.groupby(\"类别ID\")[\"销量\"].sum().reset_index()"
   ]
  },
  {
   "cell_type": "code",
   "execution_count": 43,
   "metadata": {},
   "outputs": [
    {
     "data": {
      "text/html": [
       "<div>\n",
       "<style scoped>\n",
       "    .dataframe tbody tr th:only-of-type {\n",
       "        vertical-align: middle;\n",
       "    }\n",
       "\n",
       "    .dataframe tbody tr th {\n",
       "        vertical-align: top;\n",
       "    }\n",
       "\n",
       "    .dataframe thead th {\n",
       "        text-align: right;\n",
       "    }\n",
       "</style>\n",
       "<table border=\"1\" class=\"dataframe\">\n",
       "  <thead>\n",
       "    <tr style=\"text-align: right;\">\n",
       "      <th></th>\n",
       "      <th>类别ID</th>\n",
       "      <th>销量</th>\n",
       "    </tr>\n",
       "  </thead>\n",
       "  <tbody>\n",
       "    <tr>\n",
       "      <td>240</td>\n",
       "      <td>922000003.0</td>\n",
       "      <td>425.328</td>\n",
       "    </tr>\n",
       "    <tr>\n",
       "      <td>239</td>\n",
       "      <td>922000002.0</td>\n",
       "      <td>206.424</td>\n",
       "    </tr>\n",
       "    <tr>\n",
       "      <td>251</td>\n",
       "      <td>923000006.0</td>\n",
       "      <td>190.294</td>\n",
       "    </tr>\n",
       "    <tr>\n",
       "      <td>216</td>\n",
       "      <td>915030104.0</td>\n",
       "      <td>175.059</td>\n",
       "    </tr>\n",
       "    <tr>\n",
       "      <td>238</td>\n",
       "      <td>922000001.0</td>\n",
       "      <td>121.355</td>\n",
       "    </tr>\n",
       "    <tr>\n",
       "      <td>367</td>\n",
       "      <td>960000000.0</td>\n",
       "      <td>121.000</td>\n",
       "    </tr>\n",
       "    <tr>\n",
       "      <td>234</td>\n",
       "      <td>920090000.0</td>\n",
       "      <td>111.565</td>\n",
       "    </tr>\n",
       "    <tr>\n",
       "      <td>249</td>\n",
       "      <td>923000002.0</td>\n",
       "      <td>91.847</td>\n",
       "    </tr>\n",
       "    <tr>\n",
       "      <td>237</td>\n",
       "      <td>922000000.0</td>\n",
       "      <td>86.395</td>\n",
       "    </tr>\n",
       "    <tr>\n",
       "      <td>247</td>\n",
       "      <td>923000000.0</td>\n",
       "      <td>85.845</td>\n",
       "    </tr>\n",
       "  </tbody>\n",
       "</table>\n",
       "</div>"
      ],
      "text/plain": [
       "            类别ID       销量\n",
       "240  922000003.0  425.328\n",
       "239  922000002.0  206.424\n",
       "251  923000006.0  190.294\n",
       "216  915030104.0  175.059\n",
       "238  922000001.0  121.355\n",
       "367  960000000.0  121.000\n",
       "234  920090000.0  111.565\n",
       "249  923000002.0   91.847\n",
       "237  922000000.0   86.395\n",
       "247  923000000.0   85.845"
      ]
     },
     "execution_count": 43,
     "metadata": {},
     "output_type": "execute_result"
    }
   ],
   "source": [
    "# 对销量做降序排列，取前10行\n",
    "data.groupby(\"类别ID\")[\"销量\"].sum().reset_index().sort_values(by=\"销量\",ascending=False).head(10)"
   ]
  },
  {
   "cell_type": "code",
   "execution_count": 45,
   "metadata": {},
   "outputs": [
    {
     "data": {
      "text/html": [
       "<div>\n",
       "<style scoped>\n",
       "    .dataframe tbody tr th:only-of-type {\n",
       "        vertical-align: middle;\n",
       "    }\n",
       "\n",
       "    .dataframe tbody tr th {\n",
       "        vertical-align: top;\n",
       "    }\n",
       "\n",
       "    .dataframe thead th {\n",
       "        text-align: right;\n",
       "    }\n",
       "</style>\n",
       "<table border=\"1\" class=\"dataframe\">\n",
       "  <thead>\n",
       "    <tr style=\"text-align: right;\">\n",
       "      <th></th>\n",
       "      <th>商品ID</th>\n",
       "      <th>销量</th>\n",
       "    </tr>\n",
       "  </thead>\n",
       "  <tbody>\n",
       "    <tr>\n",
       "      <td>8</td>\n",
       "      <td>29989059.0</td>\n",
       "      <td>391.549</td>\n",
       "    </tr>\n",
       "    <tr>\n",
       "      <td>18</td>\n",
       "      <td>29989072.0</td>\n",
       "      <td>102.876</td>\n",
       "    </tr>\n",
       "    <tr>\n",
       "      <td>469</td>\n",
       "      <td>30022232.0</td>\n",
       "      <td>101.000</td>\n",
       "    </tr>\n",
       "    <tr>\n",
       "      <td>523</td>\n",
       "      <td>30031960.0</td>\n",
       "      <td>99.998</td>\n",
       "    </tr>\n",
       "    <tr>\n",
       "      <td>57</td>\n",
       "      <td>29989157.0</td>\n",
       "      <td>72.453</td>\n",
       "    </tr>\n",
       "    <tr>\n",
       "      <td>476</td>\n",
       "      <td>30023041.0</td>\n",
       "      <td>64.416</td>\n",
       "    </tr>\n",
       "    <tr>\n",
       "      <td>505</td>\n",
       "      <td>30026255.0</td>\n",
       "      <td>62.375</td>\n",
       "    </tr>\n",
       "    <tr>\n",
       "      <td>7</td>\n",
       "      <td>29989058.0</td>\n",
       "      <td>56.052</td>\n",
       "    </tr>\n",
       "    <tr>\n",
       "      <td>510</td>\n",
       "      <td>30027007.0</td>\n",
       "      <td>48.757</td>\n",
       "    </tr>\n",
       "    <tr>\n",
       "      <td>903</td>\n",
       "      <td>30171264.0</td>\n",
       "      <td>45.000</td>\n",
       "    </tr>\n",
       "  </tbody>\n",
       "</table>\n",
       "</div>"
      ],
      "text/plain": [
       "           商品ID       销量\n",
       "8    29989059.0  391.549\n",
       "18   29989072.0  102.876\n",
       "469  30022232.0  101.000\n",
       "523  30031960.0   99.998\n",
       "57   29989157.0   72.453\n",
       "476  30023041.0   64.416\n",
       "505  30026255.0   62.375\n",
       "7    29989058.0   56.052\n",
       "510  30027007.0   48.757\n",
       "903  30171264.0   45.000"
      ]
     },
     "execution_count": 45,
     "metadata": {},
     "output_type": "execute_result"
    }
   ],
   "source": [
    "#哪些商品比较畅销 ---与计算哪些类别比较畅销的逻辑一致  ，通过透视表来计算哪些商品比较畅销，同样取前10的商品\n",
    "pd.pivot_table(data,index=\"商品ID\",values=\"销量\",aggfunc = \"sum\").reset_index().sort_values(by=\"销量\",ascending=False).head(10)"
   ]
  },
  {
   "cell_type": "code",
   "execution_count": 46,
   "metadata": {},
   "outputs": [
    {
     "data": {
      "text/plain": [
       "门店编号\n",
       "CDLG    10908.82612\n",
       "CDNL     8059.47867\n",
       "CDXL     9981.76166\n",
       "Name: 销售额, dtype: float64"
      ]
     },
     "execution_count": 46,
     "metadata": {},
     "output_type": "execute_result"
    }
   ],
   "source": [
    "# 不同门店的销售额比\n",
    "data[\"销售额\"]=data[\"销量\"]*data[\"单价\"]    # 在数据中新增一个销售额的字段\n",
    "data.groupby(\"门店编号\")[\"销售额\"].sum()   # 按门店编号进行分组，对分组后的营业额求和运算"
   ]
  },
  {
   "cell_type": "code",
   "execution_count": 47,
   "metadata": {},
   "outputs": [
    {
     "data": {
      "text/plain": [
       "门店编号\n",
       "CDLG    0.376815\n",
       "CDNL    0.278392\n",
       "CDXL    0.344792\n",
       "Name: 销售额, dtype: float64"
      ]
     },
     "execution_count": 47,
     "metadata": {},
     "output_type": "execute_result"
    }
   ],
   "source": [
    "data.groupby(\"门店编号\")[\"销售额\"].sum()/data[\"销售额\"].sum()  # 计算不同门店的销售额占比"
   ]
  },
  {
   "cell_type": "code",
   "execution_count": 54,
   "metadata": {},
   "outputs": [
    {
     "data": {
      "text/plain": [
       "<matplotlib.axes._subplots.AxesSubplot at 0x11301f60>"
      ]
     },
     "execution_count": 54,
     "metadata": {},
     "output_type": "execute_result"
    },
    {
     "data": {
      "image/png": "[encoded data removed]",
      "text/plain": [
       "<Figure size 432x288 with 1 Axes>"
      ]
     },
     "metadata": {},
     "output_type": "display_data"
    }
   ],
   "source": [
    "import pandas as pd\n",
    "import matplotlib.pyplot as plt\n",
    "plt.rcParams['font.sans-serif']=['SimHei']\n",
    "plt.rcParams['axes.unicode_minus']=False  \n",
    "\n",
    "# 绘制饼图\n",
    "(data.groupby(\"门店编号\")[\"销售额\"].sum()/data[\"销售额\"].sum()).plot.pie()"
   ]
  },
  {
   "cell_type": "code",
   "execution_count": 63,
   "metadata": {},
   "outputs": [
    {
     "data": {
      "text/plain": [
       "小时\n",
       "6      10\n",
       "7      37\n",
       "8     106\n",
       "9     156\n",
       "10    143\n",
       "11     63\n",
       "13     30\n",
       "14     36\n",
       "15     17\n",
       "16     50\n",
       "17     73\n",
       "18     71\n",
       "19     71\n",
       "20     39\n",
       "21     16\n",
       "Name: 订单ID, dtype: int64"
      ]
     },
     "execution_count": 63,
     "metadata": {},
     "output_type": "execute_result"
    }
   ],
   "source": [
    "\n",
    "data =pd.read_csv(r\"./file/order-14.3.csv\",encoding=\"gbk\",parse_dates=[\"成交时间\"])  \n",
    "# 哪些时间段是超市的客流高峰期\n",
    " # 需要先找到客流量\n",
    "\n",
    "# 利用自定义时间格式函数 strftime 提取小时数\n",
    "data[\"小时\"]=data[\"成交时间\"].map(lambda x:int(x.strftime(\"%H\")))\n",
    "# 对小时和订单去重\n",
    "traffic = data[[\"小时\",\"订单ID\"]].drop_duplicates()\n",
    "# 求每个小时的客流量\n",
    "traffic.groupby(\"小时\")[\"订单ID\"].count()"
   ]
  },
  {
   "cell_type": "code",
   "execution_count": 64,
   "metadata": {},
   "outputs": [
    {
     "data": {
      "text/plain": [
       "<matplotlib.axes._subplots.AxesSubplot at 0x11521898>"
      ]
     },
     "execution_count": 64,
     "metadata": {},
     "output_type": "execute_result"
    },
    {
     "data": {
      "image/png": "[encoded data removed]",
      "text/plain": [
       "<Figure size 432x288 with 1 Axes>"
      ]
     },
     "metadata": {
      "needs_background": "light"
     },
     "output_type": "display_data"
    }
   ],
   "source": [
    "traffic.groupby(\"小时\")[\"订单ID\"].count().plot()"
   ]
  },
  {
   "cell_type": "markdown",
   "metadata": {},
   "source": [
    "#### 某银行的数据分析师"
   ]
  },
  {
   "cell_type": "code",
   "execution_count": 67,
   "metadata": {},
   "outputs": [
    {
     "name": "stdout",
     "output_type": "stream",
     "text": [
      "<class 'pandas.core.frame.DataFrame'>\n",
      "RangeIndex: 150000 entries, 0 to 149999\n",
      "Data columns (total 6 columns):\n",
      "用户ID    150000 non-null int64\n",
      "好坏客户    150000 non-null int64\n",
      "年龄      150000 non-null int64\n",
      "负债率     150000 non-null float64\n",
      "月收入     120269 non-null float64\n",
      "家属数量    146076 non-null float64\n",
      "dtypes: float64(3), int64(3)\n",
      "memory usage: 6.9 MB\n"
     ]
    }
   ],
   "source": [
    "data = pd.read_csv(r\"./file/loan.csv\",encoding=\"gbk\")\n",
    "data.info()"
   ]
  },
  {
   "cell_type": "code",
   "execution_count": 69,
   "metadata": {},
   "outputs": [
    {
     "name": "stdout",
     "output_type": "stream",
     "text": [
      "<class 'pandas.core.frame.DataFrame'>\n",
      "RangeIndex: 150000 entries, 0 to 149999\n",
      "Data columns (total 6 columns):\n",
      "用户ID    150000 non-null int64\n",
      "好坏客户    150000 non-null int64\n",
      "年龄      150000 non-null int64\n",
      "负债率     150000 non-null float64\n",
      "月收入     150000 non-null float64\n",
      "家属数量    146076 non-null float64\n",
      "dtypes: float64(3), int64(3)\n",
      "memory usage: 6.9 MB\n"
     ]
    }
   ],
   "source": [
    "# 是不是收入越高的人坏账率越低\n",
    "data=data.fillna({\"月收入\":data[\"月收入\"].mean()})  #  对缺失值进行处理，使用均值填充法\n",
    "data.info()"
   ]
  },
  {
   "cell_type": "code",
   "execution_count": 70,
   "metadata": {},
   "outputs": [
    {
     "data": {
      "text/plain": [
       "0           (5000, 10000]\n",
       "1               (0, 5000]\n",
       "2               (0, 5000]\n",
       "3               (0, 5000]\n",
       "4         (20000, 100000]\n",
       "               ...       \n",
       "149995          (0, 5000]\n",
       "149996      (5000, 10000]\n",
       "149997      (5000, 10000]\n",
       "149998      (5000, 10000]\n",
       "149999      (5000, 10000]\n",
       "Name: 月收入, Length: 150000, dtype: category\n",
       "Categories (5, interval[int64]): [(0, 5000] < (5000, 10000] < (10000, 15000] < (15000, 20000] < (20000, 100000]]"
      ]
     },
     "execution_count": 70,
     "metadata": {},
     "output_type": "execute_result"
    }
   ],
   "source": [
    "# 月收入属于连续值，对连续值进行分析时，我们一般都会将连续值离散化，就是将连续值进行区间划分，分成若干类别\n",
    "cut_bins=[0,5000,10000,15000,20000,100000]\n",
    "income_cut =pd.cut(data[\"月收入\"],cut_bins)\n",
    "income_cut"
   ]
  },
  {
   "cell_type": "code",
   "execution_count": 71,
   "metadata": {},
   "outputs": [
    {
     "data": {
      "text/plain": [
       "月收入\n",
       "(0, 5000]          0.087543\n",
       "(5000, 10000]      0.058308\n",
       "(10000, 15000]     0.041964\n",
       "(15000, 20000]     0.041811\n",
       "(20000, 100000]    0.053615\n",
       "Name: 好坏客户, dtype: float64"
      ]
     },
     "execution_count": 71,
     "metadata": {},
     "output_type": "execute_result"
    }
   ],
   "source": [
    "# 区间分好，看每个区间的坏账率，坏账率就是所有借款用户中逾期不还用户的占比。逾期不还用户的好坏客户字段标记为1，非逾期不还用户的好坏客户字段标记为0；\n",
    "# 坏账率等于好坏客户字段之和（坏账客户数）与好坏客户字段的计数（所有借款用户）的比值\n",
    "all_income_user=data[\"好坏客户\"].groupby(income_cut).count()\n",
    "bad_income_user=data[\"好坏客户\"].groupby(income_cut).sum()\n",
    "bad_rate=bad_income_user/all_income_user\n",
    "bad_rate"
   ]
  },
  {
   "cell_type": "code",
   "execution_count": 72,
   "metadata": {},
   "outputs": [
    {
     "data": {
      "text/plain": [
       "<matplotlib.axes._subplots.AxesSubplot at 0x16cbc208>"
      ]
     },
     "execution_count": 72,
     "metadata": {},
     "output_type": "execute_result"
    },
    {
     "data": {
      "image/png": "[encoded data removed]",
      "text/plain": [
       "<Figure size 432x288 with 1 Axes>"
      ]
     },
     "metadata": {
      "needs_background": "light"
     },
     "output_type": "display_data"
    }
   ],
   "source": [
    "bad_rate.plot.bar()"
   ]
  },
  {
   "cell_type": "code",
   "execution_count": 74,
   "metadata": {},
   "outputs": [
    {
     "data": {
      "text/plain": [
       "年龄\n",
       "(-0.001, 37.0]    0.108201\n",
       "(37.0, 45.0]      0.086841\n",
       "(45.0, 52.0]      0.078956\n",
       "(52.0, 59.0]      0.059600\n",
       "(59.0, 67.0]      0.039205\n",
       "(67.0, 109.0]     0.022498\n",
       "Name: 好坏客户, dtype: float64"
      ]
     },
     "execution_count": 74,
     "metadata": {},
     "output_type": "execute_result"
    }
   ],
   "source": [
    "# 年龄和坏账率有关系吗\n",
    "\n",
    "#年龄也是连续值，把其连续值进行离散化处理\n",
    "age_cut = pd.qcut(data[\"年龄\"],6)\n",
    "all_age_user = data[\"好坏客户\"].groupby(age_cut).count()\n",
    "bad_age_user = data[\"好坏客户\"].groupby(age_cut).sum()\n",
    "bad_rate=bad_age_user/all_age_user\n",
    "bad_rate"
   ]
  },
  {
   "cell_type": "code",
   "execution_count": 75,
   "metadata": {},
   "outputs": [
    {
     "data": {
      "text/plain": [
       "<matplotlib.axes._subplots.AxesSubplot at 0x163d1eb8>"
      ]
     },
     "execution_count": 75,
     "metadata": {},
     "output_type": "execute_result"
    },
    {
     "data": {
      "image/png": "[encoded data removed]",
      "text/plain": [
       "<Figure size 432x288 with 1 Axes>"
      ]
     },
     "metadata": {
      "needs_background": "light"
     },
     "output_type": "display_data"
    }
   ],
   "source": [
    "bad_rate.plot.bar()"
   ]
  },
  {
   "cell_type": "code",
   "execution_count": 79,
   "metadata": {},
   "outputs": [
    {
     "data": {
      "text/plain": [
       "家属数量\n",
       "0.0     0.058629\n",
       "1.0     0.073529\n",
       "2.0     0.081139\n",
       "3.0     0.088263\n",
       "4.0     0.103774\n",
       "5.0     0.091153\n",
       "6.0     0.151899\n",
       "7.0     0.098039\n",
       "8.0     0.083333\n",
       "9.0     0.000000\n",
       "10.0    0.000000\n",
       "13.0    0.000000\n",
       "20.0    0.000000\n",
       "Name: 好坏客户, dtype: float64"
      ]
     },
     "execution_count": 79,
     "metadata": {},
     "output_type": "execute_result"
    }
   ],
   "source": [
    "# 家庭人口数量和坏账率有什么关系\n",
    "#虽然人口数量也是连续值，但因为数量不是很大，所以我们当做离散值进行处理\n",
    "all_age_user = data.groupby(\"家属数量\")[\"好坏客户\"].count()\n",
    "bad_age_user = data.groupby(\"家属数量\")[\"好坏客户\"].sum()\n",
    "bad_rate=bad_age_user/all_age_user\n",
    "bad_rate"
   ]
  },
  {
   "cell_type": "code",
   "execution_count": 78,
   "metadata": {},
   "outputs": [
    {
     "data": {
      "text/plain": [
       "<matplotlib.axes._subplots.AxesSubplot at 0x16213780>"
      ]
     },
     "execution_count": 78,
     "metadata": {},
     "output_type": "execute_result"
    },
    {
     "data": {
      "image/png": "[encoded data removed]",
      "text/plain": [
       "<Figure size 432x288 with 1 Axes>"
      ]
     },
     "metadata": {
      "needs_background": "light"
     },
     "output_type": "display_data"
    }
   ],
   "source": [
    "bad_rate.plot()"
   ]
  },
  {
   "cell_type": "code",
   "execution_count": null,
   "metadata": {},
   "outputs": [],
   "source": []
  }
 ],
 "metadata": {
  "kernelspec": {
   "display_name": "Python 3",
   "language": "python",
   "name": "python3"
  },
  "language_info": {
   "codemirror_mode": {
    "name": "ipython",
    "version": 3
   },
   "file_extension": ".py",
   "mimetype": "text/x-python",
   "name": "python",
   "nbconvert_exporter": "python",
   "pygments_lexer": "ipython3",
   "version": "3.7.3"
  },
  "toc": {
   "base_numbering": 1,
   "nav_menu": {},
   "number_sections": true,
   "sideBar": true,
   "skip_h1_title": false,
   "title_cell": "Table of Contents",
   "title_sidebar": "Contents",
   "toc_cell": false,
   "toc_position": {},
   "toc_section_display": true,
   "toc_window_display": true
  }
 },
 "nbformat": 4,
 "nbformat_minor": 2
}
