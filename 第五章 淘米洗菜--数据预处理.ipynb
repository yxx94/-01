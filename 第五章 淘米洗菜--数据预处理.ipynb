{
 "cells": [
  {
   "cell_type": "markdown",
   "metadata": {},
   "source": [
    "### 淘米洗菜--数据预处理"
   ]
  },
  {
   "cell_type": "markdown",
   "metadata": {},
   "source": [
    "#### 缺失值的处理"
   ]
  },
  {
   "cell_type": "raw",
   "metadata": {},
   "source": [
    "（1）python中直接调用info()方法就会返回每一列缺失的情况。python中缺失值一般用Nan表示。\n",
    "（2）还可以使用isnull()方法来判断哪个值是缺失值，如果是缺失值返回True,如果不是缺失值则返回false  df.isnull()"
   ]
  },
  {
   "cell_type": "code",
   "execution_count": 2,
   "metadata": {},
   "outputs": [
    {
     "data": {
      "text/html": [
       "<div>\n",
       "<style scoped>\n",
       "    .dataframe tbody tr th:only-of-type {\n",
       "        vertical-align: middle;\n",
       "    }\n",
       "\n",
       "    .dataframe tbody tr th {\n",
       "        vertical-align: top;\n",
       "    }\n",
       "\n",
       "    .dataframe thead th {\n",
       "        text-align: right;\n",
       "    }\n",
       "</style>\n",
       "<table border=\"1\" class=\"dataframe\">\n",
       "  <thead>\n",
       "    <tr style=\"text-align: right;\">\n",
       "      <th></th>\n",
       "      <th>类别</th>\n",
       "      <th>书名</th>\n",
       "      <th>作者</th>\n",
       "    </tr>\n",
       "  </thead>\n",
       "  <tbody>\n",
       "    <tr>\n",
       "      <td>0</td>\n",
       "      <td>False</td>\n",
       "      <td>True</td>\n",
       "      <td>False</td>\n",
       "    </tr>\n",
       "    <tr>\n",
       "      <td>1</td>\n",
       "      <td>False</td>\n",
       "      <td>False</td>\n",
       "      <td>True</td>\n",
       "    </tr>\n",
       "    <tr>\n",
       "      <td>2</td>\n",
       "      <td>False</td>\n",
       "      <td>False</td>\n",
       "      <td>False</td>\n",
       "    </tr>\n",
       "    <tr>\n",
       "      <td>3</td>\n",
       "      <td>False</td>\n",
       "      <td>False</td>\n",
       "      <td>False</td>\n",
       "    </tr>\n",
       "  </tbody>\n",
       "</table>\n",
       "</div>"
      ],
      "text/plain": [
       "      类别     书名     作者\n",
       "0  False   True  False\n",
       "1  False  False   True\n",
       "2  False  False  False\n",
       "3  False  False  False"
      ]
     },
     "execution_count": 2,
     "metadata": {},
     "output_type": "execute_result"
    }
   ],
   "source": [
    "import pandas as pd\n",
    "# 指明读取的行数  nrows  encoding=\"utf-8\"  encoding=\"gbk\"\n",
    "df=pd.read_csv(r\".\\file\\test.csv\",encoding=\"utf-8\")\n",
    "df.isnull()"
   ]
  },
  {
   "cell_type": "markdown",
   "metadata": {},
   "source": [
    "#### 缺失值删除"
   ]
  },
  {
   "cell_type": "raw",
   "metadata": {},
   "source": [
    "缺失值分为2种，一种是一行种某个字段是缺失值，另一种是一行中字段的全部为缺失值，即为一个空白行\n",
    "python中，利用的是dropna()方法其实默认删除含有缺失值的行，也就是某一行有缺失值就把这一行删除。返回的是删除后的数据。\n",
    "如果想删除空白行，只需向dropna()方法中传入一个参数 how=\"all\"即可。这样就会只删除那些全为空值的行。"
   ]
  },
  {
   "cell_type": "code",
   "execution_count": 3,
   "metadata": {},
   "outputs": [
    {
     "data": {
      "text/html": [
       "<div>\n",
       "<style scoped>\n",
       "    .dataframe tbody tr th:only-of-type {\n",
       "        vertical-align: middle;\n",
       "    }\n",
       "\n",
       "    .dataframe tbody tr th {\n",
       "        vertical-align: top;\n",
       "    }\n",
       "\n",
       "    .dataframe thead th {\n",
       "        text-align: right;\n",
       "    }\n",
       "</style>\n",
       "<table border=\"1\" class=\"dataframe\">\n",
       "  <thead>\n",
       "    <tr style=\"text-align: right;\">\n",
       "      <th></th>\n",
       "      <th>类别</th>\n",
       "      <th>书名</th>\n",
       "      <th>作者</th>\n",
       "    </tr>\n",
       "  </thead>\n",
       "  <tbody>\n",
       "    <tr>\n",
       "      <td>2</td>\n",
       "      <td>青春文学</td>\n",
       "      <td>《旅游结束时》</td>\n",
       "      <td>张启鑫</td>\n",
       "    </tr>\n",
       "    <tr>\n",
       "      <td>3</td>\n",
       "      <td>传记</td>\n",
       "      <td>《老舍自传》</td>\n",
       "      <td>老舍</td>\n",
       "    </tr>\n",
       "  </tbody>\n",
       "</table>\n",
       "</div>"
      ],
      "text/plain": [
       "     类别        书名   作者\n",
       "2  青春文学  《旅游结束时》   张启鑫\n",
       "3    传记    《老舍自传》   老舍"
      ]
     },
     "execution_count": 3,
     "metadata": {},
     "output_type": "execute_result"
    }
   ],
   "source": [
    "df.dropna()  # df.dropna(how=\"all\")"
   ]
  },
  {
   "cell_type": "markdown",
   "metadata": {},
   "source": [
    "#### 缺失值的填充"
   ]
  },
  {
   "cell_type": "raw",
   "metadata": {},
   "source": [
    "一般情况下只有数据缺失比列不是过高（不大于30%）,尽量别删除，而是选择填充\n",
    "在python中，利用fillna()方法对数据表中的所有缺失值进行填充，在fillna()后面的括号中输入要填充的值即可"
   ]
  },
  {
   "cell_type": "code",
   "execution_count": 4,
   "metadata": {},
   "outputs": [
    {
     "data": {
      "text/html": [
       "<div>\n",
       "<style scoped>\n",
       "    .dataframe tbody tr th:only-of-type {\n",
       "        vertical-align: middle;\n",
       "    }\n",
       "\n",
       "    .dataframe tbody tr th {\n",
       "        vertical-align: top;\n",
       "    }\n",
       "\n",
       "    .dataframe thead th {\n",
       "        text-align: right;\n",
       "    }\n",
       "</style>\n",
       "<table border=\"1\" class=\"dataframe\">\n",
       "  <thead>\n",
       "    <tr style=\"text-align: right;\">\n",
       "      <th></th>\n",
       "      <th>类别</th>\n",
       "      <th>书名</th>\n",
       "      <th>作者</th>\n",
       "    </tr>\n",
       "  </thead>\n",
       "  <tbody>\n",
       "    <tr>\n",
       "      <td>0</td>\n",
       "      <td>小说</td>\n",
       "      <td>NaN</td>\n",
       "      <td>老舍</td>\n",
       "    </tr>\n",
       "    <tr>\n",
       "      <td>1</td>\n",
       "      <td>散文集</td>\n",
       "      <td>《皮囊》</td>\n",
       "      <td>NaN</td>\n",
       "    </tr>\n",
       "    <tr>\n",
       "      <td>2</td>\n",
       "      <td>青春文学</td>\n",
       "      <td>《旅游结束时》</td>\n",
       "      <td>张启鑫</td>\n",
       "    </tr>\n",
       "    <tr>\n",
       "      <td>3</td>\n",
       "      <td>传记</td>\n",
       "      <td>《老舍自传》</td>\n",
       "      <td>老舍</td>\n",
       "    </tr>\n",
       "  </tbody>\n",
       "</table>\n",
       "</div>"
      ],
      "text/plain": [
       "     类别        书名   作者\n",
       "0    小说       NaN   老舍\n",
       "1   散文集      《皮囊》  NaN\n",
       "2  青春文学  《旅游结束时》   张启鑫\n",
       "3    传记    《老舍自传》   老舍"
      ]
     },
     "execution_count": 4,
     "metadata": {},
     "output_type": "execute_result"
    }
   ],
   "source": [
    "df"
   ]
  },
  {
   "cell_type": "code",
   "execution_count": 5,
   "metadata": {},
   "outputs": [
    {
     "data": {
      "text/html": [
       "<div>\n",
       "<style scoped>\n",
       "    .dataframe tbody tr th:only-of-type {\n",
       "        vertical-align: middle;\n",
       "    }\n",
       "\n",
       "    .dataframe tbody tr th {\n",
       "        vertical-align: top;\n",
       "    }\n",
       "\n",
       "    .dataframe thead th {\n",
       "        text-align: right;\n",
       "    }\n",
       "</style>\n",
       "<table border=\"1\" class=\"dataframe\">\n",
       "  <thead>\n",
       "    <tr style=\"text-align: right;\">\n",
       "      <th></th>\n",
       "      <th>类别</th>\n",
       "      <th>书名</th>\n",
       "      <th>作者</th>\n",
       "    </tr>\n",
       "  </thead>\n",
       "  <tbody>\n",
       "    <tr>\n",
       "      <td>0</td>\n",
       "      <td>小说</td>\n",
       "      <td>0</td>\n",
       "      <td>老舍</td>\n",
       "    </tr>\n",
       "    <tr>\n",
       "      <td>1</td>\n",
       "      <td>散文集</td>\n",
       "      <td>《皮囊》</td>\n",
       "      <td>0</td>\n",
       "    </tr>\n",
       "    <tr>\n",
       "      <td>2</td>\n",
       "      <td>青春文学</td>\n",
       "      <td>《旅游结束时》</td>\n",
       "      <td>张启鑫</td>\n",
       "    </tr>\n",
       "    <tr>\n",
       "      <td>3</td>\n",
       "      <td>传记</td>\n",
       "      <td>《老舍自传》</td>\n",
       "      <td>老舍</td>\n",
       "    </tr>\n",
       "  </tbody>\n",
       "</table>\n",
       "</div>"
      ],
      "text/plain": [
       "     类别        书名   作者\n",
       "0    小说         0   老舍\n",
       "1   散文集      《皮囊》    0\n",
       "2  青春文学  《旅游结束时》   张启鑫\n",
       "3    传记    《老舍自传》   老舍"
      ]
     },
     "execution_count": 5,
     "metadata": {},
     "output_type": "execute_result"
    }
   ],
   "source": [
    "df.fillna(0)"
   ]
  },
  {
   "cell_type": "raw",
   "metadata": {},
   "source": [
    "在python中我们也可以按不同列填充，只要在fillna()方法的括号中指明列名即可。"
   ]
  },
  {
   "cell_type": "code",
   "execution_count": 6,
   "metadata": {},
   "outputs": [
    {
     "data": {
      "text/html": [
       "<div>\n",
       "<style scoped>\n",
       "    .dataframe tbody tr th:only-of-type {\n",
       "        vertical-align: middle;\n",
       "    }\n",
       "\n",
       "    .dataframe tbody tr th {\n",
       "        vertical-align: top;\n",
       "    }\n",
       "\n",
       "    .dataframe thead th {\n",
       "        text-align: right;\n",
       "    }\n",
       "</style>\n",
       "<table border=\"1\" class=\"dataframe\">\n",
       "  <thead>\n",
       "    <tr style=\"text-align: right;\">\n",
       "      <th></th>\n",
       "      <th>类别</th>\n",
       "      <th>书名</th>\n",
       "      <th>作者</th>\n",
       "    </tr>\n",
       "  </thead>\n",
       "  <tbody>\n",
       "    <tr>\n",
       "      <td>0</td>\n",
       "      <td>小说</td>\n",
       "      <td>《非暴力沟通》</td>\n",
       "      <td>老舍</td>\n",
       "    </tr>\n",
       "    <tr>\n",
       "      <td>1</td>\n",
       "      <td>散文集</td>\n",
       "      <td>《皮囊》</td>\n",
       "      <td>NaN</td>\n",
       "    </tr>\n",
       "    <tr>\n",
       "      <td>2</td>\n",
       "      <td>青春文学</td>\n",
       "      <td>《旅游结束时》</td>\n",
       "      <td>张启鑫</td>\n",
       "    </tr>\n",
       "    <tr>\n",
       "      <td>3</td>\n",
       "      <td>传记</td>\n",
       "      <td>《老舍自传》</td>\n",
       "      <td>老舍</td>\n",
       "    </tr>\n",
       "  </tbody>\n",
       "</table>\n",
       "</div>"
      ],
      "text/plain": [
       "     类别        书名   作者\n",
       "0    小说   《非暴力沟通》   老舍\n",
       "1   散文集      《皮囊》  NaN\n",
       "2  青春文学  《旅游结束时》   张启鑫\n",
       "3    传记    《老舍自传》   老舍"
      ]
     },
     "execution_count": 6,
     "metadata": {},
     "output_type": "execute_result"
    }
   ],
   "source": [
    "df.fillna({\"书名\":\"《非暴力沟通》\"})"
   ]
  },
  {
   "cell_type": "code",
   "execution_count": 7,
   "metadata": {},
   "outputs": [
    {
     "data": {
      "text/html": [
       "<div>\n",
       "<style scoped>\n",
       "    .dataframe tbody tr th:only-of-type {\n",
       "        vertical-align: middle;\n",
       "    }\n",
       "\n",
       "    .dataframe tbody tr th {\n",
       "        vertical-align: top;\n",
       "    }\n",
       "\n",
       "    .dataframe thead th {\n",
       "        text-align: right;\n",
       "    }\n",
       "</style>\n",
       "<table border=\"1\" class=\"dataframe\">\n",
       "  <thead>\n",
       "    <tr style=\"text-align: right;\">\n",
       "      <th></th>\n",
       "      <th>类别</th>\n",
       "      <th>书名</th>\n",
       "      <th>作者</th>\n",
       "    </tr>\n",
       "  </thead>\n",
       "  <tbody>\n",
       "    <tr>\n",
       "      <td>0</td>\n",
       "      <td>小说</td>\n",
       "      <td>《非暴力沟通》</td>\n",
       "      <td>老舍</td>\n",
       "    </tr>\n",
       "    <tr>\n",
       "      <td>1</td>\n",
       "      <td>散文集</td>\n",
       "      <td>《皮囊》</td>\n",
       "      <td>yxx</td>\n",
       "    </tr>\n",
       "    <tr>\n",
       "      <td>2</td>\n",
       "      <td>青春文学</td>\n",
       "      <td>《旅游结束时》</td>\n",
       "      <td>张启鑫</td>\n",
       "    </tr>\n",
       "    <tr>\n",
       "      <td>3</td>\n",
       "      <td>传记</td>\n",
       "      <td>《老舍自传》</td>\n",
       "      <td>老舍</td>\n",
       "    </tr>\n",
       "  </tbody>\n",
       "</table>\n",
       "</div>"
      ],
      "text/plain": [
       "     类别        书名   作者\n",
       "0    小说   《非暴力沟通》   老舍\n",
       "1   散文集      《皮囊》  yxx\n",
       "2  青春文学  《旅游结束时》   张启鑫\n",
       "3    传记    《老舍自传》   老舍"
      ]
     },
     "execution_count": 7,
     "metadata": {},
     "output_type": "execute_result"
    }
   ],
   "source": [
    "df.fillna({\"书名\":\"《非暴力沟通》\",\"作者\":\"yxx\"})"
   ]
  },
  {
   "cell_type": "markdown",
   "metadata": {},
   "source": [
    "#### 重复值的处理"
   ]
  },
  {
   "cell_type": "raw",
   "metadata": {},
   "source": [
    "重复数据就是同样的记录有多条，我们一般做删除操作\n",
    "在python中我们利用 drop_duplicates()方法，该方法默认对所有值进行重复值判断，切默认保留第一个（行）值"
   ]
  },
  {
   "cell_type": "code",
   "execution_count": 23,
   "metadata": {},
   "outputs": [
    {
     "data": {
      "text/html": [
       "<div>\n",
       "<style scoped>\n",
       "    .dataframe tbody tr th:only-of-type {\n",
       "        vertical-align: middle;\n",
       "    }\n",
       "\n",
       "    .dataframe tbody tr th {\n",
       "        vertical-align: top;\n",
       "    }\n",
       "\n",
       "    .dataframe thead th {\n",
       "        text-align: right;\n",
       "    }\n",
       "</style>\n",
       "<table border=\"1\" class=\"dataframe\">\n",
       "  <thead>\n",
       "    <tr style=\"text-align: right;\">\n",
       "      <th></th>\n",
       "      <th>订单编号</th>\n",
       "      <th>客户姓名</th>\n",
       "      <th>唯一识别码</th>\n",
       "      <th>成交时间</th>\n",
       "    </tr>\n",
       "  </thead>\n",
       "  <tbody>\n",
       "    <tr>\n",
       "      <td>0</td>\n",
       "      <td>A1</td>\n",
       "      <td>张三</td>\n",
       "      <td>101</td>\n",
       "      <td>2019-01-02</td>\n",
       "    </tr>\n",
       "    <tr>\n",
       "      <td>1</td>\n",
       "      <td>A2</td>\n",
       "      <td>李四</td>\n",
       "      <td>102</td>\n",
       "      <td>2019-02-03</td>\n",
       "    </tr>\n",
       "    <tr>\n",
       "      <td>2</td>\n",
       "      <td>A3</td>\n",
       "      <td>王五</td>\n",
       "      <td>105</td>\n",
       "      <td>2019-03-01</td>\n",
       "    </tr>\n",
       "    <tr>\n",
       "      <td>3</td>\n",
       "      <td>A2</td>\n",
       "      <td>李四</td>\n",
       "      <td>102</td>\n",
       "      <td>2019-02-03</td>\n",
       "    </tr>\n",
       "  </tbody>\n",
       "</table>\n",
       "</div>"
      ],
      "text/plain": [
       "  订单编号 客户姓名  唯一识别码        成交时间\n",
       "0   A1   张三    101  2019-01-02\n",
       "1   A2   李四    102  2019-02-03\n",
       "2   A3   王五    105  2019-03-01\n",
       "3   A2   李四    102  2019-02-03"
      ]
     },
     "execution_count": 23,
     "metadata": {},
     "output_type": "execute_result"
    }
   ],
   "source": [
    "df2=pd.read_table(r\".\\file\\test.txt\",sep=\" \",encoding=\"utf-8\")\n",
    "df2"
   ]
  },
  {
   "cell_type": "code",
   "execution_count": 24,
   "metadata": {},
   "outputs": [
    {
     "data": {
      "text/html": [
       "<div>\n",
       "<style scoped>\n",
       "    .dataframe tbody tr th:only-of-type {\n",
       "        vertical-align: middle;\n",
       "    }\n",
       "\n",
       "    .dataframe tbody tr th {\n",
       "        vertical-align: top;\n",
       "    }\n",
       "\n",
       "    .dataframe thead th {\n",
       "        text-align: right;\n",
       "    }\n",
       "</style>\n",
       "<table border=\"1\" class=\"dataframe\">\n",
       "  <thead>\n",
       "    <tr style=\"text-align: right;\">\n",
       "      <th></th>\n",
       "      <th>订单编号</th>\n",
       "      <th>客户姓名</th>\n",
       "      <th>唯一识别码</th>\n",
       "      <th>成交时间</th>\n",
       "    </tr>\n",
       "  </thead>\n",
       "  <tbody>\n",
       "    <tr>\n",
       "      <td>0</td>\n",
       "      <td>A1</td>\n",
       "      <td>张三</td>\n",
       "      <td>101</td>\n",
       "      <td>2019-01-02</td>\n",
       "    </tr>\n",
       "    <tr>\n",
       "      <td>1</td>\n",
       "      <td>A2</td>\n",
       "      <td>李四</td>\n",
       "      <td>102</td>\n",
       "      <td>2019-02-03</td>\n",
       "    </tr>\n",
       "    <tr>\n",
       "      <td>2</td>\n",
       "      <td>A3</td>\n",
       "      <td>王五</td>\n",
       "      <td>105</td>\n",
       "      <td>2019-03-01</td>\n",
       "    </tr>\n",
       "  </tbody>\n",
       "</table>\n",
       "</div>"
      ],
      "text/plain": [
       "  订单编号 客户姓名  唯一识别码        成交时间\n",
       "0   A1   张三    101  2019-01-02\n",
       "1   A2   李四    102  2019-02-03\n",
       "2   A3   王五    105  2019-03-01"
      ]
     },
     "execution_count": 24,
     "metadata": {},
     "output_type": "execute_result"
    }
   ],
   "source": [
    "df2.drop_duplicates()"
   ]
  },
  {
   "cell_type": "raw",
   "metadata": {},
   "source": [
    "指定列名，如果指定列名里面的内容重复就删除（去重），则需要传入参数 subset\n",
    "df.drop_duplicates(subset=[\"客户姓名\",\"唯一识别码\"])"
   ]
  },
  {
   "cell_type": "raw",
   "metadata": {},
   "source": [
    "还可以自定义删除重复想时保留那个，默认保留第一个，也可以设置保留最后一个，或者全部不保留。\n",
    "可以传入参数keep进行设置。keep的参数 first为默认值即保留第一个值。也可以是last，保留最后一个值，还可以是 False即把重复值全部删除\n",
    "df.drop_duplicates(subset=[\"客户姓名\",\"唯一识别码\"],keep=\"last\")"
   ]
  },
  {
   "cell_type": "markdown",
   "metadata": {},
   "source": [
    "#### 异常值的检测与处理"
   ]
  },
  {
   "cell_type": "raw",
   "metadata": {},
   "source": [
    "异常值就是相比正常数据而言过高或者过低的数据\n",
    "异常值的检测就是要发现异常值，其方式有三种：\n",
    "（1）根据业务经验划定不同指标的正常范围，超出该范围的值算作异常值\n",
    "（2）通过绘制箱型图，把大于（小于）箱型图上边缘（下边缘）的点称为异常值\n",
    "（3）如果数据服从正态分布，则可以利用3a原则。如果一个数值与平均值之间的偏差超过3倍标准差，那么我们认为这个值就是异常值。"
   ]
  },
  {
   "cell_type": "raw",
   "metadata": {},
   "source": [
    "异常值的处理：\n",
    "对于异常值一般有以下几种处理方式：\n",
    "（1）最常用的处理方式是删除；\n",
    "（2）把异常值当做缺失值来填充；\n",
    "（3）把异常值当作特殊情况，研究异常值出现的原因；\n",
    "\n",
    "对异常值进行填充，就是对异常值进行替换，利用replace()方法可以对特定的值进行替换。\n"
   ]
  },
  {
   "cell_type": "markdown",
   "metadata": {},
   "source": [
    "#### 数据类型转换"
   ]
  },
  {
   "cell_type": "raw",
   "metadata": {},
   "source": [
    "python中使用dtype方法获取某一列数据类型"
   ]
  },
  {
   "cell_type": "code",
   "execution_count": 2,
   "metadata": {},
   "outputs": [
    {
     "data": {
      "text/plain": [
       "dtype('O')"
      ]
     },
     "execution_count": 2,
     "metadata": {},
     "output_type": "execute_result"
    }
   ],
   "source": [
    "import pandas as pd\n",
    "df2=pd.read_table(r\".\\file\\test.txt\",sep=\" \",encoding=\"utf-8\")\n",
    "df2[\"订单编号\"].dtype"
   ]
  },
  {
   "cell_type": "raw",
   "metadata": {},
   "source": [
    "不同的类型可以做不同的事情，我们可以对数据进行类型转换，转换成我们需要的类型。\n",
    "在python中使用 astype()方法对数据类型进行转换，astype后面的括号里指明要转换的目标类型即可。"
   ]
  },
  {
   "cell_type": "code",
   "execution_count": 4,
   "metadata": {},
   "outputs": [
    {
     "data": {
      "text/plain": [
       "dtype('int64')"
      ]
     },
     "execution_count": 4,
     "metadata": {},
     "output_type": "execute_result"
    }
   ],
   "source": [
    "df2[\"唯一识别码\"].dtype"
   ]
  },
  {
   "cell_type": "code",
   "execution_count": 5,
   "metadata": {},
   "outputs": [
    {
     "data": {
      "text/plain": [
       "0    101.0\n",
       "1    102.0\n",
       "2    105.0\n",
       "3    102.0\n",
       "Name: 唯一识别码, dtype: float64"
      ]
     },
     "execution_count": 5,
     "metadata": {},
     "output_type": "execute_result"
    }
   ],
   "source": [
    "df2[\"唯一识别码\"].astype(\"float64\")"
   ]
  },
  {
   "cell_type": "markdown",
   "metadata": {},
   "source": [
    "#### 索引设置"
   ]
  },
  {
   "cell_type": "raw",
   "metadata": {},
   "source": [
    "为无索引表添加索引：\n",
    "给表 df的columns参数传入 列索引值，index参数传入 行索引值 ，达到为无索引表添加索引的目的；\n",
    "df.columns=[\"订单编号\",\"客户姓名\",\"唯一识别码\",\"成交时间\"]\n",
    "df.index=[1,2,3,4]"
   ]
  },
  {
   "cell_type": "raw",
   "metadata": {},
   "source": [
    "重新设置索引：\n",
    "重新设置索引一般指行索引的设置。\n",
    "在python中可以利用set_index()方法重新设置索引列。在set_index()里指明要用作行索引的列的名称即可。"
   ]
  },
  {
   "cell_type": "code",
   "execution_count": 6,
   "metadata": {},
   "outputs": [
    {
     "data": {
      "text/html": [
       "<div>\n",
       "<style scoped>\n",
       "    .dataframe tbody tr th:only-of-type {\n",
       "        vertical-align: middle;\n",
       "    }\n",
       "\n",
       "    .dataframe tbody tr th {\n",
       "        vertical-align: top;\n",
       "    }\n",
       "\n",
       "    .dataframe thead th {\n",
       "        text-align: right;\n",
       "    }\n",
       "</style>\n",
       "<table border=\"1\" class=\"dataframe\">\n",
       "  <thead>\n",
       "    <tr style=\"text-align: right;\">\n",
       "      <th></th>\n",
       "      <th>客户姓名</th>\n",
       "      <th>唯一识别码</th>\n",
       "      <th>成交时间</th>\n",
       "    </tr>\n",
       "    <tr>\n",
       "      <th>订单编号</th>\n",
       "      <th></th>\n",
       "      <th></th>\n",
       "      <th></th>\n",
       "    </tr>\n",
       "  </thead>\n",
       "  <tbody>\n",
       "    <tr>\n",
       "      <td>A1</td>\n",
       "      <td>张三</td>\n",
       "      <td>101</td>\n",
       "      <td>2019-01-02</td>\n",
       "    </tr>\n",
       "    <tr>\n",
       "      <td>A2</td>\n",
       "      <td>李四</td>\n",
       "      <td>102</td>\n",
       "      <td>2019-02-03</td>\n",
       "    </tr>\n",
       "    <tr>\n",
       "      <td>A3</td>\n",
       "      <td>王五</td>\n",
       "      <td>105</td>\n",
       "      <td>2019-03-01</td>\n",
       "    </tr>\n",
       "    <tr>\n",
       "      <td>A2</td>\n",
       "      <td>李四</td>\n",
       "      <td>102</td>\n",
       "      <td>2019-02-03</td>\n",
       "    </tr>\n",
       "  </tbody>\n",
       "</table>\n",
       "</div>"
      ],
      "text/plain": [
       "     客户姓名  唯一识别码        成交时间\n",
       "订单编号                        \n",
       "A1     张三    101  2019-01-02\n",
       "A2     李四    102  2019-02-03\n",
       "A3     王五    105  2019-03-01\n",
       "A2     李四    102  2019-02-03"
      ]
     },
     "execution_count": 6,
     "metadata": {},
     "output_type": "execute_result"
    }
   ],
   "source": [
    "import pandas as pd\n",
    "df2=pd.read_table(r\".\\file\\test.txt\",sep=\" \",encoding=\"utf-8\")\n",
    "df2.set_index(\"订单编号\")"
   ]
  },
  {
   "cell_type": "raw",
   "metadata": {},
   "source": [
    "在重新设置索引时，可以给set_index()方法传入两个或多个列名。把这种一个表中用多列来做索引的方式称为层次化索引。\n",
    "层次化索引一般用在某一列中含有多个重复值的情况下。\n",
    "a   1  1\n",
    "    2  2\n",
    "b   1  4\n",
    "    2  5\n",
    "c   3  6\n",
    "    4  7"
   ]
  },
  {
   "cell_type": "raw",
   "metadata": {},
   "source": [
    "重命名索引：是指针对现有索引名进行的修改，就是改字段名。\n",
    "在python中重命名索引，利用rename()方法，在rename后的括号里指明要修改的行索引及列索引名"
   ]
  },
  {
   "cell_type": "code",
   "execution_count": 7,
   "metadata": {},
   "outputs": [
    {
     "data": {
      "text/html": [
       "<div>\n",
       "<style scoped>\n",
       "    .dataframe tbody tr th:only-of-type {\n",
       "        vertical-align: middle;\n",
       "    }\n",
       "\n",
       "    .dataframe tbody tr th {\n",
       "        vertical-align: top;\n",
       "    }\n",
       "\n",
       "    .dataframe thead th {\n",
       "        text-align: right;\n",
       "    }\n",
       "</style>\n",
       "<table border=\"1\" class=\"dataframe\">\n",
       "  <thead>\n",
       "    <tr style=\"text-align: right;\">\n",
       "      <th></th>\n",
       "      <th>新订单编号</th>\n",
       "      <th>新客户姓名</th>\n",
       "      <th>唯一识别码</th>\n",
       "      <th>成交时间</th>\n",
       "    </tr>\n",
       "  </thead>\n",
       "  <tbody>\n",
       "    <tr>\n",
       "      <td>0</td>\n",
       "      <td>A1</td>\n",
       "      <td>张三</td>\n",
       "      <td>101</td>\n",
       "      <td>2019-01-02</td>\n",
       "    </tr>\n",
       "    <tr>\n",
       "      <td>1</td>\n",
       "      <td>A2</td>\n",
       "      <td>李四</td>\n",
       "      <td>102</td>\n",
       "      <td>2019-02-03</td>\n",
       "    </tr>\n",
       "    <tr>\n",
       "      <td>2</td>\n",
       "      <td>A3</td>\n",
       "      <td>王五</td>\n",
       "      <td>105</td>\n",
       "      <td>2019-03-01</td>\n",
       "    </tr>\n",
       "    <tr>\n",
       "      <td>3</td>\n",
       "      <td>A2</td>\n",
       "      <td>李四</td>\n",
       "      <td>102</td>\n",
       "      <td>2019-02-03</td>\n",
       "    </tr>\n",
       "  </tbody>\n",
       "</table>\n",
       "</div>"
      ],
      "text/plain": [
       "  新订单编号 新客户姓名  唯一识别码        成交时间\n",
       "0    A1    张三    101  2019-01-02\n",
       "1    A2    李四    102  2019-02-03\n",
       "2    A3    王五    105  2019-03-01\n",
       "3    A2    李四    102  2019-02-03"
      ]
     },
     "execution_count": 7,
     "metadata": {},
     "output_type": "execute_result"
    }
   ],
   "source": [
    "df2.rename(columns={\"订单编号\":\"新订单编号\",\"客户姓名\":\"新客户姓名\"})"
   ]
  },
  {
   "cell_type": "code",
   "execution_count": 8,
   "metadata": {},
   "outputs": [
    {
     "data": {
      "text/html": [
       "<div>\n",
       "<style scoped>\n",
       "    .dataframe tbody tr th:only-of-type {\n",
       "        vertical-align: middle;\n",
       "    }\n",
       "\n",
       "    .dataframe tbody tr th {\n",
       "        vertical-align: top;\n",
       "    }\n",
       "\n",
       "    .dataframe thead th {\n",
       "        text-align: right;\n",
       "    }\n",
       "</style>\n",
       "<table border=\"1\" class=\"dataframe\">\n",
       "  <thead>\n",
       "    <tr style=\"text-align: right;\">\n",
       "      <th></th>\n",
       "      <th>订单编号</th>\n",
       "      <th>客户姓名</th>\n",
       "      <th>唯一识别码</th>\n",
       "      <th>成交时间</th>\n",
       "    </tr>\n",
       "  </thead>\n",
       "  <tbody>\n",
       "    <tr>\n",
       "      <td>0</td>\n",
       "      <td>A1</td>\n",
       "      <td>张三</td>\n",
       "      <td>101</td>\n",
       "      <td>2019-01-02</td>\n",
       "    </tr>\n",
       "    <tr>\n",
       "      <td>一</td>\n",
       "      <td>A2</td>\n",
       "      <td>李四</td>\n",
       "      <td>102</td>\n",
       "      <td>2019-02-03</td>\n",
       "    </tr>\n",
       "    <tr>\n",
       "      <td>二</td>\n",
       "      <td>A3</td>\n",
       "      <td>王五</td>\n",
       "      <td>105</td>\n",
       "      <td>2019-03-01</td>\n",
       "    </tr>\n",
       "    <tr>\n",
       "      <td>3</td>\n",
       "      <td>A2</td>\n",
       "      <td>李四</td>\n",
       "      <td>102</td>\n",
       "      <td>2019-02-03</td>\n",
       "    </tr>\n",
       "  </tbody>\n",
       "</table>\n",
       "</div>"
      ],
      "text/plain": [
       "  订单编号 客户姓名  唯一识别码        成交时间\n",
       "0   A1   张三    101  2019-01-02\n",
       "一   A2   李四    102  2019-02-03\n",
       "二   A3   王五    105  2019-03-01\n",
       "3   A2   李四    102  2019-02-03"
      ]
     },
     "execution_count": 8,
     "metadata": {},
     "output_type": "execute_result"
    }
   ],
   "source": [
    "df2.rename(index={1:\"一\",2:\"二\"})"
   ]
  },
  {
   "cell_type": "raw",
   "metadata": {},
   "source": [
    "重置索引：\n",
    "重置索引主要用在层次化索引表，重置索引是将索引列当做一个columns（列的设置）进行返回。\n",
    "在python中利用的是reset_index()方法；\n",
    "reset_index(level=None,drop=False,inplace=False)\n",
    "    level参数用来指定要将层次化索引的第几级别转化为columns,第一个索引为0级，第二个索引为1级，默认为全部索引，即默认把索引全部转化为columns.\n",
    "    drop参数用来指定是否将原索引删除掉，即不作为一个新的columns,默认为false,即不删除原索引。\n",
    "    inplace参数用来指定是否修改原数据表。"
   ]
  },
  {
   "cell_type": "code",
   "execution_count": 20,
   "metadata": {},
   "outputs": [
    {
     "data": {
      "image/jpeg": "[encoded data removed]",
      "text/plain": [
       "<IPython.core.display.Image object>"
      ]
     },
     "execution_count": 20,
     "metadata": {
      "image/jpeg": {
       "height": 646,
       "width": 735
      }
     },
     "output_type": "execute_result"
    }
   ],
   "source": [
    "from IPython.display import Image\n",
    "Image(filename = \"./file/11.jpg\", width=735, height=646)"
   ]
  },
  {
   "cell_type": "code",
   "execution_count": null,
   "metadata": {},
   "outputs": [],
   "source": []
  },
  {
   "cell_type": "code",
   "execution_count": null,
   "metadata": {},
   "outputs": [],
   "source": []
  }
 ],
 "metadata": {
  "kernelspec": {
   "display_name": "Python 3",
   "language": "python",
   "name": "python3"
  },
  "language_info": {
   "codemirror_mode": {
    "name": "ipython",
    "version": 3
   },
   "file_extension": ".py",
   "mimetype": "text/x-python",
   "name": "python",
   "nbconvert_exporter": "python",
   "pygments_lexer": "ipython3",
   "version": "3.7.3"
  },
  "toc": {
   "base_numbering": 1,
   "nav_menu": {},
   "number_sections": true,
   "sideBar": true,
   "skip_h1_title": false,
   "title_cell": "Table of Contents",
   "title_sidebar": "Contents",
   "toc_cell": false,
   "toc_position": {},
   "toc_section_display": true,
   "toc_window_display": false
  }
 },
 "nbformat": 4,
 "nbformat_minor": 2
}
